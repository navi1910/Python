{
 "cells": [
  {
   "cell_type": "markdown",
   "id": "67ac6199",
   "metadata": {},
   "source": [
    "# Map"
   ]
  },
  {
   "cell_type": "code",
   "execution_count": 3,
   "id": "bc003e79",
   "metadata": {},
   "outputs": [],
   "source": [
    "list1 = [1,2,3,4,5]"
   ]
  },
  {
   "cell_type": "code",
   "execution_count": 4,
   "id": "f28c3320",
   "metadata": {},
   "outputs": [],
   "source": [
    "def func(x):\n",
    "    return x**2"
   ]
  },
  {
   "cell_type": "code",
   "execution_count": 10,
   "id": "42030701",
   "metadata": {
    "scrolled": true
   },
   "outputs": [
    {
     "data": {
      "text/plain": [
       "(1, 4, 9, 16, 25)"
      ]
     },
     "execution_count": 10,
     "metadata": {},
     "output_type": "execute_result"
    }
   ],
   "source": [
    "tuple(map(func, list1))"
   ]
  },
  {
   "cell_type": "markdown",
   "id": "54a36f26",
   "metadata": {},
   "source": [
    "## Filter"
   ]
  },
  {
   "cell_type": "code",
   "execution_count": 12,
   "id": "451d347e",
   "metadata": {},
   "outputs": [
    {
     "data": {
      "text/plain": [
       "[2, 4]"
      ]
     },
     "execution_count": 12,
     "metadata": {},
     "output_type": "execute_result"
    }
   ],
   "source": [
    "list(filter(lambda item:item%2 == 0,list1))"
   ]
  },
  {
   "cell_type": "code",
   "execution_count": 13,
   "id": "d4ae0d75",
   "metadata": {},
   "outputs": [],
   "source": [
    "a = lambda item:item%2 == 0"
   ]
  },
  {
   "cell_type": "code",
   "execution_count": 15,
   "id": "d5776ede",
   "metadata": {},
   "outputs": [
    {
     "data": {
      "text/plain": [
       "False"
      ]
     },
     "execution_count": 15,
     "metadata": {},
     "output_type": "execute_result"
    }
   ],
   "source": [
    "a(3)"
   ]
  },
  {
   "cell_type": "code",
   "execution_count": 16,
   "id": "d35af38c",
   "metadata": {},
   "outputs": [
    {
     "data": {
      "text/plain": [
       "True"
      ]
     },
     "execution_count": 16,
     "metadata": {},
     "output_type": "execute_result"
    }
   ],
   "source": [
    "a(2)"
   ]
  },
  {
   "cell_type": "code",
   "execution_count": 17,
   "id": "c46a569f",
   "metadata": {},
   "outputs": [
    {
     "data": {
      "text/plain": [
       "[1, 2, 3, 4, 5]"
      ]
     },
     "execution_count": 17,
     "metadata": {},
     "output_type": "execute_result"
    }
   ],
   "source": [
    "list1"
   ]
  },
  {
   "cell_type": "code",
   "execution_count": 18,
   "id": "aed9893b",
   "metadata": {},
   "outputs": [
    {
     "data": {
      "text/plain": [
       "<filter at 0x2986f593640>"
      ]
     },
     "execution_count": 18,
     "metadata": {},
     "output_type": "execute_result"
    }
   ],
   "source": [
    "filter(a, list1)"
   ]
  },
  {
   "cell_type": "code",
   "execution_count": 19,
   "id": "747c1d63",
   "metadata": {},
   "outputs": [
    {
     "data": {
      "text/plain": [
       "[2, 4]"
      ]
     },
     "execution_count": 19,
     "metadata": {},
     "output_type": "execute_result"
    }
   ],
   "source": [
    "list(filter(a, list1))"
   ]
  },
  {
   "cell_type": "code",
   "execution_count": 20,
   "id": "983f163c",
   "metadata": {},
   "outputs": [],
   "source": [
    "b = lambda item:item%2 == 1"
   ]
  },
  {
   "cell_type": "code",
   "execution_count": 21,
   "id": "960ee265",
   "metadata": {},
   "outputs": [
    {
     "data": {
      "text/plain": [
       "[1, 3, 5]"
      ]
     },
     "execution_count": 21,
     "metadata": {},
     "output_type": "execute_result"
    }
   ],
   "source": [
    "list(filter(b, list1))"
   ]
  },
  {
   "cell_type": "markdown",
   "id": "333a217b",
   "metadata": {},
   "source": [
    "## Reduce"
   ]
  },
  {
   "cell_type": "code",
   "execution_count": 23,
   "id": "47f46da8",
   "metadata": {},
   "outputs": [],
   "source": [
    "from functools import reduce"
   ]
  },
  {
   "cell_type": "code",
   "execution_count": 24,
   "id": "aafe0926",
   "metadata": {},
   "outputs": [],
   "source": [
    "num = [2,3,4,5]\n",
    "\n",
    "product = reduce(lambda x,y: x*y, num)"
   ]
  },
  {
   "cell_type": "code",
   "execution_count": 25,
   "id": "9e8ebb65",
   "metadata": {},
   "outputs": [
    {
     "data": {
      "text/plain": [
       "120"
      ]
     },
     "execution_count": 25,
     "metadata": {},
     "output_type": "execute_result"
    }
   ],
   "source": [
    "product"
   ]
  },
  {
   "cell_type": "code",
   "execution_count": 26,
   "id": "3932db7c",
   "metadata": {},
   "outputs": [],
   "source": [
    "c = lambda x,y: x*y"
   ]
  },
  {
   "cell_type": "code",
   "execution_count": 27,
   "id": "ac9fb7a7",
   "metadata": {},
   "outputs": [
    {
     "data": {
      "text/plain": [
       "6"
      ]
     },
     "execution_count": 27,
     "metadata": {},
     "output_type": "execute_result"
    }
   ],
   "source": [
    "c(2,3)"
   ]
  },
  {
   "cell_type": "markdown",
   "id": "8394e452",
   "metadata": {},
   "source": [
    "# Frozen Set"
   ]
  },
  {
   "cell_type": "code",
   "execution_count": 35,
   "id": "51cb387f",
   "metadata": {},
   "outputs": [],
   "source": [
    "fruits = frozenset(['Apple', 'Banana', 'Orange', 'Tomato'])"
   ]
  },
  {
   "cell_type": "code",
   "execution_count": 30,
   "id": "9fc1b098",
   "metadata": {},
   "outputs": [
    {
     "data": {
      "text/plain": [
       "frozenset"
      ]
     },
     "execution_count": 30,
     "metadata": {},
     "output_type": "execute_result"
    }
   ],
   "source": [
    "type(fruits)"
   ]
  },
  {
   "cell_type": "code",
   "execution_count": 31,
   "id": "4c5c5730",
   "metadata": {},
   "outputs": [
    {
     "name": "stdout",
     "output_type": "stream",
     "text": [
      "Orange\n",
      "Apple\n",
      "Banana\n"
     ]
    }
   ],
   "source": [
    "for i in fruits:\n",
    "    print(i)"
   ]
  },
  {
   "cell_type": "code",
   "execution_count": 32,
   "id": "8c02d6dc",
   "metadata": {},
   "outputs": [],
   "source": [
    "veg = frozenset(['Carrot', 'Tomato', 'Potato'])"
   ]
  },
  {
   "cell_type": "code",
   "execution_count": 33,
   "id": "e527b0a6",
   "metadata": {},
   "outputs": [
    {
     "name": "stdout",
     "output_type": "stream",
     "text": [
      "Carrot\n",
      "Potato\n",
      "Tomato\n"
     ]
    }
   ],
   "source": [
    "for i in veg:\n",
    "    print(i)"
   ]
  },
  {
   "cell_type": "code",
   "execution_count": 34,
   "id": "e382cb01",
   "metadata": {},
   "outputs": [
    {
     "data": {
      "text/plain": [
       "frozenset({'Apple', 'Banana', 'Carrot', 'Orange', 'Potato', 'Tomato'})"
      ]
     },
     "execution_count": 34,
     "metadata": {},
     "output_type": "execute_result"
    }
   ],
   "source": [
    "fruits.union(veg)"
   ]
  },
  {
   "cell_type": "code",
   "execution_count": 36,
   "id": "042680f1",
   "metadata": {},
   "outputs": [
    {
     "data": {
      "text/plain": [
       "frozenset({'Tomato'})"
      ]
     },
     "execution_count": 36,
     "metadata": {},
     "output_type": "execute_result"
    }
   ],
   "source": [
    "fruits.intersection(veg)"
   ]
  },
  {
   "cell_type": "code",
   "execution_count": 37,
   "id": "9dd0cbbd",
   "metadata": {},
   "outputs": [
    {
     "data": {
      "text/plain": [
       "frozenset({'Apple', 'Banana', 'Orange'})"
      ]
     },
     "execution_count": 37,
     "metadata": {},
     "output_type": "execute_result"
    }
   ],
   "source": [
    "fruits.difference(veg)"
   ]
  },
  {
   "cell_type": "code",
   "execution_count": null,
   "id": "eb6296db",
   "metadata": {},
   "outputs": [],
   "source": []
  }
 ],
 "metadata": {
  "kernelspec": {
   "display_name": "Python 3 (ipykernel)",
   "language": "python",
   "name": "python3"
  },
  "language_info": {
   "codemirror_mode": {
    "name": "ipython",
    "version": 3
   },
   "file_extension": ".py",
   "mimetype": "text/x-python",
   "name": "python",
   "nbconvert_exporter": "python",
   "pygments_lexer": "ipython3",
   "version": "3.9.12"
  }
 },
 "nbformat": 4,
 "nbformat_minor": 5
}
