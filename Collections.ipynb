{
 "cells": [
  {
   "cell_type": "code",
   "execution_count": 10,
   "id": "b67b0584",
   "metadata": {},
   "outputs": [],
   "source": [
    "import collections"
   ]
  },
  {
   "cell_type": "markdown",
   "id": "069c41e5",
   "metadata": {},
   "source": [
    "## Deque -> Doubly Ended Queue"
   ]
  },
  {
   "cell_type": "code",
   "execution_count": 2,
   "id": "3303c262",
   "metadata": {},
   "outputs": [],
   "source": [
    "from collections import deque"
   ]
  },
  {
   "cell_type": "code",
   "execution_count": 4,
   "id": "06aebc2f",
   "metadata": {},
   "outputs": [],
   "source": [
    "queue = deque(['name', 'age', 'DOB'])"
   ]
  },
  {
   "cell_type": "code",
   "execution_count": 5,
   "id": "167032cc",
   "metadata": {},
   "outputs": [
    {
     "name": "stdout",
     "output_type": "stream",
     "text": [
      "deque(['name', 'age', 'DOB'])\n"
     ]
    }
   ],
   "source": [
    "print(queue)"
   ]
  },
  {
   "cell_type": "code",
   "execution_count": 6,
   "id": "7d7f0737",
   "metadata": {},
   "outputs": [],
   "source": [
    "queue.append('gender')"
   ]
  },
  {
   "cell_type": "code",
   "execution_count": 8,
   "id": "cd3466c9",
   "metadata": {},
   "outputs": [],
   "source": [
    "queue.appendleft('ID')"
   ]
  },
  {
   "cell_type": "code",
   "execution_count": 9,
   "id": "19a1ed75",
   "metadata": {},
   "outputs": [
    {
     "data": {
      "text/plain": [
       "deque(['ID', 'name', 'age', 'DOB', 'gender'])"
      ]
     },
     "execution_count": 9,
     "metadata": {},
     "output_type": "execute_result"
    }
   ],
   "source": [
    "queue"
   ]
  },
  {
   "cell_type": "code",
   "execution_count": null,
   "id": "ba5164a8",
   "metadata": {},
   "outputs": [],
   "source": [
    "queue.pop()"
   ]
  },
  {
   "cell_type": "code",
   "execution_count": null,
   "id": "0ec6688b",
   "metadata": {},
   "outputs": [],
   "source": [
    "queue.popleft()"
   ]
  },
  {
   "cell_type": "code",
   "execution_count": 12,
   "id": "6d5394c3",
   "metadata": {},
   "outputs": [],
   "source": [
    "from collections import deque"
   ]
  },
  {
   "cell_type": "code",
   "execution_count": 13,
   "id": "54707197",
   "metadata": {},
   "outputs": [],
   "source": [
    "queue1 = deque([1,2,3,4,5,6,7,8])"
   ]
  },
  {
   "cell_type": "code",
   "execution_count": 14,
   "id": "6944777b",
   "metadata": {},
   "outputs": [
    {
     "data": {
      "text/plain": [
       "deque([1, 2, 3, 4, 5, 6, 7, 8])"
      ]
     },
     "execution_count": 14,
     "metadata": {},
     "output_type": "execute_result"
    }
   ],
   "source": [
    "queue1"
   ]
  },
  {
   "cell_type": "code",
   "execution_count": 15,
   "id": "a607bc09",
   "metadata": {},
   "outputs": [],
   "source": [
    "queue1.append(9)"
   ]
  },
  {
   "cell_type": "code",
   "execution_count": 16,
   "id": "832b09b8",
   "metadata": {},
   "outputs": [
    {
     "data": {
      "text/plain": [
       "deque([1, 2, 3, 4, 5, 6, 7, 8, 9])"
      ]
     },
     "execution_count": 16,
     "metadata": {},
     "output_type": "execute_result"
    }
   ],
   "source": [
    "queue1"
   ]
  },
  {
   "cell_type": "code",
   "execution_count": 17,
   "id": "f2dbaff9",
   "metadata": {},
   "outputs": [],
   "source": [
    "queue1.appendleft(0)"
   ]
  },
  {
   "cell_type": "code",
   "execution_count": 18,
   "id": "736d36fd",
   "metadata": {},
   "outputs": [
    {
     "data": {
      "text/plain": [
       "deque([0, 1, 2, 3, 4, 5, 6, 7, 8, 9])"
      ]
     },
     "execution_count": 18,
     "metadata": {},
     "output_type": "execute_result"
    }
   ],
   "source": [
    "queue1"
   ]
  },
  {
   "cell_type": "code",
   "execution_count": 19,
   "id": "7263e194",
   "metadata": {},
   "outputs": [
    {
     "data": {
      "text/plain": [
       "9"
      ]
     },
     "execution_count": 19,
     "metadata": {},
     "output_type": "execute_result"
    }
   ],
   "source": [
    "queue1.pop()"
   ]
  },
  {
   "cell_type": "code",
   "execution_count": 20,
   "id": "46f9433b",
   "metadata": {},
   "outputs": [
    {
     "data": {
      "text/plain": [
       "0"
      ]
     },
     "execution_count": 20,
     "metadata": {},
     "output_type": "execute_result"
    }
   ],
   "source": [
    "queue1.popleft()"
   ]
  },
  {
   "cell_type": "code",
   "execution_count": 21,
   "id": "e377efc8",
   "metadata": {},
   "outputs": [
    {
     "data": {
      "text/plain": [
       "deque([1, 2, 3, 4, 5, 6, 7, 8])"
      ]
     },
     "execution_count": 21,
     "metadata": {},
     "output_type": "execute_result"
    }
   ],
   "source": [
    "queue1"
   ]
  },
  {
   "cell_type": "code",
   "execution_count": 22,
   "id": "b30ea295",
   "metadata": {},
   "outputs": [
    {
     "data": {
      "text/plain": [
       "1"
      ]
     },
     "execution_count": 22,
     "metadata": {},
     "output_type": "execute_result"
    }
   ],
   "source": [
    "queue1.count(1)"
   ]
  },
  {
   "cell_type": "code",
   "execution_count": 23,
   "id": "2f68e1c0",
   "metadata": {},
   "outputs": [],
   "source": [
    "queue1.appendleft(1)"
   ]
  },
  {
   "cell_type": "code",
   "execution_count": 26,
   "id": "cca7ce6d",
   "metadata": {},
   "outputs": [
    {
     "data": {
      "text/plain": [
       "deque([1, 1, 2, 3, 4, 5, 6, 7, 8])"
      ]
     },
     "execution_count": 26,
     "metadata": {},
     "output_type": "execute_result"
    }
   ],
   "source": [
    "queue1"
   ]
  },
  {
   "cell_type": "code",
   "execution_count": 28,
   "id": "c2861e6a",
   "metadata": {},
   "outputs": [
    {
     "data": {
      "text/plain": [
       "2"
      ]
     },
     "execution_count": 28,
     "metadata": {},
     "output_type": "execute_result"
    }
   ],
   "source": [
    "queue1.count(1)"
   ]
  },
  {
   "cell_type": "code",
   "execution_count": 29,
   "id": "88f097c6",
   "metadata": {},
   "outputs": [
    {
     "data": {
      "text/plain": [
       "1"
      ]
     },
     "execution_count": 29,
     "metadata": {},
     "output_type": "execute_result"
    }
   ],
   "source": [
    "queue1.count(2)"
   ]
  },
  {
   "cell_type": "code",
   "execution_count": 32,
   "id": "4fb60325",
   "metadata": {},
   "outputs": [
    {
     "data": {
      "text/plain": [
       "2"
      ]
     },
     "execution_count": 32,
     "metadata": {},
     "output_type": "execute_result"
    }
   ],
   "source": [
    "queue1.index(2, 0, 5)"
   ]
  },
  {
   "cell_type": "code",
   "execution_count": 35,
   "id": "f7da8427",
   "metadata": {},
   "outputs": [],
   "source": [
    "queue = deque(['Apple', 'Orange', 'Banana', 'Orange', 'Apple'])"
   ]
  },
  {
   "cell_type": "code",
   "execution_count": 37,
   "id": "20699a25",
   "metadata": {},
   "outputs": [
    {
     "data": {
      "text/plain": [
       "4"
      ]
     },
     "execution_count": 37,
     "metadata": {},
     "output_type": "execute_result"
    }
   ],
   "source": [
    "queue.index('Apple', 1, 5)"
   ]
  },
  {
   "cell_type": "code",
   "execution_count": 38,
   "id": "ef70f06b",
   "metadata": {},
   "outputs": [
    {
     "data": {
      "text/plain": [
       "0"
      ]
     },
     "execution_count": 38,
     "metadata": {},
     "output_type": "execute_result"
    }
   ],
   "source": [
    "queue.index('Apple', 0, 5)"
   ]
  },
  {
   "cell_type": "code",
   "execution_count": 39,
   "id": "d4198a4c",
   "metadata": {},
   "outputs": [],
   "source": [
    "queue.remove('Apple')"
   ]
  },
  {
   "cell_type": "code",
   "execution_count": 40,
   "id": "8e39070d",
   "metadata": {},
   "outputs": [
    {
     "data": {
      "text/plain": [
       "deque(['Orange', 'Banana', 'Orange', 'Apple'])"
      ]
     },
     "execution_count": 40,
     "metadata": {},
     "output_type": "execute_result"
    }
   ],
   "source": [
    "queue"
   ]
  },
  {
   "cell_type": "code",
   "execution_count": 41,
   "id": "4dcaa5b9",
   "metadata": {},
   "outputs": [],
   "source": [
    "queue.insert(1, 'Apple')"
   ]
  },
  {
   "cell_type": "code",
   "execution_count": 42,
   "id": "a4448f8c",
   "metadata": {},
   "outputs": [
    {
     "data": {
      "text/plain": [
       "deque(['Orange', 'Apple', 'Banana', 'Orange', 'Apple'])"
      ]
     },
     "execution_count": 42,
     "metadata": {},
     "output_type": "execute_result"
    }
   ],
   "source": [
    "queue"
   ]
  },
  {
   "cell_type": "code",
   "execution_count": 43,
   "id": "5d142a56",
   "metadata": {},
   "outputs": [
    {
     "data": {
      "text/plain": [
       "5"
      ]
     },
     "execution_count": 43,
     "metadata": {},
     "output_type": "execute_result"
    }
   ],
   "source": [
    "len(queue)"
   ]
  },
  {
   "cell_type": "code",
   "execution_count": 44,
   "id": "202326d6",
   "metadata": {},
   "outputs": [],
   "source": [
    "queue.extend(['Kiwi', 'Watermelon', 'strawberry'])"
   ]
  },
  {
   "cell_type": "code",
   "execution_count": 46,
   "id": "7700a4b9",
   "metadata": {},
   "outputs": [],
   "source": [
    "queue.extendleft(['Watermelon'])"
   ]
  },
  {
   "cell_type": "code",
   "execution_count": 70,
   "id": "c205e332",
   "metadata": {},
   "outputs": [],
   "source": [
    "queue.rotate(4)"
   ]
  },
  {
   "cell_type": "code",
   "execution_count": 71,
   "id": "3edf1041",
   "metadata": {},
   "outputs": [
    {
     "data": {
      "text/plain": [
       "deque(['Kiwi',\n",
       "       'Watermelon',\n",
       "       'strawberry',\n",
       "       'Watermelon',\n",
       "       'Orange',\n",
       "       'Apple',\n",
       "       'Banana',\n",
       "       'Orange',\n",
       "       'Apple'])"
      ]
     },
     "execution_count": 71,
     "metadata": {},
     "output_type": "execute_result"
    }
   ],
   "source": [
    "queue"
   ]
  },
  {
   "cell_type": "code",
   "execution_count": 72,
   "id": "0f501301",
   "metadata": {},
   "outputs": [],
   "source": [
    "queue.reverse()"
   ]
  },
  {
   "cell_type": "code",
   "execution_count": 73,
   "id": "42f7419c",
   "metadata": {},
   "outputs": [
    {
     "data": {
      "text/plain": [
       "deque(['Apple',\n",
       "       'Orange',\n",
       "       'Banana',\n",
       "       'Apple',\n",
       "       'Orange',\n",
       "       'Watermelon',\n",
       "       'strawberry',\n",
       "       'Watermelon',\n",
       "       'Kiwi'])"
      ]
     },
     "execution_count": 73,
     "metadata": {},
     "output_type": "execute_result"
    }
   ],
   "source": [
    "queue"
   ]
  },
  {
   "cell_type": "markdown",
   "id": "0808adce",
   "metadata": {},
   "source": [
    "## ChainMap"
   ]
  },
  {
   "cell_type": "code",
   "execution_count": 119,
   "id": "8fb46de8",
   "metadata": {},
   "outputs": [],
   "source": [
    "d1 = {'Name': 'John', 'Age':28, 'Gender':'Male'}\n",
    "d2 = {'Name': 'Mary', 'Age':32, 'Gender':'Female'}\n",
    "d3 = {'Name': 'Sarah', 'Age':40, 'Gender':'Female'}"
   ]
  },
  {
   "cell_type": "code",
   "execution_count": 120,
   "id": "bc72fd0a",
   "metadata": {},
   "outputs": [],
   "source": [
    "from collections import ChainMap"
   ]
  },
  {
   "cell_type": "code",
   "execution_count": 121,
   "id": "2eb27b14",
   "metadata": {},
   "outputs": [],
   "source": [
    "ch = ChainMap(d1, d2, d3)"
   ]
  },
  {
   "cell_type": "code",
   "execution_count": 122,
   "id": "c19bd2c5",
   "metadata": {},
   "outputs": [
    {
     "data": {
      "text/plain": [
       "ChainMap({'Name': 'John', 'Age': 28, 'Gender': 'Male'}, {'Name': 'Mary', 'Age': 32, 'Gender': 'Female'}, {'Name': 'Sarah', 'Age': 40, 'Gender': 'Female'})"
      ]
     },
     "execution_count": 122,
     "metadata": {},
     "output_type": "execute_result"
    }
   ],
   "source": [
    "ch"
   ]
  },
  {
   "cell_type": "code",
   "execution_count": 128,
   "id": "254930fb",
   "metadata": {},
   "outputs": [
    {
     "data": {
      "text/plain": [
       "KeysView(ChainMap({'Name': 'John', 'Age': 28, 'Gender': 'Male'}, {'Name': 'Mary', 'Age': 32, 'Gender': 'Female'}, {'Name': 'Sarah', 'Age': 40, 'Gender': 'Female'}))"
      ]
     },
     "execution_count": 128,
     "metadata": {},
     "output_type": "execute_result"
    }
   ],
   "source": [
    "ch.keys()"
   ]
  },
  {
   "cell_type": "code",
   "execution_count": 132,
   "id": "64f4d2e1",
   "metadata": {},
   "outputs": [
    {
     "data": {
      "text/plain": [
       "ValuesView(ChainMap({'Name': 'John', 'Age': 28, 'Gender': 'Male'}, {'Name': 'Mary', 'Age': 32, 'Gender': 'Female'}, {'Name': 'Sarah', 'Age': 40, 'Gender': 'Female'}))"
      ]
     },
     "execution_count": 132,
     "metadata": {},
     "output_type": "execute_result"
    }
   ],
   "source": [
    "ch.values()"
   ]
  },
  {
   "cell_type": "code",
   "execution_count": 126,
   "id": "0e0a336f",
   "metadata": {},
   "outputs": [
    {
     "data": {
      "text/plain": [
       "[{'Name': 'John', 'Age': 28, 'Gender': 'Male'},\n",
       " {'Name': 'Mary', 'Age': 32, 'Gender': 'Female'},\n",
       " {'Name': 'Sarah', 'Age': 40, 'Gender': 'Female'}]"
      ]
     },
     "execution_count": 126,
     "metadata": {},
     "output_type": "execute_result"
    }
   ],
   "source": [
    "ch.maps"
   ]
  },
  {
   "cell_type": "code",
   "execution_count": 136,
   "id": "f16124ca",
   "metadata": {},
   "outputs": [
    {
     "data": {
      "text/plain": [
       "KeysView(ChainMap({'Name': 'John', 'Age': 28, 'Gender': 'Male'}, {'Name': 'Mary', 'Age': 32, 'Gender': 'Female'}, {'Name': 'Sarah', 'Age': 40, 'Gender': 'Female'}))"
      ]
     },
     "execution_count": 136,
     "metadata": {},
     "output_type": "execute_result"
    }
   ],
   "source": [
    "ch.()"
   ]
  },
  {
   "cell_type": "code",
   "execution_count": 130,
   "id": "25a951c4",
   "metadata": {},
   "outputs": [
    {
     "data": {
      "text/plain": [
       "ChainMap({'Name': 'Max', 'Age': 10, 'Gender': 'Male'}, {'Name': 'John', 'Age': 28, 'Gender': 'Male'}, {'Name': 'Mary', 'Age': 32, 'Gender': 'Female'}, {'Name': 'Sarah', 'Age': 40, 'Gender': 'Female'})"
      ]
     },
     "execution_count": 130,
     "metadata": {},
     "output_type": "execute_result"
    }
   ],
   "source": [
    "ch.new_child({'Name':'Max', 'Age':10, 'Gender':'Male'})"
   ]
  },
  {
   "cell_type": "markdown",
   "id": "80648eed",
   "metadata": {},
   "source": [
    "## Counter"
   ]
  },
  {
   "cell_type": "code",
   "execution_count": 1,
   "id": "581914ae",
   "metadata": {},
   "outputs": [],
   "source": [
    "from collections import Counter"
   ]
  },
  {
   "cell_type": "code",
   "execution_count": 2,
   "id": "11ebaa57",
   "metadata": {},
   "outputs": [],
   "source": [
    "list1 = [10,11,10,11,12]"
   ]
  },
  {
   "cell_type": "code",
   "execution_count": 3,
   "id": "14ed3f00",
   "metadata": {},
   "outputs": [],
   "source": [
    "x = Counter(list1)"
   ]
  },
  {
   "cell_type": "code",
   "execution_count": 4,
   "id": "df75c040",
   "metadata": {},
   "outputs": [
    {
     "name": "stdout",
     "output_type": "stream",
     "text": [
      "Counter({10: 2, 11: 2, 12: 1})\n"
     ]
    }
   ],
   "source": [
    "print(x)"
   ]
  },
  {
   "cell_type": "code",
   "execution_count": 5,
   "id": "ef172cee",
   "metadata": {},
   "outputs": [
    {
     "data": {
      "text/plain": [
       "dict_keys([10, 11, 12])"
      ]
     },
     "execution_count": 5,
     "metadata": {},
     "output_type": "execute_result"
    }
   ],
   "source": [
    "x.keys()"
   ]
  },
  {
   "cell_type": "code",
   "execution_count": 6,
   "id": "18f4b9dd",
   "metadata": {},
   "outputs": [
    {
     "data": {
      "text/plain": [
       "dict_values([2, 2, 1])"
      ]
     },
     "execution_count": 6,
     "metadata": {},
     "output_type": "execute_result"
    }
   ],
   "source": [
    "x.values()"
   ]
  },
  {
   "cell_type": "code",
   "execution_count": 9,
   "id": "f2567347",
   "metadata": {},
   "outputs": [
    {
     "name": "stdout",
     "output_type": "stream",
     "text": [
      "10\n",
      "11\n",
      "12\n"
     ]
    }
   ],
   "source": [
    "for i in x:\n",
    "    print(i)"
   ]
  },
  {
   "cell_type": "code",
   "execution_count": 12,
   "id": "34f05bbe",
   "metadata": {},
   "outputs": [
    {
     "name": "stdout",
     "output_type": "stream",
     "text": [
      "10\n",
      "10\n",
      "11\n",
      "11\n",
      "12\n"
     ]
    }
   ],
   "source": [
    "for i in x.elements():\n",
    "    print(i)"
   ]
  },
  {
   "cell_type": "code",
   "execution_count": 14,
   "id": "00e24830",
   "metadata": {},
   "outputs": [],
   "source": [
    "obj = Counter(a = 2, b = 3, c = 4)"
   ]
  },
  {
   "cell_type": "code",
   "execution_count": 17,
   "id": "79309a7d",
   "metadata": {},
   "outputs": [
    {
     "name": "stdout",
     "output_type": "stream",
     "text": [
      "a\n",
      "a\n",
      "b\n",
      "b\n",
      "b\n",
      "c\n",
      "c\n",
      "c\n",
      "c\n"
     ]
    }
   ],
   "source": [
    "for items in obj.elements():\n",
    "    print(items)"
   ]
  },
  {
   "cell_type": "code",
   "execution_count": 19,
   "id": "746a45d6",
   "metadata": {},
   "outputs": [
    {
     "name": "stdout",
     "output_type": "stream",
     "text": [
      "a : 2\n",
      "a : 2\n",
      "b : 3\n",
      "b : 3\n",
      "b : 3\n",
      "c : 4\n",
      "c : 4\n",
      "c : 4\n",
      "c : 4\n"
     ]
    }
   ],
   "source": [
    "for i in obj.elements():\n",
    "    print('%s : %s' % (i,obj[i]))"
   ]
  },
  {
   "cell_type": "code",
   "execution_count": 22,
   "id": "b27a8fdb",
   "metadata": {},
   "outputs": [
    {
     "name": "stdout",
     "output_type": "stream",
     "text": [
      "10 and 20\n"
     ]
    }
   ],
   "source": [
    "print('%s and %s' % (10, 20))"
   ]
  },
  {
   "cell_type": "markdown",
   "id": "5183ad50",
   "metadata": {},
   "source": [
    "## OrderedDict"
   ]
  },
  {
   "cell_type": "code",
   "execution_count": 23,
   "id": "feec3c52",
   "metadata": {},
   "outputs": [],
   "source": [
    "from collections import OrderedDict"
   ]
  },
  {
   "cell_type": "code",
   "execution_count": 24,
   "id": "ca34fc3f",
   "metadata": {},
   "outputs": [],
   "source": [
    "dict1 = {}"
   ]
  },
  {
   "cell_type": "code",
   "execution_count": 25,
   "id": "5de956b2",
   "metadata": {},
   "outputs": [],
   "source": [
    "dict1['a'] = 1"
   ]
  },
  {
   "cell_type": "code",
   "execution_count": 27,
   "id": "3f9a4502",
   "metadata": {},
   "outputs": [],
   "source": [
    "dict1['b'] = 2"
   ]
  },
  {
   "cell_type": "code",
   "execution_count": 28,
   "id": "ed5e66d9",
   "metadata": {},
   "outputs": [
    {
     "data": {
      "text/plain": [
       "{'a': 1, 'b': 2}"
      ]
     },
     "execution_count": 28,
     "metadata": {},
     "output_type": "execute_result"
    }
   ],
   "source": [
    "dict1"
   ]
  },
  {
   "cell_type": "code",
   "execution_count": 29,
   "id": "5fd1f99f",
   "metadata": {},
   "outputs": [
    {
     "name": "stdout",
     "output_type": "stream",
     "text": [
      "a 1\n",
      "b 2\n"
     ]
    }
   ],
   "source": [
    "for key, value in dict1.items():\n",
    "    print(key, value)"
   ]
  },
  {
   "cell_type": "code",
   "execution_count": 30,
   "id": "c8b8f7ca",
   "metadata": {},
   "outputs": [],
   "source": [
    "dict1['a'] = 3"
   ]
  },
  {
   "cell_type": "code",
   "execution_count": 31,
   "id": "a59dfe9a",
   "metadata": {},
   "outputs": [
    {
     "name": "stdout",
     "output_type": "stream",
     "text": [
      "a 3\n",
      "b 2\n"
     ]
    }
   ],
   "source": [
    "for key, value in dict1.items():\n",
    "    print(key, value)"
   ]
  },
  {
   "cell_type": "code",
   "execution_count": 32,
   "id": "aa4cb960",
   "metadata": {},
   "outputs": [],
   "source": [
    "od = OrderedDict()"
   ]
  },
  {
   "cell_type": "code",
   "execution_count": 33,
   "id": "a2efc935",
   "metadata": {},
   "outputs": [],
   "source": [
    "od['1st'] = 1\n",
    "od['2nd'] = 2\n",
    "od['3rd'] = 3"
   ]
  },
  {
   "cell_type": "code",
   "execution_count": 34,
   "id": "f2a72204",
   "metadata": {},
   "outputs": [
    {
     "data": {
      "text/plain": [
       "OrderedDict([('1st', 1), ('2nd', 2), ('3rd', 3)])"
      ]
     },
     "execution_count": 34,
     "metadata": {},
     "output_type": "execute_result"
    }
   ],
   "source": [
    "od"
   ]
  },
  {
   "cell_type": "code",
   "execution_count": 35,
   "id": "320cd54c",
   "metadata": {},
   "outputs": [],
   "source": [
    "od['1st'] = 4"
   ]
  },
  {
   "cell_type": "code",
   "execution_count": 36,
   "id": "3ae198ce",
   "metadata": {},
   "outputs": [
    {
     "data": {
      "text/plain": [
       "OrderedDict([('1st', 4), ('2nd', 2), ('3rd', 3)])"
      ]
     },
     "execution_count": 36,
     "metadata": {},
     "output_type": "execute_result"
    }
   ],
   "source": [
    "od"
   ]
  },
  {
   "cell_type": "markdown",
   "id": "5970cd3e",
   "metadata": {},
   "source": [
    "## defaultdict"
   ]
  },
  {
   "cell_type": "code",
   "execution_count": 37,
   "id": "bab64091",
   "metadata": {},
   "outputs": [],
   "source": [
    "from collections import defaultdict"
   ]
  },
  {
   "cell_type": "code",
   "execution_count": 38,
   "id": "138223fb",
   "metadata": {},
   "outputs": [],
   "source": [
    "def def_value():\n",
    "    return 'Not Present'"
   ]
  },
  {
   "cell_type": "code",
   "execution_count": 39,
   "id": "feffa433",
   "metadata": {},
   "outputs": [],
   "source": [
    "dict2 = defaultdict(def_value)"
   ]
  },
  {
   "cell_type": "code",
   "execution_count": 40,
   "id": "71660572",
   "metadata": {},
   "outputs": [],
   "source": [
    "dict2['a'] = 1\n",
    "dict2['b'] = 2"
   ]
  },
  {
   "cell_type": "code",
   "execution_count": 41,
   "id": "356b2b26",
   "metadata": {},
   "outputs": [
    {
     "name": "stdout",
     "output_type": "stream",
     "text": [
      "defaultdict(<function def_value at 0x000002208E47F160>, {'a': 1, 'b': 2})\n"
     ]
    }
   ],
   "source": [
    "print(dict2)"
   ]
  },
  {
   "cell_type": "code",
   "execution_count": 42,
   "id": "f961c4ee",
   "metadata": {},
   "outputs": [
    {
     "name": "stdout",
     "output_type": "stream",
     "text": [
      "1\n"
     ]
    }
   ],
   "source": [
    "print(dict2['a'])"
   ]
  },
  {
   "cell_type": "code",
   "execution_count": 43,
   "id": "ed997506",
   "metadata": {},
   "outputs": [
    {
     "name": "stdout",
     "output_type": "stream",
     "text": [
      "Not Present\n"
     ]
    }
   ],
   "source": [
    "print(dict2['c'])"
   ]
  },
  {
   "cell_type": "markdown",
   "id": "e1184138",
   "metadata": {},
   "source": [
    "## UserDict"
   ]
  },
  {
   "cell_type": "code",
   "execution_count": 44,
   "id": "eb08544a",
   "metadata": {},
   "outputs": [],
   "source": [
    "from collections import UserDict"
   ]
  },
  {
   "cell_type": "code",
   "execution_count": 46,
   "id": "98abe40d",
   "metadata": {},
   "outputs": [],
   "source": [
    "class MyDict(UserDict):\n",
    "    def __del__(self):\n",
    "        raise RuntimeError('Deletion not allowed')\n",
    "        \n",
    "    def pop(self, s = None):\n",
    "        raise RuntimeError('Deletion not allowed')"
   ]
  },
  {
   "cell_type": "code",
   "execution_count": 47,
   "id": "b6019d69",
   "metadata": {},
   "outputs": [],
   "source": [
    "d = MyDict({'a' : 1, 'b' : 2})"
   ]
  },
  {
   "cell_type": "code",
   "execution_count": 49,
   "id": "1a769116",
   "metadata": {},
   "outputs": [
    {
     "data": {
      "text/plain": [
       "{'a': 1, 'b': 2}"
      ]
     },
     "execution_count": 49,
     "metadata": {},
     "output_type": "execute_result"
    }
   ],
   "source": [
    "d"
   ]
  },
  {
   "cell_type": "code",
   "execution_count": 48,
   "id": "cfc176b3",
   "metadata": {},
   "outputs": [
    {
     "ename": "RuntimeError",
     "evalue": "Deletion not allowed",
     "output_type": "error",
     "traceback": [
      "\u001b[1;31m---------------------------------------------------------------------------\u001b[0m",
      "\u001b[1;31mRuntimeError\u001b[0m                              Traceback (most recent call last)",
      "Input \u001b[1;32mIn [48]\u001b[0m, in \u001b[0;36m<cell line: 1>\u001b[1;34m()\u001b[0m\n\u001b[1;32m----> 1\u001b[0m \u001b[43md\u001b[49m\u001b[38;5;241;43m.\u001b[39;49m\u001b[43mpop\u001b[49m\u001b[43m(\u001b[49m\u001b[43m)\u001b[49m\n",
      "Input \u001b[1;32mIn [46]\u001b[0m, in \u001b[0;36mMyDict.pop\u001b[1;34m(self, s)\u001b[0m\n\u001b[0;32m      5\u001b[0m \u001b[38;5;28;01mdef\u001b[39;00m \u001b[38;5;21mpop\u001b[39m(\u001b[38;5;28mself\u001b[39m, s \u001b[38;5;241m=\u001b[39m \u001b[38;5;28;01mNone\u001b[39;00m):\n\u001b[1;32m----> 6\u001b[0m     \u001b[38;5;28;01mraise\u001b[39;00m \u001b[38;5;167;01mRuntimeError\u001b[39;00m(\u001b[38;5;124m'\u001b[39m\u001b[38;5;124mDeletion not allowed\u001b[39m\u001b[38;5;124m'\u001b[39m)\n",
      "\u001b[1;31mRuntimeError\u001b[0m: Deletion not allowed"
     ]
    }
   ],
   "source": [
    "d.pop()"
   ]
  },
  {
   "cell_type": "markdown",
   "id": "4a3c9969",
   "metadata": {},
   "source": [
    "## UserList"
   ]
  },
  {
   "cell_type": "code",
   "execution_count": 50,
   "id": "830d1124",
   "metadata": {},
   "outputs": [],
   "source": [
    "from collections import UserList"
   ]
  },
  {
   "cell_type": "code",
   "execution_count": 51,
   "id": "22247388",
   "metadata": {},
   "outputs": [],
   "source": [
    "class MyList(UserList):\n",
    "    def __del__(self):\n",
    "        raise RuntimeError('Deletion not allowed')\n",
    "        \n",
    "    def remove(self, s = None):\n",
    "        raise RuntimeError('Deletion not allowed')"
   ]
  },
  {
   "cell_type": "code",
   "execution_count": 52,
   "id": "e1944efa",
   "metadata": {},
   "outputs": [],
   "source": [
    "l1 = MyList([1,2,3,4,5])"
   ]
  },
  {
   "cell_type": "code",
   "execution_count": 53,
   "id": "3189b128",
   "metadata": {},
   "outputs": [
    {
     "ename": "RuntimeError",
     "evalue": "Deletion not allowed",
     "output_type": "error",
     "traceback": [
      "\u001b[1;31m---------------------------------------------------------------------------\u001b[0m",
      "\u001b[1;31mRuntimeError\u001b[0m                              Traceback (most recent call last)",
      "Input \u001b[1;32mIn [53]\u001b[0m, in \u001b[0;36m<cell line: 1>\u001b[1;34m()\u001b[0m\n\u001b[1;32m----> 1\u001b[0m \u001b[43ml1\u001b[49m\u001b[38;5;241;43m.\u001b[39;49m\u001b[43mremove\u001b[49m\u001b[43m(\u001b[49m\u001b[38;5;241;43m2\u001b[39;49m\u001b[43m)\u001b[49m\n",
      "Input \u001b[1;32mIn [51]\u001b[0m, in \u001b[0;36mMyList.remove\u001b[1;34m(self, s)\u001b[0m\n\u001b[0;32m      5\u001b[0m \u001b[38;5;28;01mdef\u001b[39;00m \u001b[38;5;21mremove\u001b[39m(\u001b[38;5;28mself\u001b[39m, s \u001b[38;5;241m=\u001b[39m \u001b[38;5;28;01mNone\u001b[39;00m):\n\u001b[1;32m----> 6\u001b[0m     \u001b[38;5;28;01mraise\u001b[39;00m \u001b[38;5;167;01mRuntimeError\u001b[39;00m(\u001b[38;5;124m'\u001b[39m\u001b[38;5;124mDeletion not allowed\u001b[39m\u001b[38;5;124m'\u001b[39m)\n",
      "\u001b[1;31mRuntimeError\u001b[0m: Deletion not allowed"
     ]
    }
   ],
   "source": [
    "l1.remove(2)"
   ]
  },
  {
   "cell_type": "code",
   "execution_count": 54,
   "id": "c7dc0bd2",
   "metadata": {},
   "outputs": [],
   "source": [
    "list2 = [1,2,3,4,5]"
   ]
  },
  {
   "cell_type": "code",
   "execution_count": 55,
   "id": "15aa239c",
   "metadata": {},
   "outputs": [],
   "source": [
    "list2.remove(2)"
   ]
  },
  {
   "cell_type": "code",
   "execution_count": 56,
   "id": "c29c4044",
   "metadata": {},
   "outputs": [
    {
     "data": {
      "text/plain": [
       "[1, 3, 4, 5]"
      ]
     },
     "execution_count": 56,
     "metadata": {},
     "output_type": "execute_result"
    }
   ],
   "source": [
    "list2"
   ]
  },
  {
   "cell_type": "code",
   "execution_count": null,
   "id": "406e3eaa",
   "metadata": {},
   "outputs": [],
   "source": []
  }
 ],
 "metadata": {
  "kernelspec": {
   "display_name": "Python 3 (ipykernel)",
   "language": "python",
   "name": "python3"
  },
  "language_info": {
   "codemirror_mode": {
    "name": "ipython",
    "version": 3
   },
   "file_extension": ".py",
   "mimetype": "text/x-python",
   "name": "python",
   "nbconvert_exporter": "python",
   "pygments_lexer": "ipython3",
   "version": "3.9.12"
  }
 },
 "nbformat": 4,
 "nbformat_minor": 5
}
