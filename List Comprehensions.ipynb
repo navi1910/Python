{
 "cells": [
  {
   "cell_type": "code",
   "execution_count": 6,
   "id": "22512622",
   "metadata": {},
   "outputs": [],
   "source": [
    "fruits = ['apple','z', 'banana', 'kiwi', 'cherry', 'orange']"
   ]
  },
  {
   "cell_type": "code",
   "execution_count": 8,
   "id": "56ed2242",
   "metadata": {},
   "outputs": [
    {
     "data": {
      "text/plain": [
       "['z', 'orange', 'kiwi', 'cherry', 'banana', 'apple']"
      ]
     },
     "execution_count": 8,
     "metadata": {},
     "output_type": "execute_result"
    }
   ],
   "source": [
    "sorted(fruits, key = lambda x:x[0], reverse= True)"
   ]
  },
  {
   "cell_type": "code",
   "execution_count": 13,
   "id": "a6e2fe29",
   "metadata": {},
   "outputs": [
    {
     "data": {
      "text/plain": [
       "'apple,banana,cherry,kiwi,orange,z'"
      ]
     },
     "execution_count": 13,
     "metadata": {},
     "output_type": "execute_result"
    }
   ],
   "source": [
    "','.join(sorted(fruits))"
   ]
  },
  {
   "cell_type": "code",
   "execution_count": 14,
   "id": "25714ef1",
   "metadata": {},
   "outputs": [
    {
     "data": {
      "text/plain": [
       "['apple', 'z', 'banana', 'kiwi', 'cherry', 'orange']"
      ]
     },
     "execution_count": 14,
     "metadata": {},
     "output_type": "execute_result"
    }
   ],
   "source": [
    "fruits"
   ]
  },
  {
   "cell_type": "code",
   "execution_count": 15,
   "id": "e3c3968e",
   "metadata": {},
   "outputs": [
    {
     "name": "stdout",
     "output_type": "stream",
     "text": [
      "apple\n",
      "z\n",
      "banana\n",
      "kiwi\n",
      "cherry\n",
      "orange\n"
     ]
    }
   ],
   "source": [
    "for item in fruits:\n",
    "    print(item)"
   ]
  },
  {
   "cell_type": "code",
   "execution_count": 16,
   "id": "cc9198a6",
   "metadata": {},
   "outputs": [
    {
     "name": "stdout",
     "output_type": "stream",
     "text": [
      "apple\n",
      "banana\n",
      "orange\n"
     ]
    }
   ],
   "source": [
    "for item in fruits:\n",
    "    if 'a' in item: \n",
    "        print(item)"
   ]
  },
  {
   "cell_type": "code",
   "execution_count": 19,
   "id": "998ed66d",
   "metadata": {},
   "outputs": [],
   "source": [
    "list1 = []\n",
    "\n",
    "for item in fruits:\n",
    "    if item[-1] == 'e': \n",
    "        list1.append(item)"
   ]
  },
  {
   "cell_type": "code",
   "execution_count": 20,
   "id": "8e66eda8",
   "metadata": {},
   "outputs": [
    {
     "data": {
      "text/plain": [
       "['apple', 'orange']"
      ]
     },
     "execution_count": 20,
     "metadata": {},
     "output_type": "execute_result"
    }
   ],
   "source": [
    "list1"
   ]
  },
  {
   "cell_type": "code",
   "execution_count": 23,
   "id": "ffb44c75",
   "metadata": {},
   "outputs": [
    {
     "data": {
      "text/plain": [
       "['a', 'z', 'b', 'k', 'c', 'o']"
      ]
     },
     "execution_count": 23,
     "metadata": {},
     "output_type": "execute_result"
    }
   ],
   "source": [
    "## List Comprehension\n",
    "\n",
    "[x[0] for x in fruits]"
   ]
  },
  {
   "cell_type": "code",
   "execution_count": 24,
   "id": "d45c8a13",
   "metadata": {},
   "outputs": [
    {
     "data": {
      "text/plain": [
       "['apple', 'z', 'banana', 'kiwi', 'cherry', 'orange']"
      ]
     },
     "execution_count": 24,
     "metadata": {},
     "output_type": "execute_result"
    }
   ],
   "source": [
    "[x for x in fruits]"
   ]
  },
  {
   "cell_type": "code",
   "execution_count": 26,
   "id": "cd56cd72",
   "metadata": {},
   "outputs": [],
   "source": [
    "list2 = [x for x in fruits if 'a' in x]"
   ]
  },
  {
   "cell_type": "code",
   "execution_count": 27,
   "id": "90c30bc0",
   "metadata": {},
   "outputs": [
    {
     "data": {
      "text/plain": [
       "['apple', 'banana', 'orange']"
      ]
     },
     "execution_count": 27,
     "metadata": {},
     "output_type": "execute_result"
    }
   ],
   "source": [
    "list2"
   ]
  },
  {
   "cell_type": "code",
   "execution_count": 29,
   "id": "66f2435d",
   "metadata": {},
   "outputs": [
    {
     "data": {
      "text/plain": [
       "['apple', 'banana', 'orange']"
      ]
     },
     "execution_count": 29,
     "metadata": {},
     "output_type": "execute_result"
    }
   ],
   "source": [
    "[x for x in fruits if 'a' in x]"
   ]
  },
  {
   "cell_type": "code",
   "execution_count": 39,
   "id": "22540b01",
   "metadata": {},
   "outputs": [
    {
     "data": {
      "text/plain": [
       "['apple', 'z', 'orange', 'kiwi', 'cherry', 'orange']"
      ]
     },
     "execution_count": 39,
     "metadata": {},
     "output_type": "execute_result"
    }
   ],
   "source": [
    "[x if x != 'banana' else 'orange' for x in fruits]"
   ]
  },
  {
   "cell_type": "code",
   "execution_count": 44,
   "id": "7b152c1f",
   "metadata": {},
   "outputs": [
    {
     "data": {
      "text/plain": [
       "['apple', 'z', 'banana', 'kiwi', 'cherry', 'orange']"
      ]
     },
     "execution_count": 44,
     "metadata": {},
     "output_type": "execute_result"
    }
   ],
   "source": [
    "fruits"
   ]
  },
  {
   "cell_type": "code",
   "execution_count": 51,
   "id": "9be140f8",
   "metadata": {},
   "outputs": [
    {
     "data": {
      "text/plain": [
       "['apple', 'No a found', 'banana', 'No a found', 'No a found', 'orange']"
      ]
     },
     "execution_count": 51,
     "metadata": {},
     "output_type": "execute_result"
    }
   ],
   "source": [
    "[x if 'a' in x else 'No a found' for x in fruits]"
   ]
  },
  {
   "cell_type": "code",
   "execution_count": 50,
   "id": "8836f913",
   "metadata": {},
   "outputs": [
    {
     "data": {
      "text/plain": [
       "('apple', 'No a found', 'banana', 'No a found', 'No a found', 'orange')"
      ]
     },
     "execution_count": 50,
     "metadata": {},
     "output_type": "execute_result"
    }
   ],
   "source": [
    "tuple(x if 'a' in x else 'No a found' for x in fruits)"
   ]
  },
  {
   "cell_type": "code",
   "execution_count": 49,
   "id": "2056e836",
   "metadata": {},
   "outputs": [
    {
     "data": {
      "text/plain": [
       "['apple', 'No a found', 'banana', 'No a found', 'No a found', 'orange']"
      ]
     },
     "execution_count": 49,
     "metadata": {},
     "output_type": "execute_result"
    }
   ],
   "source": [
    "list(x if 'a' in x else 'No a found' for x in fruits)"
   ]
  }
 ],
 "metadata": {
  "kernelspec": {
   "display_name": "Python 3 (ipykernel)",
   "language": "python",
   "name": "python3"
  },
  "language_info": {
   "codemirror_mode": {
    "name": "ipython",
    "version": 3
   },
   "file_extension": ".py",
   "mimetype": "text/x-python",
   "name": "python",
   "nbconvert_exporter": "python",
   "pygments_lexer": "ipython3",
   "version": "3.9.12"
  }
 },
 "nbformat": 4,
 "nbformat_minor": 5
}
