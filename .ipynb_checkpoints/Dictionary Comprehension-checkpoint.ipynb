{
 "cells": [
  {
   "cell_type": "code",
   "execution_count": 1,
   "id": "fd051575",
   "metadata": {},
   "outputs": [],
   "source": [
    "keys = ['Name', 'age', 'gender', 'id']\n",
    "values = ['John', 28, 'Male', '001']"
   ]
  },
  {
   "cell_type": "code",
   "execution_count": 2,
   "id": "001ac8c7",
   "metadata": {},
   "outputs": [
    {
     "data": {
      "text/plain": [
       "{'Name': 'John'}"
      ]
     },
     "execution_count": 2,
     "metadata": {},
     "output_type": "execute_result"
    }
   ],
   "source": [
    "dict(Name='John')"
   ]
  },
  {
   "cell_type": "code",
   "execution_count": 7,
   "id": "3acdac69",
   "metadata": {},
   "outputs": [
    {
     "data": {
      "text/plain": [
       "<zip at 0x197270200c0>"
      ]
     },
     "execution_count": 7,
     "metadata": {},
     "output_type": "execute_result"
    }
   ],
   "source": [
    "zip(keys,values)"
   ]
  },
  {
   "cell_type": "code",
   "execution_count": 3,
   "id": "8b35c8f6",
   "metadata": {
    "scrolled": true
   },
   "outputs": [
    {
     "data": {
      "text/plain": [
       "{'Name': 'John', 'age': 28, 'gender': 'Male', 'id': '001'}"
      ]
     },
     "execution_count": 3,
     "metadata": {},
     "output_type": "execute_result"
    }
   ],
   "source": [
    "{k:v for (k,v) in zip(keys,values)}"
   ]
  },
  {
   "cell_type": "code",
   "execution_count": 8,
   "id": "95f39032",
   "metadata": {},
   "outputs": [],
   "source": [
    "dict1 = {k:v for (k,v) in zip(keys,values)}"
   ]
  },
  {
   "cell_type": "code",
   "execution_count": 10,
   "id": "372c2495",
   "metadata": {},
   "outputs": [
    {
     "name": "stdout",
     "output_type": "stream",
     "text": [
      "John\n"
     ]
    }
   ],
   "source": [
    "print(dict1['Name'])"
   ]
  },
  {
   "cell_type": "code",
   "execution_count": 15,
   "id": "4fc9482a",
   "metadata": {},
   "outputs": [
    {
     "data": {
      "text/plain": [
       "[0, 1, 2, 3, 4]"
      ]
     },
     "execution_count": 15,
     "metadata": {},
     "output_type": "execute_result"
    }
   ],
   "source": [
    "list(range(5))"
   ]
  },
  {
   "cell_type": "code",
   "execution_count": 11,
   "id": "eeac53a6",
   "metadata": {
    "scrolled": true
   },
   "outputs": [
    {
     "data": {
      "text/plain": [
       "{0: False, 1: False, 2: False, 3: False, 4: False}"
      ]
     },
     "execution_count": 11,
     "metadata": {},
     "output_type": "execute_result"
    }
   ],
   "source": [
    "dict.fromkeys(range(5), False)"
   ]
  },
  {
   "cell_type": "code",
   "execution_count": 12,
   "id": "2a8c1282",
   "metadata": {},
   "outputs": [
    {
     "data": {
      "text/plain": [
       "{0: 'hello', 1: 'hello', 2: 'hello', 3: 'hello', 4: 'hello'}"
      ]
     },
     "execution_count": 12,
     "metadata": {},
     "output_type": "execute_result"
    }
   ],
   "source": [
    "dict.fromkeys(range(5), \"hello\")"
   ]
  },
  {
   "cell_type": "code",
   "execution_count": 16,
   "id": "b12fff36",
   "metadata": {},
   "outputs": [
    {
     "data": {
      "text/plain": [
       "{0: 1, 1: 2, 2: 3, 3: 4, 4: 5}"
      ]
     },
     "execution_count": 16,
     "metadata": {},
     "output_type": "execute_result"
    }
   ],
   "source": [
    "{x:x+1 for x in range(5)}"
   ]
  },
  {
   "cell_type": "code",
   "execution_count": 17,
   "id": "6aff7e17",
   "metadata": {},
   "outputs": [],
   "source": [
    "fruits = ['apple', 'banana','cherry', 'orange']"
   ]
  },
  {
   "cell_type": "code",
   "execution_count": 18,
   "id": "ddf6795a",
   "metadata": {},
   "outputs": [
    {
     "data": {
      "text/plain": [
       "{'a': 'apple', 'b': 'banana', 'c': 'cherry', 'o': 'orange'}"
      ]
     },
     "execution_count": 18,
     "metadata": {},
     "output_type": "execute_result"
    }
   ],
   "source": [
    "{x[0]:x for x in fruits}"
   ]
  },
  {
   "cell_type": "code",
   "execution_count": 19,
   "id": "d4ce8da6",
   "metadata": {},
   "outputs": [
    {
     "data": {
      "text/plain": [
       "{'a': 'apple', 'b': 'banana', 'o': 'orange'}"
      ]
     },
     "execution_count": 19,
     "metadata": {},
     "output_type": "execute_result"
    }
   ],
   "source": [
    "{x[0]:x for x in fruits if 'a' in x}"
   ]
  },
  {
   "cell_type": "code",
   "execution_count": 24,
   "id": "54c5f732",
   "metadata": {},
   "outputs": [
    {
     "data": {
      "text/plain": [
       "{'a': 'apple', 'b': 'banana', 'c': 'a Not found', 'o': 'orange'}"
      ]
     },
     "execution_count": 24,
     "metadata": {},
     "output_type": "execute_result"
    }
   ],
   "source": [
    "{x[0]:x if 'a' in x else 'a Not found' for x in fruits}"
   ]
  },
  {
   "cell_type": "code",
   "execution_count": 25,
   "id": "5bf7deec",
   "metadata": {},
   "outputs": [],
   "source": [
    "string = 'JOHN'"
   ]
  },
  {
   "cell_type": "code",
   "execution_count": null,
   "id": "a4acc1a2",
   "metadata": {},
   "outputs": [],
   "source": [
    "{y: x+y for y in string}"
   ]
  },
  {
   "cell_type": "code",
   "execution_count": 26,
   "id": "efc3b8e4",
   "metadata": {},
   "outputs": [
    {
     "data": {
      "text/plain": [
       "{'J': {'J': 'JJ', 'O': 'JO', 'H': 'JH', 'N': 'JN'},\n",
       " 'O': {'J': 'OJ', 'O': 'OO', 'H': 'OH', 'N': 'ON'},\n",
       " 'H': {'J': 'HJ', 'O': 'HO', 'H': 'HH', 'N': 'HN'},\n",
       " 'N': {'J': 'NJ', 'O': 'NO', 'H': 'NH', 'N': 'NN'}}"
      ]
     },
     "execution_count": 26,
     "metadata": {},
     "output_type": "execute_result"
    }
   ],
   "source": [
    "{x:{y: x+y for y in string} for x in string}"
   ]
  },
  {
   "cell_type": "code",
   "execution_count": null,
   "id": "220718d1",
   "metadata": {},
   "outputs": [],
   "source": []
  }
 ],
 "metadata": {
  "kernelspec": {
   "display_name": "Python 3 (ipykernel)",
   "language": "python",
   "name": "python3"
  },
  "language_info": {
   "codemirror_mode": {
    "name": "ipython",
    "version": 3
   },
   "file_extension": ".py",
   "mimetype": "text/x-python",
   "name": "python",
   "nbconvert_exporter": "python",
   "pygments_lexer": "ipython3",
   "version": "3.9.12"
  }
 },
 "nbformat": 4,
 "nbformat_minor": 5
}
