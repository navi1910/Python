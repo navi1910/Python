{
 "cells": [
  {
   "cell_type": "code",
   "execution_count": 1,
   "id": "42a01b9b",
   "metadata": {},
   "outputs": [],
   "source": [
    "# Dictionaries, sets, lists and Tuples are all iterable objects. They have iter() method."
   ]
  },
  {
   "cell_type": "code",
   "execution_count": 2,
   "id": "dc884989",
   "metadata": {},
   "outputs": [],
   "source": [
    "mytuple = ('apple', 'banana', 'mango')"
   ]
  },
  {
   "cell_type": "code",
   "execution_count": 3,
   "id": "89fd1d72",
   "metadata": {},
   "outputs": [],
   "source": [
    "myit = iter(mytuple)"
   ]
  },
  {
   "cell_type": "code",
   "execution_count": 4,
   "id": "f4a0e951",
   "metadata": {},
   "outputs": [
    {
     "name": "stdout",
     "output_type": "stream",
     "text": [
      "apple\n"
     ]
    }
   ],
   "source": [
    "print(next(myit))"
   ]
  },
  {
   "cell_type": "code",
   "execution_count": 5,
   "id": "cf6a747a",
   "metadata": {},
   "outputs": [
    {
     "name": "stdout",
     "output_type": "stream",
     "text": [
      "banana\n"
     ]
    }
   ],
   "source": [
    "print(next(myit))"
   ]
  },
  {
   "cell_type": "code",
   "execution_count": 6,
   "id": "53bc533a",
   "metadata": {},
   "outputs": [
    {
     "name": "stdout",
     "output_type": "stream",
     "text": [
      "mango\n"
     ]
    }
   ],
   "source": [
    "print(next(myit))"
   ]
  },
  {
   "cell_type": "code",
   "execution_count": 7,
   "id": "8ea8abad",
   "metadata": {},
   "outputs": [],
   "source": [
    "mystr = 'banana'\n",
    "\n",
    "myit = iter(mystr)"
   ]
  },
  {
   "cell_type": "code",
   "execution_count": 8,
   "id": "d89f0892",
   "metadata": {},
   "outputs": [
    {
     "name": "stdout",
     "output_type": "stream",
     "text": [
      "b\n"
     ]
    }
   ],
   "source": [
    "print(next(myit))"
   ]
  },
  {
   "cell_type": "code",
   "execution_count": 9,
   "id": "ffdfd29b",
   "metadata": {},
   "outputs": [
    {
     "name": "stdout",
     "output_type": "stream",
     "text": [
      "a\n"
     ]
    }
   ],
   "source": [
    "print(next(myit))"
   ]
  },
  {
   "cell_type": "code",
   "execution_count": 10,
   "id": "04948667",
   "metadata": {},
   "outputs": [
    {
     "name": "stdout",
     "output_type": "stream",
     "text": [
      "apple\n",
      "banana\n",
      "mango\n"
     ]
    }
   ],
   "source": [
    "for x in mytuple: # For loop actually creates an iterator object and excecutes the next() method for eacg loop.\n",
    "    print(x)"
   ]
  },
  {
   "cell_type": "code",
   "execution_count": 28,
   "id": "02675d56",
   "metadata": {},
   "outputs": [],
   "source": [
    "class MyNumbers:\n",
    "    def __iter__(self):\n",
    "        self.a = 1\n",
    "        return self\n",
    "    \n",
    "    def __next__(self):\n",
    "        x = self.a\n",
    "        self.a += 1\n",
    "        return x"
   ]
  },
  {
   "cell_type": "code",
   "execution_count": 29,
   "id": "32099aca",
   "metadata": {},
   "outputs": [],
   "source": [
    "myclass = MyNumbers()\n",
    "myiter = iter(myclass)"
   ]
  },
  {
   "cell_type": "code",
   "execution_count": 30,
   "id": "b82ebe94",
   "metadata": {},
   "outputs": [
    {
     "name": "stdout",
     "output_type": "stream",
     "text": [
      "1\n"
     ]
    }
   ],
   "source": [
    "print(next(myiter))"
   ]
  },
  {
   "cell_type": "code",
   "execution_count": 33,
   "id": "972a7cb7",
   "metadata": {},
   "outputs": [],
   "source": [
    "# Stop after 20 iterations\n",
    "\n",
    "class MyNumbers:\n",
    "    def __iter__(self):\n",
    "        self.a = 1\n",
    "        return self\n",
    "    \n",
    "    def __next__(self):\n",
    "        if self.a <= 20:\n",
    "            x = self.a\n",
    "            self.a += 1\n",
    "            return x\n",
    "        else:\n",
    "            raise StopIteration"
   ]
  },
  {
   "cell_type": "code",
   "execution_count": 34,
   "id": "438af3bf",
   "metadata": {},
   "outputs": [],
   "source": [
    "myclass = MyNumbers()\n",
    "myiter = iter(myclass)"
   ]
  },
  {
   "cell_type": "code",
   "execution_count": 35,
   "id": "2af5f3f9",
   "metadata": {},
   "outputs": [
    {
     "name": "stdout",
     "output_type": "stream",
     "text": [
      "1\n",
      "2\n",
      "3\n",
      "4\n",
      "5\n",
      "6\n",
      "7\n",
      "8\n",
      "9\n",
      "10\n",
      "11\n",
      "12\n",
      "13\n",
      "14\n",
      "15\n",
      "16\n",
      "17\n",
      "18\n",
      "19\n",
      "20\n"
     ]
    }
   ],
   "source": [
    "for x in myiter:\n",
    "    print(x)"
   ]
  },
  {
   "cell_type": "code",
   "execution_count": null,
   "id": "e801c478",
   "metadata": {},
   "outputs": [],
   "source": []
  }
 ],
 "metadata": {
  "kernelspec": {
   "display_name": "Python 3 (ipykernel)",
   "language": "python",
   "name": "python3"
  },
  "language_info": {
   "codemirror_mode": {
    "name": "ipython",
    "version": 3
   },
   "file_extension": ".py",
   "mimetype": "text/x-python",
   "name": "python",
   "nbconvert_exporter": "python",
   "pygments_lexer": "ipython3",
   "version": "3.9.12"
  }
 },
 "nbformat": 4,
 "nbformat_minor": 5
}
