{
 "cells": [
  {
   "cell_type": "code",
   "execution_count": 10,
   "id": "b67b0584",
   "metadata": {},
   "outputs": [],
   "source": [
    "import collections"
   ]
  },
  {
   "cell_type": "markdown",
   "id": "069c41e5",
   "metadata": {},
   "source": [
    "## Deque -> Doubly Ended Queue"
   ]
  },
  {
   "cell_type": "code",
   "execution_count": 2,
   "id": "3303c262",
   "metadata": {},
   "outputs": [],
   "source": [
    "from collections import deque"
   ]
  },
  {
   "cell_type": "code",
   "execution_count": 4,
   "id": "06aebc2f",
   "metadata": {},
   "outputs": [],
   "source": [
    "queue = deque(['name', 'age', 'DOB'])"
   ]
  },
  {
   "cell_type": "code",
   "execution_count": 5,
   "id": "167032cc",
   "metadata": {},
   "outputs": [
    {
     "name": "stdout",
     "output_type": "stream",
     "text": [
      "deque(['name', 'age', 'DOB'])\n"
     ]
    }
   ],
   "source": [
    "print(queue)"
   ]
  },
  {
   "cell_type": "code",
   "execution_count": 6,
   "id": "7d7f0737",
   "metadata": {},
   "outputs": [],
   "source": [
    "queue.append('gender')"
   ]
  },
  {
   "cell_type": "code",
   "execution_count": 8,
   "id": "cd3466c9",
   "metadata": {},
   "outputs": [],
   "source": [
    "queue.appendleft('ID')"
   ]
  },
  {
   "cell_type": "code",
   "execution_count": 9,
   "id": "19a1ed75",
   "metadata": {},
   "outputs": [
    {
     "data": {
      "text/plain": [
       "deque(['ID', 'name', 'age', 'DOB', 'gender'])"
      ]
     },
     "execution_count": 9,
     "metadata": {},
     "output_type": "execute_result"
    }
   ],
   "source": [
    "queue"
   ]
  },
  {
   "cell_type": "code",
   "execution_count": null,
   "id": "ba5164a8",
   "metadata": {},
   "outputs": [],
   "source": [
    "queue.pop()"
   ]
  },
  {
   "cell_type": "code",
   "execution_count": null,
   "id": "0ec6688b",
   "metadata": {},
   "outputs": [],
   "source": [
    "queue.popleft()"
   ]
  },
  {
   "cell_type": "code",
   "execution_count": 12,
   "id": "6d5394c3",
   "metadata": {},
   "outputs": [],
   "source": [
    "from collections import deque"
   ]
  },
  {
   "cell_type": "code",
   "execution_count": 13,
   "id": "54707197",
   "metadata": {},
   "outputs": [],
   "source": [
    "queue1 = deque([1,2,3,4,5,6,7,8])"
   ]
  },
  {
   "cell_type": "code",
   "execution_count": 14,
   "id": "6944777b",
   "metadata": {},
   "outputs": [
    {
     "data": {
      "text/plain": [
       "deque([1, 2, 3, 4, 5, 6, 7, 8])"
      ]
     },
     "execution_count": 14,
     "metadata": {},
     "output_type": "execute_result"
    }
   ],
   "source": [
    "queue1"
   ]
  },
  {
   "cell_type": "code",
   "execution_count": 15,
   "id": "a607bc09",
   "metadata": {},
   "outputs": [],
   "source": [
    "queue1.append(9)"
   ]
  },
  {
   "cell_type": "code",
   "execution_count": 16,
   "id": "832b09b8",
   "metadata": {},
   "outputs": [
    {
     "data": {
      "text/plain": [
       "deque([1, 2, 3, 4, 5, 6, 7, 8, 9])"
      ]
     },
     "execution_count": 16,
     "metadata": {},
     "output_type": "execute_result"
    }
   ],
   "source": [
    "queue1"
   ]
  },
  {
   "cell_type": "code",
   "execution_count": 17,
   "id": "f2dbaff9",
   "metadata": {},
   "outputs": [],
   "source": [
    "queue1.appendleft(0)"
   ]
  },
  {
   "cell_type": "code",
   "execution_count": 18,
   "id": "736d36fd",
   "metadata": {},
   "outputs": [
    {
     "data": {
      "text/plain": [
       "deque([0, 1, 2, 3, 4, 5, 6, 7, 8, 9])"
      ]
     },
     "execution_count": 18,
     "metadata": {},
     "output_type": "execute_result"
    }
   ],
   "source": [
    "queue1"
   ]
  },
  {
   "cell_type": "code",
   "execution_count": 19,
   "id": "7263e194",
   "metadata": {},
   "outputs": [
    {
     "data": {
      "text/plain": [
       "9"
      ]
     },
     "execution_count": 19,
     "metadata": {},
     "output_type": "execute_result"
    }
   ],
   "source": [
    "queue1.pop()"
   ]
  },
  {
   "cell_type": "code",
   "execution_count": 20,
   "id": "46f9433b",
   "metadata": {},
   "outputs": [
    {
     "data": {
      "text/plain": [
       "0"
      ]
     },
     "execution_count": 20,
     "metadata": {},
     "output_type": "execute_result"
    }
   ],
   "source": [
    "queue1.popleft()"
   ]
  },
  {
   "cell_type": "code",
   "execution_count": 21,
   "id": "e377efc8",
   "metadata": {},
   "outputs": [
    {
     "data": {
      "text/plain": [
       "deque([1, 2, 3, 4, 5, 6, 7, 8])"
      ]
     },
     "execution_count": 21,
     "metadata": {},
     "output_type": "execute_result"
    }
   ],
   "source": [
    "queue1"
   ]
  },
  {
   "cell_type": "code",
   "execution_count": 22,
   "id": "b30ea295",
   "metadata": {},
   "outputs": [
    {
     "data": {
      "text/plain": [
       "1"
      ]
     },
     "execution_count": 22,
     "metadata": {},
     "output_type": "execute_result"
    }
   ],
   "source": [
    "queue1.count(1)"
   ]
  },
  {
   "cell_type": "code",
   "execution_count": 23,
   "id": "2f68e1c0",
   "metadata": {},
   "outputs": [],
   "source": [
    "queue1.appendleft(1)"
   ]
  },
  {
   "cell_type": "code",
   "execution_count": 26,
   "id": "cca7ce6d",
   "metadata": {},
   "outputs": [
    {
     "data": {
      "text/plain": [
       "deque([1, 1, 2, 3, 4, 5, 6, 7, 8])"
      ]
     },
     "execution_count": 26,
     "metadata": {},
     "output_type": "execute_result"
    }
   ],
   "source": [
    "queue1"
   ]
  },
  {
   "cell_type": "code",
   "execution_count": 28,
   "id": "c2861e6a",
   "metadata": {},
   "outputs": [
    {
     "data": {
      "text/plain": [
       "2"
      ]
     },
     "execution_count": 28,
     "metadata": {},
     "output_type": "execute_result"
    }
   ],
   "source": [
    "queue1.count(1)"
   ]
  },
  {
   "cell_type": "code",
   "execution_count": 29,
   "id": "88f097c6",
   "metadata": {},
   "outputs": [
    {
     "data": {
      "text/plain": [
       "1"
      ]
     },
     "execution_count": 29,
     "metadata": {},
     "output_type": "execute_result"
    }
   ],
   "source": [
    "queue1.count(2)"
   ]
  },
  {
   "cell_type": "code",
   "execution_count": 32,
   "id": "4fb60325",
   "metadata": {},
   "outputs": [
    {
     "data": {
      "text/plain": [
       "2"
      ]
     },
     "execution_count": 32,
     "metadata": {},
     "output_type": "execute_result"
    }
   ],
   "source": [
    "queue1.index(2, 0, 5)"
   ]
  },
  {
   "cell_type": "code",
   "execution_count": 35,
   "id": "f7da8427",
   "metadata": {},
   "outputs": [],
   "source": [
    "queue = deque(['Apple', 'Orange', 'Banana', 'Orange', 'Apple'])"
   ]
  },
  {
   "cell_type": "code",
   "execution_count": 37,
   "id": "20699a25",
   "metadata": {},
   "outputs": [
    {
     "data": {
      "text/plain": [
       "4"
      ]
     },
     "execution_count": 37,
     "metadata": {},
     "output_type": "execute_result"
    }
   ],
   "source": [
    "queue.index('Apple', 1, 5)"
   ]
  },
  {
   "cell_type": "code",
   "execution_count": 38,
   "id": "ef70f06b",
   "metadata": {},
   "outputs": [
    {
     "data": {
      "text/plain": [
       "0"
      ]
     },
     "execution_count": 38,
     "metadata": {},
     "output_type": "execute_result"
    }
   ],
   "source": [
    "queue.index('Apple', 0, 5)"
   ]
  },
  {
   "cell_type": "code",
   "execution_count": 39,
   "id": "d4198a4c",
   "metadata": {},
   "outputs": [],
   "source": [
    "queue.remove('Apple')"
   ]
  },
  {
   "cell_type": "code",
   "execution_count": 40,
   "id": "8e39070d",
   "metadata": {},
   "outputs": [
    {
     "data": {
      "text/plain": [
       "deque(['Orange', 'Banana', 'Orange', 'Apple'])"
      ]
     },
     "execution_count": 40,
     "metadata": {},
     "output_type": "execute_result"
    }
   ],
   "source": [
    "queue"
   ]
  },
  {
   "cell_type": "code",
   "execution_count": 41,
   "id": "4dcaa5b9",
   "metadata": {},
   "outputs": [],
   "source": [
    "queue.insert(1, 'Apple')"
   ]
  },
  {
   "cell_type": "code",
   "execution_count": 42,
   "id": "a4448f8c",
   "metadata": {},
   "outputs": [
    {
     "data": {
      "text/plain": [
       "deque(['Orange', 'Apple', 'Banana', 'Orange', 'Apple'])"
      ]
     },
     "execution_count": 42,
     "metadata": {},
     "output_type": "execute_result"
    }
   ],
   "source": [
    "queue"
   ]
  },
  {
   "cell_type": "code",
   "execution_count": 43,
   "id": "5d142a56",
   "metadata": {},
   "outputs": [
    {
     "data": {
      "text/plain": [
       "5"
      ]
     },
     "execution_count": 43,
     "metadata": {},
     "output_type": "execute_result"
    }
   ],
   "source": [
    "len(queue)"
   ]
  },
  {
   "cell_type": "code",
   "execution_count": 44,
   "id": "202326d6",
   "metadata": {},
   "outputs": [],
   "source": [
    "queue.extend(['Kiwi', 'Watermelon', 'strawberry'])"
   ]
  },
  {
   "cell_type": "code",
   "execution_count": 46,
   "id": "7700a4b9",
   "metadata": {},
   "outputs": [],
   "source": [
    "queue.extendleft(['Watermelon'])"
   ]
  },
  {
   "cell_type": "code",
   "execution_count": 70,
   "id": "c205e332",
   "metadata": {},
   "outputs": [],
   "source": [
    "queue.rotate(4)"
   ]
  },
  {
   "cell_type": "code",
   "execution_count": 71,
   "id": "3edf1041",
   "metadata": {},
   "outputs": [
    {
     "data": {
      "text/plain": [
       "deque(['Kiwi',\n",
       "       'Watermelon',\n",
       "       'strawberry',\n",
       "       'Watermelon',\n",
       "       'Orange',\n",
       "       'Apple',\n",
       "       'Banana',\n",
       "       'Orange',\n",
       "       'Apple'])"
      ]
     },
     "execution_count": 71,
     "metadata": {},
     "output_type": "execute_result"
    }
   ],
   "source": [
    "queue"
   ]
  },
  {
   "cell_type": "code",
   "execution_count": 72,
   "id": "0f501301",
   "metadata": {},
   "outputs": [],
   "source": [
    "queue.reverse()"
   ]
  },
  {
   "cell_type": "code",
   "execution_count": 73,
   "id": "42f7419c",
   "metadata": {},
   "outputs": [
    {
     "data": {
      "text/plain": [
       "deque(['Apple',\n",
       "       'Orange',\n",
       "       'Banana',\n",
       "       'Apple',\n",
       "       'Orange',\n",
       "       'Watermelon',\n",
       "       'strawberry',\n",
       "       'Watermelon',\n",
       "       'Kiwi'])"
      ]
     },
     "execution_count": 73,
     "metadata": {},
     "output_type": "execute_result"
    }
   ],
   "source": [
    "queue"
   ]
  },
  {
   "cell_type": "markdown",
   "id": "0808adce",
   "metadata": {},
   "source": [
    "## ChainMap"
   ]
  },
  {
   "cell_type": "code",
   "execution_count": 119,
   "id": "8fb46de8",
   "metadata": {},
   "outputs": [],
   "source": [
    "d1 = {'Name': 'John', 'Age':28, 'Gender':'Male'}\n",
    "d2 = {'Name': 'Mary', 'Age':32, 'Gender':'Female'}\n",
    "d3 = {'Name': 'Sarah', 'Age':40, 'Gender':'Female'}"
   ]
  },
  {
   "cell_type": "code",
   "execution_count": 120,
   "id": "bc72fd0a",
   "metadata": {},
   "outputs": [],
   "source": [
    "from collections import ChainMap"
   ]
  },
  {
   "cell_type": "code",
   "execution_count": 121,
   "id": "2eb27b14",
   "metadata": {},
   "outputs": [],
   "source": [
    "ch = ChainMap(d1, d2, d3)"
   ]
  },
  {
   "cell_type": "code",
   "execution_count": 122,
   "id": "c19bd2c5",
   "metadata": {},
   "outputs": [
    {
     "data": {
      "text/plain": [
       "ChainMap({'Name': 'John', 'Age': 28, 'Gender': 'Male'}, {'Name': 'Mary', 'Age': 32, 'Gender': 'Female'}, {'Name': 'Sarah', 'Age': 40, 'Gender': 'Female'})"
      ]
     },
     "execution_count": 122,
     "metadata": {},
     "output_type": "execute_result"
    }
   ],
   "source": [
    "ch"
   ]
  },
  {
   "cell_type": "code",
   "execution_count": 128,
   "id": "254930fb",
   "metadata": {},
   "outputs": [
    {
     "data": {
      "text/plain": [
       "KeysView(ChainMap({'Name': 'John', 'Age': 28, 'Gender': 'Male'}, {'Name': 'Mary', 'Age': 32, 'Gender': 'Female'}, {'Name': 'Sarah', 'Age': 40, 'Gender': 'Female'}))"
      ]
     },
     "execution_count": 128,
     "metadata": {},
     "output_type": "execute_result"
    }
   ],
   "source": [
    "ch.keys()"
   ]
  },
  {
   "cell_type": "code",
   "execution_count": 132,
   "id": "64f4d2e1",
   "metadata": {},
   "outputs": [
    {
     "data": {
      "text/plain": [
       "ValuesView(ChainMap({'Name': 'John', 'Age': 28, 'Gender': 'Male'}, {'Name': 'Mary', 'Age': 32, 'Gender': 'Female'}, {'Name': 'Sarah', 'Age': 40, 'Gender': 'Female'}))"
      ]
     },
     "execution_count": 132,
     "metadata": {},
     "output_type": "execute_result"
    }
   ],
   "source": [
    "ch.values()"
   ]
  },
  {
   "cell_type": "code",
   "execution_count": 126,
   "id": "0e0a336f",
   "metadata": {},
   "outputs": [
    {
     "data": {
      "text/plain": [
       "[{'Name': 'John', 'Age': 28, 'Gender': 'Male'},\n",
       " {'Name': 'Mary', 'Age': 32, 'Gender': 'Female'},\n",
       " {'Name': 'Sarah', 'Age': 40, 'Gender': 'Female'}]"
      ]
     },
     "execution_count": 126,
     "metadata": {},
     "output_type": "execute_result"
    }
   ],
   "source": [
    "ch.maps"
   ]
  },
  {
   "cell_type": "code",
   "execution_count": 136,
   "id": "f16124ca",
   "metadata": {},
   "outputs": [
    {
     "data": {
      "text/plain": [
       "KeysView(ChainMap({'Name': 'John', 'Age': 28, 'Gender': 'Male'}, {'Name': 'Mary', 'Age': 32, 'Gender': 'Female'}, {'Name': 'Sarah', 'Age': 40, 'Gender': 'Female'}))"
      ]
     },
     "execution_count": 136,
     "metadata": {},
     "output_type": "execute_result"
    }
   ],
   "source": [
    "ch.()"
   ]
  },
  {
   "cell_type": "code",
   "execution_count": 130,
   "id": "25a951c4",
   "metadata": {},
   "outputs": [
    {
     "data": {
      "text/plain": [
       "ChainMap({'Name': 'Max', 'Age': 10, 'Gender': 'Male'}, {'Name': 'John', 'Age': 28, 'Gender': 'Male'}, {'Name': 'Mary', 'Age': 32, 'Gender': 'Female'}, {'Name': 'Sarah', 'Age': 40, 'Gender': 'Female'})"
      ]
     },
     "execution_count": 130,
     "metadata": {},
     "output_type": "execute_result"
    }
   ],
   "source": [
    "ch.new_child({'Name':'Max', 'Age':10, 'Gender':'Male'})"
   ]
  },
  {
   "cell_type": "code",
   "execution_count": null,
   "id": "7ddd3a2c",
   "metadata": {},
   "outputs": [],
   "source": []
  }
 ],
 "metadata": {
  "kernelspec": {
   "display_name": "Python 3 (ipykernel)",
   "language": "python",
   "name": "python3"
  },
  "language_info": {
   "codemirror_mode": {
    "name": "ipython",
    "version": 3
   },
   "file_extension": ".py",
   "mimetype": "text/x-python",
   "name": "python",
   "nbconvert_exporter": "python",
   "pygments_lexer": "ipython3",
   "version": "3.9.12"
  }
 },
 "nbformat": 4,
 "nbformat_minor": 5
}
