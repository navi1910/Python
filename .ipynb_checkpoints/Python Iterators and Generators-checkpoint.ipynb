{
 "cells": [
  {
   "cell_type": "code",
   "execution_count": 1,
   "id": "42a01b9b",
   "metadata": {},
   "outputs": [],
   "source": [
    "# Dictionaries, sets, lists and Tuples are all iterable objects. They have iter() method."
   ]
  },
  {
   "cell_type": "code",
   "execution_count": 2,
   "id": "dc884989",
   "metadata": {},
   "outputs": [],
   "source": [
    "mytuple = ('apple', 'banana', 'mango')"
   ]
  },
  {
   "cell_type": "code",
   "execution_count": 3,
   "id": "89fd1d72",
   "metadata": {},
   "outputs": [],
   "source": [
    "myit = iter(mytuple)"
   ]
  },
  {
   "cell_type": "code",
   "execution_count": 4,
   "id": "f4a0e951",
   "metadata": {},
   "outputs": [
    {
     "name": "stdout",
     "output_type": "stream",
     "text": [
      "apple\n"
     ]
    }
   ],
   "source": [
    "print(next(myit))"
   ]
  },
  {
   "cell_type": "code",
   "execution_count": 5,
   "id": "cf6a747a",
   "metadata": {},
   "outputs": [
    {
     "name": "stdout",
     "output_type": "stream",
     "text": [
      "banana\n"
     ]
    }
   ],
   "source": [
    "print(next(myit))"
   ]
  },
  {
   "cell_type": "code",
   "execution_count": 6,
   "id": "53bc533a",
   "metadata": {},
   "outputs": [
    {
     "name": "stdout",
     "output_type": "stream",
     "text": [
      "mango\n"
     ]
    }
   ],
   "source": [
    "print(next(myit))"
   ]
  },
  {
   "cell_type": "code",
   "execution_count": 7,
   "id": "8ea8abad",
   "metadata": {},
   "outputs": [],
   "source": [
    "mystr = 'banana'\n",
    "\n",
    "myit = iter(mystr)"
   ]
  },
  {
   "cell_type": "code",
   "execution_count": 8,
   "id": "d89f0892",
   "metadata": {},
   "outputs": [
    {
     "name": "stdout",
     "output_type": "stream",
     "text": [
      "b\n"
     ]
    }
   ],
   "source": [
    "print(next(myit))"
   ]
  },
  {
   "cell_type": "code",
   "execution_count": 9,
   "id": "ffdfd29b",
   "metadata": {},
   "outputs": [
    {
     "name": "stdout",
     "output_type": "stream",
     "text": [
      "a\n"
     ]
    }
   ],
   "source": [
    "print(next(myit))"
   ]
  },
  {
   "cell_type": "code",
   "execution_count": 10,
   "id": "04948667",
   "metadata": {},
   "outputs": [
    {
     "name": "stdout",
     "output_type": "stream",
     "text": [
      "apple\n",
      "banana\n",
      "mango\n"
     ]
    }
   ],
   "source": [
    "for x in mytuple: # For loop actually creates an iterator object and excecutes the next() method for eacg loop.\n",
    "    print(x)"
   ]
  },
  {
   "cell_type": "code",
   "execution_count": 11,
   "id": "02675d56",
   "metadata": {},
   "outputs": [],
   "source": [
    "class MyNumbers:\n",
    "    def __iter__(self):\n",
    "        self.a = 1\n",
    "        return self\n",
    "    \n",
    "    def __next__(self):\n",
    "        x = self.a\n",
    "        self.a += 1\n",
    "        return x"
   ]
  },
  {
   "cell_type": "code",
   "execution_count": 12,
   "id": "32099aca",
   "metadata": {},
   "outputs": [],
   "source": [
    "myclass = MyNumbers()\n",
    "myiter = iter(myclass)"
   ]
  },
  {
   "cell_type": "code",
   "execution_count": 13,
   "id": "b82ebe94",
   "metadata": {},
   "outputs": [
    {
     "name": "stdout",
     "output_type": "stream",
     "text": [
      "1\n"
     ]
    }
   ],
   "source": [
    "print(next(myiter))"
   ]
  },
  {
   "cell_type": "code",
   "execution_count": 14,
   "id": "972a7cb7",
   "metadata": {},
   "outputs": [],
   "source": [
    "# Stop after 20 iterations\n",
    "\n",
    "class MyNumbers:\n",
    "    def __iter__(self):\n",
    "        self.a = 1\n",
    "        return self\n",
    "    \n",
    "    def __next__(self):\n",
    "        if self.a <= 20:\n",
    "            x = self.a\n",
    "            self.a += 1\n",
    "            return x\n",
    "        else:\n",
    "            raise StopIteration"
   ]
  },
  {
   "cell_type": "code",
   "execution_count": 15,
   "id": "438af3bf",
   "metadata": {},
   "outputs": [],
   "source": [
    "myclass = MyNumbers()\n",
    "myiter = iter(myclass)"
   ]
  },
  {
   "cell_type": "code",
   "execution_count": 16,
   "id": "2af5f3f9",
   "metadata": {},
   "outputs": [
    {
     "name": "stdout",
     "output_type": "stream",
     "text": [
      "1\n",
      "2\n",
      "3\n",
      "4\n",
      "5\n",
      "6\n",
      "7\n",
      "8\n",
      "9\n",
      "10\n",
      "11\n",
      "12\n",
      "13\n",
      "14\n",
      "15\n",
      "16\n",
      "17\n",
      "18\n",
      "19\n",
      "20\n"
     ]
    }
   ],
   "source": [
    "for x in myiter:\n",
    "    print(x)"
   ]
  },
  {
   "cell_type": "code",
   "execution_count": 17,
   "id": "e801c478",
   "metadata": {},
   "outputs": [],
   "source": [
    "a = [1,2,3,4,5]"
   ]
  },
  {
   "cell_type": "code",
   "execution_count": 18,
   "id": "e922afde",
   "metadata": {},
   "outputs": [],
   "source": [
    "myit = iter(a)"
   ]
  },
  {
   "cell_type": "code",
   "execution_count": 19,
   "id": "3cf858ad",
   "metadata": {},
   "outputs": [
    {
     "data": {
      "text/plain": [
       "1"
      ]
     },
     "execution_count": 19,
     "metadata": {},
     "output_type": "execute_result"
    }
   ],
   "source": [
    "next(myit)"
   ]
  },
  {
   "cell_type": "code",
   "execution_count": 20,
   "id": "1904aa4e",
   "metadata": {},
   "outputs": [
    {
     "data": {
      "text/plain": [
       "2"
      ]
     },
     "execution_count": 20,
     "metadata": {},
     "output_type": "execute_result"
    }
   ],
   "source": [
    "next(myit)"
   ]
  },
  {
   "cell_type": "code",
   "execution_count": 21,
   "id": "b20c8d55",
   "metadata": {},
   "outputs": [],
   "source": [
    "fruits = ('apple', 'banana', 'mango')"
   ]
  },
  {
   "cell_type": "code",
   "execution_count": 22,
   "id": "e881410f",
   "metadata": {},
   "outputs": [],
   "source": [
    "fruit_it = iter(fruits)"
   ]
  },
  {
   "cell_type": "code",
   "execution_count": 23,
   "id": "58352124",
   "metadata": {},
   "outputs": [
    {
     "data": {
      "text/plain": [
       "'apple'"
      ]
     },
     "execution_count": 23,
     "metadata": {},
     "output_type": "execute_result"
    }
   ],
   "source": [
    "next(fruit_it)"
   ]
  },
  {
   "cell_type": "code",
   "execution_count": 24,
   "id": "c7dd381f",
   "metadata": {},
   "outputs": [
    {
     "data": {
      "text/plain": [
       "'banana'"
      ]
     },
     "execution_count": 24,
     "metadata": {},
     "output_type": "execute_result"
    }
   ],
   "source": [
    "next(fruit_it)"
   ]
  },
  {
   "cell_type": "code",
   "execution_count": 25,
   "id": "9498ff55",
   "metadata": {},
   "outputs": [
    {
     "data": {
      "text/plain": [
       "'mango'"
      ]
     },
     "execution_count": 25,
     "metadata": {},
     "output_type": "execute_result"
    }
   ],
   "source": [
    "next(fruit_it)"
   ]
  },
  {
   "cell_type": "code",
   "execution_count": 26,
   "id": "ad1c0be6",
   "metadata": {},
   "outputs": [
    {
     "data": {
      "text/plain": [
       "'apple'"
      ]
     },
     "execution_count": 26,
     "metadata": {},
     "output_type": "execute_result"
    }
   ],
   "source": [
    "next(iter(fruits))"
   ]
  },
  {
   "cell_type": "code",
   "execution_count": 27,
   "id": "2bfc6902",
   "metadata": {},
   "outputs": [],
   "source": [
    "class iter_num:\n",
    "    def __iter__(self):\n",
    "        self.a = 1\n",
    "        return self\n",
    "    \n",
    "    def __next__(self):\n",
    "        if self.a <= 20:\n",
    "            x = self.a\n",
    "            self.a += 1\n",
    "            return x\n",
    "        else:\n",
    "            raise StopIteration"
   ]
  },
  {
   "cell_type": "code",
   "execution_count": 28,
   "id": "1da8b6db",
   "metadata": {},
   "outputs": [],
   "source": [
    "myclass = iter_num()"
   ]
  },
  {
   "cell_type": "code",
   "execution_count": 29,
   "id": "a8ceb60a",
   "metadata": {},
   "outputs": [],
   "source": [
    "myiter = iter(myclass)"
   ]
  },
  {
   "cell_type": "code",
   "execution_count": 30,
   "id": "8c49d081",
   "metadata": {},
   "outputs": [
    {
     "name": "stdout",
     "output_type": "stream",
     "text": [
      "1\n",
      "2\n",
      "3\n",
      "4\n",
      "5\n",
      "6\n",
      "7\n",
      "8\n",
      "9\n",
      "10\n",
      "11\n",
      "12\n",
      "13\n",
      "14\n",
      "15\n",
      "16\n",
      "17\n",
      "18\n",
      "19\n",
      "20\n"
     ]
    }
   ],
   "source": [
    "for x in myiter:\n",
    "    print(x)"
   ]
  },
  {
   "cell_type": "markdown",
   "id": "47888455",
   "metadata": {},
   "source": [
    "## Generators"
   ]
  },
  {
   "cell_type": "code",
   "execution_count": 63,
   "id": "79f5a3ca",
   "metadata": {},
   "outputs": [],
   "source": [
    "def func1():\n",
    "    yield 5\n",
    "    yield 6"
   ]
  },
  {
   "cell_type": "code",
   "execution_count": 64,
   "id": "3af46b59",
   "metadata": {},
   "outputs": [],
   "source": [
    "a = func1()"
   ]
  },
  {
   "cell_type": "code",
   "execution_count": 65,
   "id": "523537c6",
   "metadata": {},
   "outputs": [
    {
     "name": "stdout",
     "output_type": "stream",
     "text": [
      "<generator object func1 at 0x00000298C8FDC190>\n"
     ]
    }
   ],
   "source": [
    "print(a)"
   ]
  },
  {
   "cell_type": "code",
   "execution_count": 66,
   "id": "6b6f07b1",
   "metadata": {},
   "outputs": [
    {
     "name": "stdout",
     "output_type": "stream",
     "text": [
      "5\n"
     ]
    }
   ],
   "source": [
    "print(a.__next__())"
   ]
  },
  {
   "cell_type": "code",
   "execution_count": 67,
   "id": "57984dc9",
   "metadata": {},
   "outputs": [
    {
     "name": "stdout",
     "output_type": "stream",
     "text": [
      "6\n"
     ]
    }
   ],
   "source": [
    "print(a.__next__())"
   ]
  },
  {
   "cell_type": "code",
   "execution_count": 72,
   "id": "9a7bf93f",
   "metadata": {},
   "outputs": [],
   "source": [
    "def seq1(n):\n",
    "    i = 0\n",
    "    \n",
    "    while i <= n:\n",
    "        yield i\n",
    "        i += 1"
   ]
  },
  {
   "cell_type": "code",
   "execution_count": 73,
   "id": "7f4f02d0",
   "metadata": {},
   "outputs": [
    {
     "name": "stdout",
     "output_type": "stream",
     "text": [
      "0\n",
      "1\n",
      "2\n",
      "3\n",
      "4\n",
      "5\n"
     ]
    }
   ],
   "source": [
    "for x in seq1(5):\n",
    "    print(x)"
   ]
  },
  {
   "cell_type": "code",
   "execution_count": 74,
   "id": "45318e68",
   "metadata": {},
   "outputs": [
    {
     "name": "stdout",
     "output_type": "stream",
     "text": [
      "0\n",
      "1\n",
      "2\n",
      "3\n"
     ]
    }
   ],
   "source": [
    "object1 = seq1(10)\n",
    "\n",
    "print(next(object1))\n",
    "print(next(object1))\n",
    "print(next(object1))\n",
    "print(next(object1))"
   ]
  },
  {
   "cell_type": "code",
   "execution_count": 92,
   "id": "b7af1e55",
   "metadata": {},
   "outputs": [],
   "source": [
    "var = (x/0.5 for x in seq1(10))"
   ]
  },
  {
   "cell_type": "code",
   "execution_count": 93,
   "id": "38f05170",
   "metadata": {},
   "outputs": [
    {
     "name": "stdout",
     "output_type": "stream",
     "text": [
      "<generator object <genexpr> at 0x00000298C8FF1C80>\n",
      "<generator object <genexpr> at 0x00000298C8FF1C80>\n",
      "<generator object <genexpr> at 0x00000298C8FF1C80>\n",
      "<generator object <genexpr> at 0x00000298C8FF1C80>\n",
      "<generator object <genexpr> at 0x00000298C8FF1C80>\n",
      "<generator object <genexpr> at 0x00000298C8FF1C80>\n",
      "<generator object <genexpr> at 0x00000298C8FF1C80>\n",
      "<generator object <genexpr> at 0x00000298C8FF1C80>\n",
      "<generator object <genexpr> at 0x00000298C8FF1C80>\n",
      "<generator object <genexpr> at 0x00000298C8FF1C80>\n",
      "<generator object <genexpr> at 0x00000298C8FF1C80>\n"
     ]
    }
   ],
   "source": [
    "for item in var:\n",
    "    print(var)"
   ]
  },
  {
   "cell_type": "code",
   "execution_count": 96,
   "id": "a88484c7",
   "metadata": {},
   "outputs": [],
   "source": [
    "class get_2:\n",
    "    def __init__(self, x = 0):\n",
    "        self.n = 0\n",
    "        self.x = x\n",
    "        \n",
    "    def __iter__(self):\n",
    "        return self\n",
    "    \n",
    "    def __next__(self):\n",
    "        if self.n > self.x:\n",
    "            raise StopIteration\n",
    "        \n",
    "        result = 2**self.n\n",
    "        self.n += 1\n",
    "        return result"
   ]
  },
  {
   "cell_type": "code",
   "execution_count": 103,
   "id": "098bad04",
   "metadata": {},
   "outputs": [],
   "source": [
    "def get__2(x = 0):\n",
    "    n = 0\n",
    "    while n < x:\n",
    "        yield 2**n\n",
    "        n += 1"
   ]
  }
 ],
 "metadata": {
  "kernelspec": {
   "display_name": "Python 3 (ipykernel)",
   "language": "python",
   "name": "python3"
  },
  "language_info": {
   "codemirror_mode": {
    "name": "ipython",
    "version": 3
   },
   "file_extension": ".py",
   "mimetype": "text/x-python",
   "name": "python",
   "nbconvert_exporter": "python",
   "pygments_lexer": "ipython3",
   "version": "3.9.12"
  }
 },
 "nbformat": 4,
 "nbformat_minor": 5
}
