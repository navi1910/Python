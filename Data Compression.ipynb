{
 "cells": [
  {
   "cell_type": "code",
   "execution_count": 7,
   "id": "7d332270",
   "metadata": {},
   "outputs": [],
   "source": [
    "import zlib"
   ]
  },
  {
   "cell_type": "code",
   "execution_count": 6,
   "id": "b1284742",
   "metadata": {},
   "outputs": [
    {
     "name": "stdout",
     "output_type": "stream",
     "text": [
      "24\n",
      "32\n"
     ]
    }
   ],
   "source": [
    "import zlib\n",
    "s = b'Hello my name is Naveen.'\n",
    "print(len(s))\n",
    "\n",
    "t = zlib.compress(s)\n",
    "print(len(t))"
   ]
  },
  {
   "cell_type": "code",
   "execution_count": null,
   "id": "2ca89b19",
   "metadata": {},
   "outputs": [],
   "source": [
    "import zlib, sys\n",
    "\n",
    "filename_in = r'E:\\Besant Python\\wiki_large_para.txt'\n",
    "filename_out = \"Output_file\"\n",
    "\n",
    "with open(filename_in, mode=\"rb\") as fin, open(filename_out, mode=\"wb\") as fout:\n",
    "    data = fin.read()\n",
    "    compressed_data = zlib.compress(data, zlib.Z_BEST_COMPRESSION)"
   ]
  },
  {
   "cell_type": "code",
   "execution_count": 12,
   "id": "d314de73",
   "metadata": {},
   "outputs": [
    {
     "name": "stdout",
     "output_type": "stream",
     "text": [
      "Original size: 2785\n",
      "Compressed size: 1249\n"
     ]
    }
   ],
   "source": [
    "import zlib, sys\n",
    "\n",
    "input_file = r\"E:\\Besant Python\\wiki_large_para.txt\"\n",
    "output_file = 'Compressed File'\n",
    "\n",
    "with open(input_file, 'rb') as fin, open(output_file, 'wb') as fout:\n",
    "    data = fin.read()\n",
    "    print(f'Original size: {sys.getsizeof(data)}')\n",
    "    \n",
    "    compressed_data = zlib.compress(data, zlib.Z_BEST_COMPRESSION)\n",
    "    print(f'Compressed size: {sys.getsizeof(compressed_data)}')\n",
    "    fout.write(compressed_data)"
   ]
  },
  {
   "cell_type": "code",
   "execution_count": 13,
   "id": "7ad93bc1",
   "metadata": {},
   "outputs": [
    {
     "name": "stdout",
     "output_type": "stream",
     "text": [
      "Compressed Size: 1249\n",
      "Decompressed Size: 2785\n"
     ]
    }
   ],
   "source": [
    "with open(output_file, 'rb') as f:\n",
    "    data = f.read()\n",
    "    decompressed_data = zlib.decompress(data)\n",
    "    \n",
    "    print(f'Compressed Size: {sys.getsizeof(data)}')\n",
    "    print(f'Decompressed Size: {sys.getsizeof(decompressed_data)}')"
   ]
  },
  {
   "cell_type": "code",
   "execution_count": 14,
   "id": "d79fd899",
   "metadata": {},
   "outputs": [],
   "source": [
    "from zipfile import ZipFile\n",
    "with ZipFile(r\"D:\\Breast Cancer Images Data.zip\", 'r') as zObject:\n",
    "        zObject.extractall(\"Extracted_breast_cancer\")"
   ]
  },
  {
   "cell_type": "code",
   "execution_count": 15,
   "id": "ce9674d8",
   "metadata": {},
   "outputs": [
    {
     "data": {
      "text/plain": [
       "['a',\n",
       " 'a',\n",
       " 'a',\n",
       " 'a',\n",
       " 'd',\n",
       " 'd',\n",
       " 'f',\n",
       " 'f',\n",
       " 'g',\n",
       " 'g',\n",
       " 'h',\n",
       " 'h',\n",
       " 'h',\n",
       " 'j',\n",
       " 'j',\n",
       " 'j',\n",
       " 'j',\n",
       " 'j',\n",
       " 'k',\n",
       " 'l',\n",
       " 'l',\n",
       " 's',\n",
       " 's',\n",
       " 's',\n",
       " 's']"
      ]
     },
     "execution_count": 15,
     "metadata": {},
     "output_type": "execute_result"
    }
   ],
   "source": [
    "sorted('hsajhjsagflagfjdshalkdjsj')"
   ]
  },
  {
   "cell_type": "code",
   "execution_count": 16,
   "id": "19e6e346",
   "metadata": {},
   "outputs": [
    {
     "data": {
      "text/plain": [
       "['a', 'b', 'c', 'd', 'e', 'f', 'g']"
      ]
     },
     "execution_count": 16,
     "metadata": {},
     "output_type": "execute_result"
    }
   ],
   "source": [
    "sorted('abcdfge')"
   ]
  },
  {
   "cell_type": "code",
   "execution_count": 17,
   "id": "76856bfa",
   "metadata": {},
   "outputs": [
    {
     "data": {
      "text/plain": [
       "['g', 'f', 'e', 'd', 'c', 'b', 'a']"
      ]
     },
     "execution_count": 17,
     "metadata": {},
     "output_type": "execute_result"
    }
   ],
   "source": [
    "sorted('abcdfge', reverse= True)"
   ]
  },
  {
   "cell_type": "code",
   "execution_count": 18,
   "id": "b4760b41",
   "metadata": {},
   "outputs": [
    {
     "data": {
      "text/plain": [
       "[1, 2, 3, 4, 5, 6, 7, 8, 9]"
      ]
     },
     "execution_count": 18,
     "metadata": {},
     "output_type": "execute_result"
    }
   ],
   "source": [
    "sorted([9,8,7,6,5,4,3,2,1])"
   ]
  },
  {
   "cell_type": "code",
   "execution_count": 19,
   "id": "3dd2a3a1",
   "metadata": {},
   "outputs": [
    {
     "name": "stdout",
     "output_type": "stream",
     "text": [
      "[{'name': 'Alice', 'age': 18}, {'name': 'John', 'age': 20}, {'name': 'Bob', 'age': 22}]\n"
     ]
    }
   ],
   "source": [
    "students = [\n",
    "    {'name': 'John', 'age': 20},\n",
    "    {'name': 'Alice', 'age': 18},\n",
    "    {'name': 'Bob', 'age': 22}\n",
    "]"
   ]
  },
  {
   "cell_type": "code",
   "execution_count": 23,
   "id": "db6079b9",
   "metadata": {},
   "outputs": [
    {
     "data": {
      "text/plain": [
       "[{'name': 'Bob', 'age': 22},\n",
       " {'name': 'John', 'age': 20},\n",
       " {'name': 'Alice', 'age': 18}]"
      ]
     },
     "execution_count": 23,
     "metadata": {},
     "output_type": "execute_result"
    }
   ],
   "source": [
    "sorted(students,key=lambda x: x['age'], reverse = True)"
   ]
  },
  {
   "cell_type": "code",
   "execution_count": 22,
   "id": "6fe05080",
   "metadata": {},
   "outputs": [
    {
     "data": {
      "text/plain": [
       "[{'name': 'John', 'age': 20},\n",
       " {'name': 'Bob', 'age': 22},\n",
       " {'name': 'Alice', 'age': 18}]"
      ]
     },
     "execution_count": 22,
     "metadata": {},
     "output_type": "execute_result"
    }
   ],
   "source": [
    "sorted(students,key=lambda x: x['name'][0], reverse=True)"
   ]
  },
  {
   "cell_type": "code",
   "execution_count": null,
   "id": "28dddb05",
   "metadata": {},
   "outputs": [],
   "source": []
  }
 ],
 "metadata": {
  "kernelspec": {
   "display_name": "Python 3 (ipykernel)",
   "language": "python",
   "name": "python3"
  },
  "language_info": {
   "codemirror_mode": {
    "name": "ipython",
    "version": 3
   },
   "file_extension": ".py",
   "mimetype": "text/x-python",
   "name": "python",
   "nbconvert_exporter": "python",
   "pygments_lexer": "ipython3",
   "version": "3.9.12"
  }
 },
 "nbformat": 4,
 "nbformat_minor": 5
}
