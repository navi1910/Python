{
 "cells": [
  {
   "cell_type": "code",
   "execution_count": 1,
   "id": "09609b27",
   "metadata": {},
   "outputs": [],
   "source": [
    "import re"
   ]
  },
  {
   "cell_type": "code",
   "execution_count": 8,
   "id": "3f50dcbb",
   "metadata": {},
   "outputs": [],
   "source": [
    "text = 'I love dogs .'"
   ]
  },
  {
   "cell_type": "code",
   "execution_count": 17,
   "id": "3fc26698",
   "metadata": {},
   "outputs": [],
   "source": [
    "match = re.match('I love', text)"
   ]
  },
  {
   "cell_type": "code",
   "execution_count": 18,
   "id": "ac4f56f6",
   "metadata": {},
   "outputs": [
    {
     "name": "stdout",
     "output_type": "stream",
     "text": [
      "<re.Match object; span=(0, 6), match='I love'>\n"
     ]
    }
   ],
   "source": [
    "print(match)"
   ]
  },
  {
   "cell_type": "code",
   "execution_count": 19,
   "id": "fb606dcd",
   "metadata": {},
   "outputs": [],
   "source": [
    "sentence = 'The sun shines bright today. The sun was covered by clouds yesterday.'"
   ]
  },
  {
   "cell_type": "code",
   "execution_count": 20,
   "id": "69cd2d38",
   "metadata": {},
   "outputs": [],
   "source": [
    "match = re.findall('sun', sentence)"
   ]
  },
  {
   "cell_type": "code",
   "execution_count": 21,
   "id": "c9139ef9",
   "metadata": {},
   "outputs": [
    {
     "name": "stdout",
     "output_type": "stream",
     "text": [
      "['sun', 'sun']\n"
     ]
    }
   ],
   "source": [
    "print(match)"
   ]
  },
  {
   "cell_type": "code",
   "execution_count": 22,
   "id": "80e7ef3c",
   "metadata": {},
   "outputs": [],
   "source": [
    "with open('wiki_file_re.txt','r') as f:\n",
    "    r = f.readlines()"
   ]
  },
  {
   "cell_type": "code",
   "execution_count": 24,
   "id": "bbbb6eba",
   "metadata": {},
   "outputs": [
    {
     "name": "stdout",
     "output_type": "stream",
     "text": [
      "A negative article specifies none of its noun, and can thus be regarded as neither definite nor indefinite. On the other hand, some consider such a word to be a simple determiner rather than an article. In English, this function is fulfilled by no, which can appear before a singular or plural noun:\n"
     ]
    }
   ],
   "source": [
    "print(r[0])"
   ]
  },
  {
   "cell_type": "code",
   "execution_count": 25,
   "id": "42acb782",
   "metadata": {},
   "outputs": [],
   "source": [
    "sentence = r[0]"
   ]
  },
  {
   "cell_type": "code",
   "execution_count": 32,
   "id": "bebbdd9a",
   "metadata": {},
   "outputs": [
    {
     "data": {
      "text/plain": [
       "1"
      ]
     },
     "execution_count": 32,
     "metadata": {},
     "output_type": "execute_result"
    }
   ],
   "source": [
    "len(re.findall('A', sentence))"
   ]
  },
  {
   "cell_type": "code",
   "execution_count": 33,
   "id": "4f927c65",
   "metadata": {},
   "outputs": [
    {
     "data": {
      "text/plain": [
       "19"
      ]
     },
     "execution_count": 33,
     "metadata": {},
     "output_type": "execute_result"
    }
   ],
   "source": [
    "len(re.findall('a', sentence))"
   ]
  },
  {
   "cell_type": "code",
   "execution_count": 34,
   "id": "3b8cbd41",
   "metadata": {},
   "outputs": [
    {
     "data": {
      "text/plain": [
       "20"
      ]
     },
     "execution_count": 34,
     "metadata": {},
     "output_type": "execute_result"
    }
   ],
   "source": [
    "len(re.findall('a', sentence, re.I))"
   ]
  },
  {
   "cell_type": "code",
   "execution_count": 43,
   "id": "faf76d08",
   "metadata": {},
   "outputs": [
    {
     "data": {
      "text/plain": [
       "4"
      ]
     },
     "execution_count": 43,
     "metadata": {},
     "output_type": "execute_result"
    }
   ],
   "source": [
    "len(re.findall('the|The', sentence))"
   ]
  },
  {
   "cell_type": "code",
   "execution_count": 41,
   "id": "32d5b88a",
   "metadata": {},
   "outputs": [
    {
     "data": {
      "text/plain": [
       "20"
      ]
     },
     "execution_count": 41,
     "metadata": {},
     "output_type": "execute_result"
    }
   ],
   "source": [
    "len(re.findall('a|A', sentence))"
   ]
  },
  {
   "cell_type": "code",
   "execution_count": 40,
   "id": "14df41b4",
   "metadata": {},
   "outputs": [
    {
     "data": {
      "text/plain": [
       "20"
      ]
     },
     "execution_count": 40,
     "metadata": {},
     "output_type": "execute_result"
    }
   ],
   "source": [
    "len(re.findall('[Aa]', sentence))"
   ]
  },
  {
   "cell_type": "code",
   "execution_count": 45,
   "id": "88773677",
   "metadata": {},
   "outputs": [
    {
     "data": {
      "text/plain": [
       "['A',\n",
       " 'a',\n",
       " 'a',\n",
       " 'on',\n",
       " 'a',\n",
       " 'a',\n",
       " 'a',\n",
       " 'a',\n",
       " 'the',\n",
       " 'On',\n",
       " 'the',\n",
       " 'the',\n",
       " 'a',\n",
       " 'on',\n",
       " 'a',\n",
       " 'a',\n",
       " 'a',\n",
       " 'the',\n",
       " 'a',\n",
       " 'a',\n",
       " 'a',\n",
       " 'on',\n",
       " 'a',\n",
       " 'a',\n",
       " 'a',\n",
       " 'a',\n",
       " 'a',\n",
       " 'a']"
      ]
     },
     "execution_count": 45,
     "metadata": {},
     "output_type": "execute_result"
    }
   ],
   "source": [
    "re.findall('a|the|on', sentence, re.I)"
   ]
  },
  {
   "cell_type": "code",
   "execution_count": 84,
   "id": "f4bc3ba9",
   "metadata": {},
   "outputs": [],
   "source": [
    "with open('wiki_large_para.txt') as f:\n",
    "    r = f.read()"
   ]
  },
  {
   "cell_type": "code",
   "execution_count": 87,
   "id": "db225e2c",
   "metadata": {
    "scrolled": true
   },
   "outputs": [
    {
     "data": {
      "text/plain": [
       "\"Articles are found in many Indo-European languages, Semitic languages (only the definite article), and Polynesian languages; however, they are formally absent from many of the world's major languages including Chinese, Japanese, Korean, Mongolian, many Turkic languages (including Tatar, Bashkir, Tuvan and Chuvash), many Uralic languages (incl. Finnic[a] and Saami languages), Indonesian, Hindi-Urdu, Punjabi, Tamil, the Baltic languages, the majority of Slavic languages, the Bantu languages (incl. Swahili). In some languages that do have articles, such as some North Caucasian languages, the use of articles is optional; however, in others like English and German it is mandatory in all cases.\\n\\nLinguists believe the common ancestor of the Indo-European languages, Proto-Indo-European, did not have articles. Most of the languages in this family do not have definite or indefinite articles: there is no article in Latin or Sanskrit, nor in some modern Indo-European languages, such as the families of Slavic languages (except for Bulgarian and Macedonian, which are rather distinctive among the Slavic languages in their grammar, and some Northern Russian dialects[7]), Baltic languages and many Indo-Aryan languages. Although Classical Greek had a definite article (which has survived into Modern Greek and which bears strong functional resemblance to the German definite article, which it is related to), the earlier Homeric Greek used this article largely as a pronoun or demonstrative, whereas the earliest known form of Greek known as Mycenaean Greek did not have any articles. Articles developed independently in several language families.\\n\\nNot all languages have both definite and indefinite articles, and some languages have different types of definite and indefinite articles to distinguish finer shades of meaning: for example, French and Italian have a partitive article used for indefinite mass nouns, whereas Colognian has two distinct sets of definite articles indicating focus and uniqueness, and Macedonian uses definite articles in a demonstrative sense, with a tripartite distinction (proximal, medial, distal) based on distance from the speaker or interlocutor. The words this and that (and their plurals, these and those) can be understood in English as, ultimately, forms of the definite article the (whose declension in Old English included thaes, an ancestral form of this/that and these/those).\\n\\nIn many languages, the form of the article may vary according to the gender, number, or case of its noun. In some languages the article may be the only indication of the case. Many languages do not use articles at all, and may use other ways of indicating old versus new information, such as topicâ€“comment constructions.\""
      ]
     },
     "execution_count": 87,
     "metadata": {},
     "output_type": "execute_result"
    }
   ],
   "source": [
    "r"
   ]
  },
  {
   "cell_type": "code",
   "execution_count": 88,
   "id": "aeb19e7f",
   "metadata": {
    "scrolled": true
   },
   "outputs": [
    {
     "data": {
      "text/plain": [
       "34"
      ]
     },
     "execution_count": 88,
     "metadata": {},
     "output_type": "execute_result"
    }
   ],
   "source": [
    "len(re.findall('the', r, re.I))"
   ]
  },
  {
   "cell_type": "code",
   "execution_count": 89,
   "id": "953dd025",
   "metadata": {},
   "outputs": [
    {
     "data": {
      "text/plain": [
       "\"Articles are found in many Indo-European languages, Semitic languages (only a definite article), and Polynesian languages; however, ay are formally absent from many of a world's major languages including Chinese, Japanese, Korean, Mongolian, many Turkic languages (including Tatar, Bashkir, Tuvan and Chuvash), many Uralic languages (incl. Finnic[a] and Saami languages), Indonesian, Hindi-Urdu, Punjabi, Tamil, a Baltic languages, a majority of Slavic languages, a Bantu languages (incl. Swahili). In some languages that do have articles, such as some North Caucasian languages, a use of articles is optional; however, in oars like English and German it is mandatory in all cases.\\n\\nLinguists believe a common ancestor of a Indo-European languages, Proto-Indo-European, did not have articles. Most of a languages in this family do not have definite or indefinite articles: are is no article in Latin or Sanskrit, nor in some modern Indo-European languages, such as a families of Slavic languages (except for Bulgarian and Macedonian, which are raar distinctive among a Slavic languages in air grammar, and some Norarn Russian dialects[7]), Baltic languages and many Indo-Aryan languages. Although Classical Greek had a definite article (which has survived into Modern Greek and which bears strong functional resemblance to a German definite article, which it is related to), a earlier Homeric Greek used this article largely as a pronoun or demonstrative, whereas a earliest known form of Greek known as Mycenaean Greek did not have any articles. Articles developed independently in several language families.\\n\\nNot all languages have both definite and indefinite articles, and some languages have different types of definite and indefinite articles to distinguish finer shades of meaning: for example, French and Italian have a partitive article used for indefinite mass nouns, whereas Colognian has two distinct sets of definite articles indicating focus and uniqueness, and Macedonian uses definite articles in a demonstrative sense, with a tripartite distinction (proximal, medial, distal) based on distance from a speaker or interlocutor. a words this and that (and air plurals, ase and those) can be understood in English as, ultimately, forms of a definite article a (whose declension in Old English included thaes, an ancestral form of this/that and ase/those).\\n\\nIn many languages, a form of a article may vary according to a gender, number, or case of its noun. In some languages a article may be a only indication of a case. Many languages do not use articles at all, and may use oar ways of indicating old versus new information, such as topicâ€“comment constructions.\""
      ]
     },
     "execution_count": 89,
     "metadata": {},
     "output_type": "execute_result"
    }
   ],
   "source": [
    "re.sub('[Tt]he','a',r)"
   ]
  },
  {
   "cell_type": "code",
   "execution_count": null,
   "id": "c6b0fabf",
   "metadata": {},
   "outputs": [],
   "source": []
  }
 ],
 "metadata": {
  "kernelspec": {
   "display_name": "Python 3 (ipykernel)",
   "language": "python",
   "name": "python3"
  },
  "language_info": {
   "codemirror_mode": {
    "name": "ipython",
    "version": 3
   },
   "file_extension": ".py",
   "mimetype": "text/x-python",
   "name": "python",
   "nbconvert_exporter": "python",
   "pygments_lexer": "ipython3",
   "version": "3.9.12"
  }
 },
 "nbformat": 4,
 "nbformat_minor": 5
}
