{
 "cells": [
  {
   "cell_type": "code",
   "execution_count": 1,
   "id": "fe3a8c36",
   "metadata": {},
   "outputs": [
    {
     "data": {
      "text/plain": [
       "4"
      ]
     },
     "execution_count": 1,
     "metadata": {},
     "output_type": "execute_result"
    }
   ],
   "source": [
    "len('John')"
   ]
  },
  {
   "cell_type": "code",
   "execution_count": 2,
   "id": "78a1043c",
   "metadata": {},
   "outputs": [
    {
     "data": {
      "text/plain": [
       "2"
      ]
     },
     "execution_count": 2,
     "metadata": {},
     "output_type": "execute_result"
    }
   ],
   "source": [
    "len([[1,2,4],[124,4657]])"
   ]
  },
  {
   "cell_type": "code",
   "execution_count": 3,
   "id": "edc26397",
   "metadata": {},
   "outputs": [],
   "source": [
    "class India:\n",
    "    def capital(self):\n",
    "        print('The capital of India is Delhi.')\n",
    "    def type(self):\n",
    "        print('India is a developing country.')"
   ]
  },
  {
   "cell_type": "code",
   "execution_count": 4,
   "id": "61e222e0",
   "metadata": {},
   "outputs": [],
   "source": [
    "obj_ind = India()  # India() is an Instance"
   ]
  },
  {
   "cell_type": "code",
   "execution_count": 5,
   "id": "e6fbae54",
   "metadata": {},
   "outputs": [
    {
     "name": "stdout",
     "output_type": "stream",
     "text": [
      "The capital of India is Delhi.\n"
     ]
    }
   ],
   "source": [
    "obj_ind.capital() # .capital() is an Instance Method"
   ]
  },
  {
   "cell_type": "code",
   "execution_count": 6,
   "id": "3cd17852",
   "metadata": {},
   "outputs": [],
   "source": [
    "class USA:\n",
    "    def capital(self):\n",
    "        print('The Capital of USA is Washington.')\n",
    "    def type(self):\n",
    "        print('USA is a developed country.')"
   ]
  },
  {
   "cell_type": "code",
   "execution_count": 7,
   "id": "c890369e",
   "metadata": {},
   "outputs": [],
   "source": [
    "obj_usa = USA()"
   ]
  },
  {
   "cell_type": "code",
   "execution_count": 8,
   "id": "dac52dcb",
   "metadata": {},
   "outputs": [
    {
     "name": "stdout",
     "output_type": "stream",
     "text": [
      "The Capital of USA is Washington.\n"
     ]
    }
   ],
   "source": [
    "obj_usa.capital()"
   ]
  },
  {
   "cell_type": "code",
   "execution_count": 9,
   "id": "1ea68862",
   "metadata": {},
   "outputs": [],
   "source": [
    "class John:\n",
    "    def __init__(self, name, age):\n",
    "        self.name = name\n",
    "        self.age = age\n",
    "        \n",
    "    def is_major(age):\n",
    "        if age >= 18:\n",
    "            print('Is a Major.')\n",
    "    \n",
    "    def age_of(self):\n",
    "        return 28"
   ]
  },
  {
   "cell_type": "code",
   "execution_count": 10,
   "id": "9bbaa310",
   "metadata": {},
   "outputs": [],
   "source": [
    "class Mary:\n",
    "    def __init__(self, name, age):\n",
    "        self.name = name\n",
    "        self.age = age\n",
    "        \n",
    "    def is_major(age):\n",
    "        if age >= 18:\n",
    "            print('Is a Major.')\n",
    "    \n",
    "    def age_of(self):\n",
    "        return 16"
   ]
  },
  {
   "cell_type": "code",
   "execution_count": 11,
   "id": "d61866ff",
   "metadata": {},
   "outputs": [],
   "source": [
    "p1 = Mary('Mary', 16)"
   ]
  },
  {
   "cell_type": "code",
   "execution_count": 12,
   "id": "eb598861",
   "metadata": {},
   "outputs": [],
   "source": [
    "p2 = John('John', 28)"
   ]
  },
  {
   "cell_type": "code",
   "execution_count": 13,
   "id": "dcaaf1e9",
   "metadata": {},
   "outputs": [
    {
     "data": {
      "text/plain": [
       "16"
      ]
     },
     "execution_count": 13,
     "metadata": {},
     "output_type": "execute_result"
    }
   ],
   "source": [
    "p1.age_of()"
   ]
  },
  {
   "cell_type": "code",
   "execution_count": 14,
   "id": "0a9b9783",
   "metadata": {},
   "outputs": [
    {
     "data": {
      "text/plain": [
       "28"
      ]
     },
     "execution_count": 14,
     "metadata": {},
     "output_type": "execute_result"
    }
   ],
   "source": [
    "p2.age_of()"
   ]
  },
  {
   "cell_type": "code",
   "execution_count": 15,
   "id": "a6faf404",
   "metadata": {},
   "outputs": [],
   "source": [
    "from my_class import math"
   ]
  },
  {
   "cell_type": "code",
   "execution_count": 16,
   "id": "553f0e8d",
   "metadata": {},
   "outputs": [],
   "source": [
    "object1 = math(5,10)"
   ]
  },
  {
   "cell_type": "code",
   "execution_count": 17,
   "id": "801c3e8e",
   "metadata": {},
   "outputs": [
    {
     "data": {
      "text/plain": [
       "26"
      ]
     },
     "execution_count": 17,
     "metadata": {},
     "output_type": "execute_result"
    }
   ],
   "source": [
    "object1.add(12,14)"
   ]
  },
  {
   "cell_type": "code",
   "execution_count": 18,
   "id": "0096c36b",
   "metadata": {
    "scrolled": true
   },
   "outputs": [
    {
     "name": "stdout",
     "output_type": "stream",
     "text": [
      "x is even.\n"
     ]
    }
   ],
   "source": [
    "object1.x_even(10)"
   ]
  },
  {
   "cell_type": "markdown",
   "id": "988b4200",
   "metadata": {},
   "source": [
    "# Python Inheritence"
   ]
  },
  {
   "cell_type": "code",
   "execution_count": 6,
   "id": "1e13e6ac",
   "metadata": {},
   "outputs": [],
   "source": [
    "# Parent Class\n",
    "\n",
    "class Person:\n",
    "    def __init__(self, fname, lname):\n",
    "        self.firstname = fname\n",
    "        self.lastname = lname\n",
    "    \n",
    "    def printname(self):\n",
    "        print(self.firstname, self.lastname)"
   ]
  },
  {
   "cell_type": "code",
   "execution_count": 7,
   "id": "54de7c04",
   "metadata": {},
   "outputs": [],
   "source": [
    "x = Person('Jack', 'Ma')"
   ]
  },
  {
   "cell_type": "code",
   "execution_count": 8,
   "id": "3a18b0f8",
   "metadata": {
    "scrolled": true
   },
   "outputs": [
    {
     "name": "stdout",
     "output_type": "stream",
     "text": [
      "Jack Ma\n"
     ]
    }
   ],
   "source": [
    "x.printname()"
   ]
  },
  {
   "cell_type": "code",
   "execution_count": 9,
   "id": "e8d262b5",
   "metadata": {},
   "outputs": [],
   "source": [
    "# Child Class\n",
    "\n",
    "class Student(Person):\n",
    "    pass"
   ]
  },
  {
   "cell_type": "code",
   "execution_count": 10,
   "id": "c1886c43",
   "metadata": {
    "scrolled": false
   },
   "outputs": [
    {
     "name": "stdout",
     "output_type": "stream",
     "text": [
      "Mike Tyson\n"
     ]
    }
   ],
   "source": [
    "x = Student('Mike', 'Tyson')\n",
    "x.printname()"
   ]
  },
  {
   "cell_type": "code",
   "execution_count": 11,
   "id": "b7843e57",
   "metadata": {},
   "outputs": [],
   "source": [
    "class Student(Person):\n",
    "    def __init__(self, fname, lname, year):\n",
    "        super().__init__(fname, lname)\n",
    "        self.gradutionyear = year"
   ]
  },
  {
   "cell_type": "code",
   "execution_count": 12,
   "id": "6aaad826",
   "metadata": {},
   "outputs": [],
   "source": [
    "x = Student('Mike', 'Tyson', 2019)"
   ]
  },
  {
   "cell_type": "code",
   "execution_count": 24,
   "id": "6f603828",
   "metadata": {},
   "outputs": [],
   "source": [
    "class Objects:\n",
    "    def __init__(self, shape, colour):\n",
    "        self.shape = shape\n",
    "        self.colour = colour\n",
    "        \n",
    "    def print_properties(self):\n",
    "        print(f'The object is of {self.shape} and {self.colour} colour.')"
   ]
  },
  {
   "cell_type": "code",
   "execution_count": 25,
   "id": "f74b4ffb",
   "metadata": {},
   "outputs": [],
   "source": [
    "ball = Objects('Spherical', 'Red')"
   ]
  },
  {
   "cell_type": "code",
   "execution_count": 26,
   "id": "0cf22967",
   "metadata": {
    "scrolled": true
   },
   "outputs": [
    {
     "name": "stdout",
     "output_type": "stream",
     "text": [
      "The object is of Spherical and Red colour.\n"
     ]
    }
   ],
   "source": [
    "ball.print_properties()"
   ]
  },
  {
   "cell_type": "code",
   "execution_count": 27,
   "id": "4ec1a0f5",
   "metadata": {},
   "outputs": [],
   "source": [
    "class fruits(Objects):\n",
    "    pass"
   ]
  },
  {
   "cell_type": "code",
   "execution_count": 28,
   "id": "5b008d63",
   "metadata": {},
   "outputs": [],
   "source": [
    "orange = fruits('Spherical', 'Orange')"
   ]
  },
  {
   "cell_type": "code",
   "execution_count": 29,
   "id": "a57c2609",
   "metadata": {},
   "outputs": [
    {
     "name": "stdout",
     "output_type": "stream",
     "text": [
      "The object is of Spherical and Orange colour.\n"
     ]
    }
   ],
   "source": [
    "orange.print_properties()"
   ]
  },
  {
   "cell_type": "code",
   "execution_count": 30,
   "id": "38b54ca5",
   "metadata": {},
   "outputs": [],
   "source": [
    "class fruits(Objects):\n",
    "    def __init__(self, shape, colour, taste):\n",
    "        super().__init__(shape, colour)\n",
    "        self.taste = taste\n",
    "        \n",
    "    def print_prop(self):\n",
    "        print(f'The fruit is {self.shape}, {self.colour}, with taste {self.taste}')"
   ]
  },
  {
   "cell_type": "code",
   "execution_count": 32,
   "id": "c83d08d7",
   "metadata": {},
   "outputs": [],
   "source": [
    "orange = fruits('Spherical', 'Orange', 'Sour')"
   ]
  },
  {
   "cell_type": "code",
   "execution_count": 33,
   "id": "208e795c",
   "metadata": {},
   "outputs": [
    {
     "name": "stdout",
     "output_type": "stream",
     "text": [
      "The fruit is Spherical, Orange, with taste Sour\n"
     ]
    }
   ],
   "source": [
    "orange.print_prop()"
   ]
  },
  {
   "cell_type": "code",
   "execution_count": 14,
   "id": "9e36a088",
   "metadata": {},
   "outputs": [],
   "source": [
    "class Student(Person):\n",
    "    def __init__(self, fname, lname, year):\n",
    "        super().__init__(fname, lname)\n",
    "        self.graduationyear = year\n",
    "        \n",
    "    def welcome(self):\n",
    "        print('Welcome', self.firstname, self.lastname, 'to the class of', self.graduationyear)"
   ]
  },
  {
   "cell_type": "code",
   "execution_count": 27,
   "id": "9a10fffe",
   "metadata": {},
   "outputs": [
    {
     "name": "stdout",
     "output_type": "stream",
     "text": [
      "Welcome Mike Tyson to the class of 2019\n"
     ]
    }
   ],
   "source": [
    "p1 = Student('Mike', 'Tyson', 2019)\n",
    "p1.welcome()"
   ]
  },
  {
   "cell_type": "code",
   "execution_count": 2,
   "id": "08894f8f",
   "metadata": {},
   "outputs": [],
   "source": [
    "#class Animal:\n",
    "#    def speak(self):\n",
    "#        raise NotImplemented\n",
    "\n",
    "class Dog:\n",
    "    def speak(self):\n",
    "        return 'Bark'\n",
    "\n",
    "class Cat:\n",
    "    def speak(self):\n",
    "        return 'Meow'"
   ]
  },
  {
   "cell_type": "code",
   "execution_count": 3,
   "id": "2229085b",
   "metadata": {},
   "outputs": [
    {
     "name": "stdout",
     "output_type": "stream",
     "text": [
      "Bark\n",
      "Meow\n"
     ]
    }
   ],
   "source": [
    "animals = [Dog(), Cat()]\n",
    "\n",
    "for animal in animals:\n",
    "    print (animal.speak())"
   ]
  },
  {
   "cell_type": "markdown",
   "id": "6e9d0d83",
   "metadata": {},
   "source": [
    "## Custom Errors"
   ]
  },
  {
   "cell_type": "code",
   "execution_count": 30,
   "id": "3e4003c9",
   "metadata": {
    "scrolled": true
   },
   "outputs": [
    {
     "name": "stdout",
     "output_type": "stream",
     "text": [
      "calling str\n"
     ]
    },
    {
     "ename": "MyCustomError",
     "evalue": "MyCustumeError has been raised",
     "output_type": "error",
     "traceback": [
      "\u001b[1;31m---------------------------------------------------------------------------\u001b[0m",
      "\u001b[1;31mMyCustomError\u001b[0m                             Traceback (most recent call last)",
      "Input \u001b[1;32mIn [30]\u001b[0m, in \u001b[0;36m<cell line: 16>\u001b[1;34m()\u001b[0m\n\u001b[0;32m     13\u001b[0m         \u001b[38;5;28;01melse\u001b[39;00m:\n\u001b[0;32m     14\u001b[0m             \u001b[38;5;28;01mreturn\u001b[39;00m \u001b[38;5;124m'\u001b[39m\u001b[38;5;124mMyCustumeError has been raised\u001b[39m\u001b[38;5;124m'\u001b[39m\n\u001b[1;32m---> 16\u001b[0m \u001b[38;5;28;01mraise\u001b[39;00m MyCustomError\n",
      "\u001b[1;31mMyCustomError\u001b[0m: MyCustumeError has been raised"
     ]
    },
    {
     "name": "stdout",
     "output_type": "stream",
     "text": [
      "calling str\n",
      "calling str\n"
     ]
    }
   ],
   "source": [
    "class MyCustomError(Exception):\n",
    "    def __init__(self,*args):\n",
    "        if args:\n",
    "            self.message = args[0]\n",
    "            \n",
    "        else:\n",
    "            self.message = None\n",
    "        \n",
    "    def __str__(self):\n",
    "        print('calling str')\n",
    "        if self.message:\n",
    "            return 'MyCustomerError, {0}'.format(self.message)\n",
    "        else:\n",
    "            return 'MyCustumeError has been raised'\n",
    "    \n",
    "raise MyCustomError"
   ]
  },
  {
   "cell_type": "code",
   "execution_count": 26,
   "id": "48d1e7b4",
   "metadata": {},
   "outputs": [],
   "source": [
    "class myerrorname(Exception):\n",
    "    def __init__(self, *args):\n",
    "        if args:\n",
    "            self.message = arg[0]\n",
    "        else:\n",
    "            self.message = None\n",
    "        \n",
    "    def __str__(self):\n",
    "        # print('calling str')\n",
    "        if self.message:\n",
    "            print('The Error is {}'.format(self.message))\n",
    "        else:\n",
    "            print('Error is raised')"
   ]
  },
  {
   "cell_type": "code",
   "execution_count": 27,
   "id": "65ea3655",
   "metadata": {},
   "outputs": [
    {
     "name": "stdout",
     "output_type": "stream",
     "text": [
      "Error is raised\n",
      "Error is raised\n",
      "Error is raised\n"
     ]
    },
    {
     "ename": "TypeError",
     "evalue": "__str__ returned non-string (type NoneType)",
     "output_type": "error",
     "traceback": [
      "\u001b[1;31m---------------------------------------------------------------------------\u001b[0m",
      "\u001b[1;31mmyerrorname\u001b[0m                               Traceback (most recent call last)",
      "    \u001b[1;31m[... skipping hidden 1 frame]\u001b[0m\n",
      "Input \u001b[1;32mIn [27]\u001b[0m, in \u001b[0;36m<cell line: 1>\u001b[1;34m()\u001b[0m\n\u001b[1;32m----> 1\u001b[0m \u001b[38;5;28;01mraise\u001b[39;00m myerrorname\n",
      "\u001b[1;31m<class 'str'>\u001b[0m: (<class 'TypeError'>, TypeError('__str__ returned non-string (type NoneType)'))",
      "\nDuring handling of the above exception, another exception occurred:\n",
      "\u001b[1;31mTypeError\u001b[0m                                 Traceback (most recent call last)",
      "    \u001b[1;31m[... skipping hidden 1 frame]\u001b[0m\n",
      "File \u001b[1;32m~\\anaconda3\\lib\\site-packages\\IPython\\core\\interactiveshell.py:1993\u001b[0m, in \u001b[0;36mInteractiveShell.showtraceback\u001b[1;34m(self, exc_tuple, filename, tb_offset, exception_only, running_compiled_code)\u001b[0m\n\u001b[0;32m   1990\u001b[0m     traceback\u001b[38;5;241m.\u001b[39mprint_exc()\n\u001b[0;32m   1991\u001b[0m     \u001b[38;5;28;01mreturn\u001b[39;00m \u001b[38;5;28;01mNone\u001b[39;00m\n\u001b[1;32m-> 1993\u001b[0m \u001b[38;5;28;43mself\u001b[39;49m\u001b[38;5;241;43m.\u001b[39;49m\u001b[43m_showtraceback\u001b[49m\u001b[43m(\u001b[49m\u001b[43metype\u001b[49m\u001b[43m,\u001b[49m\u001b[43m \u001b[49m\u001b[43mvalue\u001b[49m\u001b[43m,\u001b[49m\u001b[43m \u001b[49m\u001b[43mstb\u001b[49m\u001b[43m)\u001b[49m\n\u001b[0;32m   1994\u001b[0m \u001b[38;5;28;01mif\u001b[39;00m \u001b[38;5;28mself\u001b[39m\u001b[38;5;241m.\u001b[39mcall_pdb:\n\u001b[0;32m   1995\u001b[0m     \u001b[38;5;66;03m# drop into debugger\u001b[39;00m\n\u001b[0;32m   1996\u001b[0m     \u001b[38;5;28mself\u001b[39m\u001b[38;5;241m.\u001b[39mdebugger(force\u001b[38;5;241m=\u001b[39m\u001b[38;5;28;01mTrue\u001b[39;00m)\n",
      "File \u001b[1;32m~\\anaconda3\\lib\\site-packages\\ipykernel\\zmqshell.py:542\u001b[0m, in \u001b[0;36mZMQInteractiveShell._showtraceback\u001b[1;34m(self, etype, evalue, stb)\u001b[0m\n\u001b[0;32m    536\u001b[0m sys\u001b[38;5;241m.\u001b[39mstdout\u001b[38;5;241m.\u001b[39mflush()\n\u001b[0;32m    537\u001b[0m sys\u001b[38;5;241m.\u001b[39mstderr\u001b[38;5;241m.\u001b[39mflush()\n\u001b[0;32m    539\u001b[0m exc_content \u001b[38;5;241m=\u001b[39m {\n\u001b[0;32m    540\u001b[0m     \u001b[38;5;124m'\u001b[39m\u001b[38;5;124mtraceback\u001b[39m\u001b[38;5;124m'\u001b[39m : stb,\n\u001b[0;32m    541\u001b[0m     \u001b[38;5;124m'\u001b[39m\u001b[38;5;124mename\u001b[39m\u001b[38;5;124m'\u001b[39m : \u001b[38;5;28mstr\u001b[39m(etype\u001b[38;5;241m.\u001b[39m\u001b[38;5;18m__name__\u001b[39m),\n\u001b[1;32m--> 542\u001b[0m     \u001b[38;5;124m'\u001b[39m\u001b[38;5;124mevalue\u001b[39m\u001b[38;5;124m'\u001b[39m : \u001b[38;5;28;43mstr\u001b[39;49m\u001b[43m(\u001b[49m\u001b[43mevalue\u001b[49m\u001b[43m)\u001b[49m,\n\u001b[0;32m    543\u001b[0m }\n\u001b[0;32m    545\u001b[0m dh \u001b[38;5;241m=\u001b[39m \u001b[38;5;28mself\u001b[39m\u001b[38;5;241m.\u001b[39mdisplayhook\n\u001b[0;32m    546\u001b[0m \u001b[38;5;66;03m# Send exception info over pub socket for other clients than the caller\u001b[39;00m\n\u001b[0;32m    547\u001b[0m \u001b[38;5;66;03m# to pick up\u001b[39;00m\n",
      "\u001b[1;31mTypeError\u001b[0m: __str__ returned non-string (type NoneType)"
     ]
    }
   ],
   "source": [
    "raise myerrorname"
   ]
  },
  {
   "cell_type": "code",
   "execution_count": null,
   "id": "9220aba6",
   "metadata": {},
   "outputs": [],
   "source": []
  },
  {
   "cell_type": "code",
   "execution_count": null,
   "id": "86582d08",
   "metadata": {},
   "outputs": [],
   "source": []
  },
  {
   "cell_type": "code",
   "execution_count": null,
   "id": "d1a336c1",
   "metadata": {},
   "outputs": [],
   "source": []
  },
  {
   "cell_type": "code",
   "execution_count": 19,
   "id": "ea9912ec",
   "metadata": {},
   "outputs": [],
   "source": [
    "class John(Exception):\n",
    "    def __init__(self, value):\n",
    "        self.value = value\n",
    "        \n",
    "    def __str__(self):\n",
    "        return '{}, invalid input'.format(self.value)"
   ]
  },
  {
   "cell_type": "code",
   "execution_count": 21,
   "id": "f3e5e4dc",
   "metadata": {},
   "outputs": [
    {
     "ename": "John",
     "evalue": "10, invalid input",
     "output_type": "error",
     "traceback": [
      "\u001b[1;31m---------------------------------------------------------------------------\u001b[0m",
      "\u001b[1;31mJohn\u001b[0m                                      Traceback (most recent call last)",
      "Input \u001b[1;32mIn [21]\u001b[0m, in \u001b[0;36m<cell line: 1>\u001b[1;34m()\u001b[0m\n\u001b[1;32m----> 1\u001b[0m \u001b[38;5;28;01mraise\u001b[39;00m John(\u001b[38;5;241m10\u001b[39m)\n",
      "\u001b[1;31mJohn\u001b[0m: 10, invalid input"
     ]
    }
   ],
   "source": [
    "raise John(10)"
   ]
  },
  {
   "cell_type": "code",
   "execution_count": 17,
   "id": "439964e6",
   "metadata": {},
   "outputs": [],
   "source": [
    "class name_of_class(Exception):\n",
    "    def __init__(self, value):\n",
    "        self.value = value\n",
    "    \n",
    "    def __str__(self):\n",
    "        print(f'{self.value} is the wrong input')"
   ]
  },
  {
   "cell_type": "code",
   "execution_count": 18,
   "id": "b0b51f33",
   "metadata": {},
   "outputs": [
    {
     "name": "stdout",
     "output_type": "stream",
     "text": [
      "10 is the wrong input\n",
      "10 is the wrong input\n",
      "10 is the wrong input\n"
     ]
    },
    {
     "ename": "TypeError",
     "evalue": "__str__ returned non-string (type NoneType)",
     "output_type": "error",
     "traceback": [
      "\u001b[1;31m---------------------------------------------------------------------------\u001b[0m",
      "\u001b[1;31mname_of_class\u001b[0m                             Traceback (most recent call last)",
      "    \u001b[1;31m[... skipping hidden 1 frame]\u001b[0m\n",
      "Input \u001b[1;32mIn [18]\u001b[0m, in \u001b[0;36m<cell line: 1>\u001b[1;34m()\u001b[0m\n\u001b[1;32m----> 1\u001b[0m \u001b[38;5;28;01mraise\u001b[39;00m name_of_class(\u001b[38;5;124m'\u001b[39m\u001b[38;5;124m10\u001b[39m\u001b[38;5;124m'\u001b[39m)\n",
      "\u001b[1;31m<class 'str'>\u001b[0m: (<class 'TypeError'>, TypeError('__str__ returned non-string (type NoneType)'))",
      "\nDuring handling of the above exception, another exception occurred:\n",
      "\u001b[1;31mTypeError\u001b[0m                                 Traceback (most recent call last)",
      "    \u001b[1;31m[... skipping hidden 1 frame]\u001b[0m\n",
      "File \u001b[1;32m~\\anaconda3\\lib\\site-packages\\IPython\\core\\interactiveshell.py:1993\u001b[0m, in \u001b[0;36mInteractiveShell.showtraceback\u001b[1;34m(self, exc_tuple, filename, tb_offset, exception_only, running_compiled_code)\u001b[0m\n\u001b[0;32m   1990\u001b[0m     traceback\u001b[38;5;241m.\u001b[39mprint_exc()\n\u001b[0;32m   1991\u001b[0m     \u001b[38;5;28;01mreturn\u001b[39;00m \u001b[38;5;28;01mNone\u001b[39;00m\n\u001b[1;32m-> 1993\u001b[0m \u001b[38;5;28;43mself\u001b[39;49m\u001b[38;5;241;43m.\u001b[39;49m\u001b[43m_showtraceback\u001b[49m\u001b[43m(\u001b[49m\u001b[43metype\u001b[49m\u001b[43m,\u001b[49m\u001b[43m \u001b[49m\u001b[43mvalue\u001b[49m\u001b[43m,\u001b[49m\u001b[43m \u001b[49m\u001b[43mstb\u001b[49m\u001b[43m)\u001b[49m\n\u001b[0;32m   1994\u001b[0m \u001b[38;5;28;01mif\u001b[39;00m \u001b[38;5;28mself\u001b[39m\u001b[38;5;241m.\u001b[39mcall_pdb:\n\u001b[0;32m   1995\u001b[0m     \u001b[38;5;66;03m# drop into debugger\u001b[39;00m\n\u001b[0;32m   1996\u001b[0m     \u001b[38;5;28mself\u001b[39m\u001b[38;5;241m.\u001b[39mdebugger(force\u001b[38;5;241m=\u001b[39m\u001b[38;5;28;01mTrue\u001b[39;00m)\n",
      "File \u001b[1;32m~\\anaconda3\\lib\\site-packages\\ipykernel\\zmqshell.py:542\u001b[0m, in \u001b[0;36mZMQInteractiveShell._showtraceback\u001b[1;34m(self, etype, evalue, stb)\u001b[0m\n\u001b[0;32m    536\u001b[0m sys\u001b[38;5;241m.\u001b[39mstdout\u001b[38;5;241m.\u001b[39mflush()\n\u001b[0;32m    537\u001b[0m sys\u001b[38;5;241m.\u001b[39mstderr\u001b[38;5;241m.\u001b[39mflush()\n\u001b[0;32m    539\u001b[0m exc_content \u001b[38;5;241m=\u001b[39m {\n\u001b[0;32m    540\u001b[0m     \u001b[38;5;124m'\u001b[39m\u001b[38;5;124mtraceback\u001b[39m\u001b[38;5;124m'\u001b[39m : stb,\n\u001b[0;32m    541\u001b[0m     \u001b[38;5;124m'\u001b[39m\u001b[38;5;124mename\u001b[39m\u001b[38;5;124m'\u001b[39m : \u001b[38;5;28mstr\u001b[39m(etype\u001b[38;5;241m.\u001b[39m\u001b[38;5;18m__name__\u001b[39m),\n\u001b[1;32m--> 542\u001b[0m     \u001b[38;5;124m'\u001b[39m\u001b[38;5;124mevalue\u001b[39m\u001b[38;5;124m'\u001b[39m : \u001b[38;5;28;43mstr\u001b[39;49m\u001b[43m(\u001b[49m\u001b[43mevalue\u001b[49m\u001b[43m)\u001b[49m,\n\u001b[0;32m    543\u001b[0m }\n\u001b[0;32m    545\u001b[0m dh \u001b[38;5;241m=\u001b[39m \u001b[38;5;28mself\u001b[39m\u001b[38;5;241m.\u001b[39mdisplayhook\n\u001b[0;32m    546\u001b[0m \u001b[38;5;66;03m# Send exception info over pub socket for other clients than the caller\u001b[39;00m\n\u001b[0;32m    547\u001b[0m \u001b[38;5;66;03m# to pick up\u001b[39;00m\n",
      "\u001b[1;31mTypeError\u001b[0m: __str__ returned non-string (type NoneType)"
     ]
    }
   ],
   "source": [
    "raise name_of_class('10')"
   ]
  },
  {
   "cell_type": "code",
   "execution_count": null,
   "id": "3d6e2262",
   "metadata": {},
   "outputs": [],
   "source": []
  }
 ],
 "metadata": {
  "kernelspec": {
   "display_name": "Python 3 (ipykernel)",
   "language": "python",
   "name": "python3"
  },
  "language_info": {
   "codemirror_mode": {
    "name": "ipython",
    "version": 3
   },
   "file_extension": ".py",
   "mimetype": "text/x-python",
   "name": "python",
   "nbconvert_exporter": "python",
   "pygments_lexer": "ipython3",
   "version": "3.9.12"
  }
 },
 "nbformat": 4,
 "nbformat_minor": 5
}
