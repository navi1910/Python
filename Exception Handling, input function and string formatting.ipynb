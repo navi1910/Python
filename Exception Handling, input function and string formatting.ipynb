{
 "cells": [
  {
   "cell_type": "markdown",
   "id": "d5cd0830",
   "metadata": {},
   "source": [
    "# Exception Handling"
   ]
  },
  {
   "cell_type": "code",
   "execution_count": 1,
   "id": "4c593824",
   "metadata": {},
   "outputs": [
    {
     "ename": "TypeError",
     "evalue": "unsupported operand type(s) for +: 'int' and 'str'",
     "output_type": "error",
     "traceback": [
      "\u001b[1;31m---------------------------------------------------------------------------\u001b[0m",
      "\u001b[1;31mTypeError\u001b[0m                                 Traceback (most recent call last)",
      "Input \u001b[1;32mIn [1]\u001b[0m, in \u001b[0;36m<cell line: 1>\u001b[1;34m()\u001b[0m\n\u001b[1;32m----> 1\u001b[0m \u001b[38;5;28mprint\u001b[39m(\u001b[38;5;241;43m10\u001b[39;49m\u001b[43m \u001b[49m\u001b[38;5;241;43m+\u001b[39;49m\u001b[43m \u001b[49m\u001b[38;5;124;43m'\u001b[39;49m\u001b[38;5;124;43m5\u001b[39;49m\u001b[38;5;124;43m'\u001b[39;49m)\n",
      "\u001b[1;31mTypeError\u001b[0m: unsupported operand type(s) for +: 'int' and 'str'"
     ]
    }
   ],
   "source": [
    "print(10 + '5')"
   ]
  },
  {
   "cell_type": "code",
   "execution_count": 2,
   "id": "b76f6622",
   "metadata": {},
   "outputs": [
    {
     "name": "stdout",
     "output_type": "stream",
     "text": [
      "Something went wrong\n"
     ]
    }
   ],
   "source": [
    "try:\n",
    "    print(10 + '5')\n",
    "except:\n",
    "    print('Something went wrong')"
   ]
  },
  {
   "cell_type": "code",
   "execution_count": 10,
   "id": "ed789e64",
   "metadata": {},
   "outputs": [
    {
     "name": "stdout",
     "output_type": "stream",
     "text": [
      "Enter your name:Naveen\n",
      "Year you were born:2001\n",
      "Something went wrong\n"
     ]
    }
   ],
   "source": [
    "try:\n",
    "    name = input('Enter your name:')\n",
    "    year_born = input('Year you were born:')\n",
    "    age = 2023 - year_born\n",
    "    print(f'You are {name}. And your age is {age}.')\n",
    "except:\n",
    "    print('Something went wrong')"
   ]
  },
  {
   "cell_type": "code",
   "execution_count": 33,
   "id": "9be567eb",
   "metadata": {},
   "outputs": [
    {
     "name": "stdout",
     "output_type": "stream",
     "text": [
      "zero division error occured\n"
     ]
    }
   ],
   "source": [
    "try:\n",
    "    a = 0\n",
    "    b = 0\n",
    "    ouptput = a/b\n",
    "    print(output)\n",
    "    \n",
    "except TypeError:\n",
    "    print('Type error occured')\n",
    "except ValueError:\n",
    "    print('Value error occured')\n",
    "except ZeroDivisionError:\n",
    "    print('zero division error occured')"
   ]
  },
  {
   "cell_type": "code",
   "execution_count": 39,
   "id": "bea1db61",
   "metadata": {},
   "outputs": [
    {
     "name": "stdout",
     "output_type": "stream",
     "text": [
      "unsupported operand type(s) for /: 'str' and 'int'\n"
     ]
    }
   ],
   "source": [
    "try:\n",
    "    a = \"name\"\n",
    "    b = 2\n",
    "    ouptput = a/b\n",
    "    print(output)\n",
    "\n",
    "except Exception as a:\n",
    "    print(a)"
   ]
  },
  {
   "cell_type": "code",
   "execution_count": 37,
   "id": "cc7dd73f",
   "metadata": {},
   "outputs": [
    {
     "name": "stdout",
     "output_type": "stream",
     "text": [
      "Enter your name:Naveen\n",
      "Year you were born:2001\n",
      "unsupported operand type(s) for -: 'int' and 'str'\n"
     ]
    }
   ],
   "source": [
    "try:\n",
    "    name = input('Enter your name:')\n",
    "    year_born = input('Year you were born:')\n",
    "    age = 2023 - year_born\n",
    "    print(f'You are {name}. And your age is {age}.')\n",
    "except Exception as e:\n",
    "    print(e)"
   ]
  },
  {
   "cell_type": "code",
   "execution_count": 11,
   "id": "42504ed2",
   "metadata": {},
   "outputs": [
    {
     "data": {
      "text/plain": [
       "'This is a string and this is my name Naveen'"
      ]
     },
     "execution_count": 11,
     "metadata": {},
     "output_type": "execute_result"
    }
   ],
   "source": [
    "'This is a string and this is my name {}'.format('Naveen')"
   ]
  },
  {
   "cell_type": "code",
   "execution_count": 12,
   "id": "21b4c68a",
   "metadata": {},
   "outputs": [],
   "source": [
    "name = \"John\""
   ]
  },
  {
   "cell_type": "code",
   "execution_count": 13,
   "id": "c42a2051",
   "metadata": {},
   "outputs": [
    {
     "data": {
      "text/plain": [
       "'The name is John'"
      ]
     },
     "execution_count": 13,
     "metadata": {},
     "output_type": "execute_result"
    }
   ],
   "source": [
    "\"The name is {}\".format(name, circum)"
   ]
  },
  {
   "cell_type": "code",
   "execution_count": 14,
   "id": "a3ddc42a",
   "metadata": {},
   "outputs": [
    {
     "data": {
      "text/plain": [
       "'this is also the John'"
      ]
     },
     "execution_count": 14,
     "metadata": {},
     "output_type": "execute_result"
    }
   ],
   "source": [
    "f'this is also the {name}'"
   ]
  },
  {
   "cell_type": "code",
   "execution_count": 44,
   "id": "16db0290",
   "metadata": {},
   "outputs": [
    {
     "name": "stdout",
     "output_type": "stream",
     "text": [
      "enter radius: 10\n",
      "62.857142857142854: This is the circumference for radius 10.0\n"
     ]
    }
   ],
   "source": [
    "pi = 22/7\n",
    "r = float(input('enter radius: '))\n",
    "circumference = 2*pi*r\n",
    "print(f'{circumference}: This is the circumference for radius {r}')"
   ]
  },
  {
   "cell_type": "code",
   "execution_count": 31,
   "id": "c1db51c4",
   "metadata": {},
   "outputs": [
    {
     "name": "stdout",
     "output_type": "stream",
     "text": [
      "21\n"
     ]
    }
   ],
   "source": [
    "try:\n",
    "    a + b\n",
    "except:\n",
    "    print(10+11)"
   ]
  },
  {
   "cell_type": "code",
   "execution_count": 2,
   "id": "735d87e0",
   "metadata": {},
   "outputs": [
    {
     "name": "stdout",
     "output_type": "stream",
     "text": [
      "30\n",
      "Hello\n"
     ]
    }
   ],
   "source": [
    "try:\n",
    "    a = 10\n",
    "    b = 20\n",
    "    print(a+b)\n",
    "except Exception as e:\n",
    "    print(e)\n",
    "else:\n",
    "    print('Hello')"
   ]
  },
  {
   "cell_type": "code",
   "execution_count": 16,
   "id": "3f2737dd",
   "metadata": {},
   "outputs": [
    {
     "name": "stdout",
     "output_type": "stream",
     "text": [
      "This is the try block:  0.0\n",
      "This is the else block\n"
     ]
    }
   ],
   "source": [
    "try:\n",
    "    a = 0\n",
    "    b = 1\n",
    "    print('This is the try block: ',a/b)\n",
    "except:\n",
    "    print('This is Exception')\n",
    "else:\n",
    "    print('This is the else block')"
   ]
  },
  {
   "cell_type": "code",
   "execution_count": 19,
   "id": "9c626a8d",
   "metadata": {},
   "outputs": [
    {
     "name": "stdout",
     "output_type": "stream",
     "text": [
      "This is the try block:  0.0\n",
      "This is the else block\n",
      "This gets executed no matter what.\n"
     ]
    }
   ],
   "source": [
    "try:\n",
    "    a = 0\n",
    "    b = 1\n",
    "    print('This is the try block: ',a/b)\n",
    "except:\n",
    "    print('This is Exception')\n",
    "else:\n",
    "    print('This is the else block')\n",
    "finally:\n",
    "    print('This gets executed no matter what.')"
   ]
  },
  {
   "cell_type": "code",
   "execution_count": 27,
   "id": "172e77fb",
   "metadata": {},
   "outputs": [
    {
     "name": "stdout",
     "output_type": "stream",
     "text": [
      "Enter measurement: 4\n",
      "The area of square is 16 sq units.\n",
      "The perimeter of square is 16 units.\n"
     ]
    }
   ],
   "source": [
    "try:\n",
    "    a = int(input('Enter measurement: '))\n",
    "    area_sq = a**2\n",
    "    print(f'The area of square is {area_sq} sq units.')\n",
    "except:\n",
    "    print('There was a mistake.')\n",
    "else:\n",
    "    sq_peri = a*4\n",
    "    print(f'The perimeter of square is {sq_peri} units.')"
   ]
  },
  {
   "cell_type": "code",
   "execution_count": 69,
   "id": "bc074d6a",
   "metadata": {},
   "outputs": [],
   "source": [
    "def rect(x):\n",
    "    \n",
    "    if x == True:\n",
    "        \n",
    "        a = float(input('measurement of Lenght: '))\n",
    "        b = float(input('measurement of Breadth: '))\n",
    "        \n",
    "        perimeter = 2*a+2*b\n",
    "        \n",
    "        return print(f'Perimeter of Rectangle with Lenght {a}, and Breadth {b} is {int(perimeter)}.')\n",
    "                     \n",
    "    elif x == False:\n",
    "        \n",
    "        a = float(input('measurement of Lenght: '))\n",
    "        \n",
    "        perimeter = 4*a\n",
    "        \n",
    "        return print(f'Perimeter of Square with lenght {a} is {int(perimeter)}.')"
   ]
  },
  {
   "cell_type": "code",
   "execution_count": 53,
   "id": "668488d8",
   "metadata": {},
   "outputs": [
    {
     "name": "stdout",
     "output_type": "stream",
     "text": [
      "measurement of Lenght: 20\n",
      "measurement of Breadth: 30\n",
      "Perimeter of Rectangle with Lenght 20.0, and Breadth 30.0 is 100\n"
     ]
    }
   ],
   "source": [
    "rect(True)"
   ]
  },
  {
   "cell_type": "code",
   "execution_count": 54,
   "id": "c25acf75",
   "metadata": {},
   "outputs": [
    {
     "name": "stdout",
     "output_type": "stream",
     "text": [
      "measurement of Lenght: 10\n",
      "Perimeter of Square with lenght 10.0 is 40\n"
     ]
    }
   ],
   "source": [
    "rect(False)"
   ]
  },
  {
   "cell_type": "code",
   "execution_count": 74,
   "id": "d701b330",
   "metadata": {},
   "outputs": [
    {
     "name": "stdout",
     "output_type": "stream",
     "text": [
      "Lenght: 10\n",
      "Breadth: 20\n",
      "Is it a rectangle? True/False: False\n",
      "measurement of Lenght: 20\n",
      "measurement of Breadth: 30\n",
      "Perimeter of Rectangle with Lenght 20.0, and Breadth 30.0 is 100.\n",
      "Current Area: 200\n"
     ]
    }
   ],
   "source": [
    "try:\n",
    "    a = int(input('Lenght: '))\n",
    "    b = int(input('Breadth: '))\n",
    "    area = a*b\n",
    "    \n",
    "except ValueError:\n",
    "    print('Values entered must be Integer')\n",
    "    \n",
    "else:\n",
    "    rect(bool(input('Is it a rectangle? True/False: ')))\n",
    "    \n",
    "finally:\n",
    "    print('Current Area:', area)"
   ]
  },
  {
   "cell_type": "code",
   "execution_count": null,
   "id": "d9756af5",
   "metadata": {},
   "outputs": [],
   "source": []
  }
 ],
 "metadata": {
  "kernelspec": {
   "display_name": "Python 3 (ipykernel)",
   "language": "python",
   "name": "python3"
  },
  "language_info": {
   "codemirror_mode": {
    "name": "ipython",
    "version": 3
   },
   "file_extension": ".py",
   "mimetype": "text/x-python",
   "name": "python",
   "nbconvert_exporter": "python",
   "pygments_lexer": "ipython3",
   "version": "3.9.12"
  }
 },
 "nbformat": 4,
 "nbformat_minor": 5
}
