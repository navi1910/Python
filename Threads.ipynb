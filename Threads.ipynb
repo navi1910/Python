{
 "cells": [
  {
   "cell_type": "code",
   "execution_count": 1,
   "id": "95dfdb7e",
   "metadata": {},
   "outputs": [],
   "source": [
    "from threading import *"
   ]
  },
  {
   "cell_type": "code",
   "execution_count": 2,
   "id": "72e383c0",
   "metadata": {},
   "outputs": [],
   "source": [
    "def show():\n",
    "    print('This is a child thread.')"
   ]
  },
  {
   "cell_type": "code",
   "execution_count": 4,
   "id": "f7b6d88a",
   "metadata": {},
   "outputs": [
    {
     "name": "stdout",
     "output_type": "stream",
     "text": [
      "This is a child thread.\n",
      "Parent Thread\n"
     ]
    }
   ],
   "source": [
    "t = Thread(target = show())\n",
    "t.start()\n",
    "print('Parent Thread')"
   ]
  },
  {
   "cell_type": "code",
   "execution_count": 11,
   "id": "07f37916",
   "metadata": {},
   "outputs": [],
   "source": [
    "import threading\n",
    "import time\n",
    "\n",
    "def print_1():\n",
    "    print('Start', threading.currentThread().name)\n",
    "    time.sleep(5)\n",
    "    print('Finish', threading.currentThread().name)"
   ]
  },
  {
   "cell_type": "code",
   "execution_count": 15,
   "id": "a335ead5",
   "metadata": {},
   "outputs": [],
   "source": [
    "def print_2():\n",
    "    print('Start', threading.current_thread().name)\n",
    "    print('Finish', threading.current_thread().name)"
   ]
  },
  {
   "cell_type": "code",
   "execution_count": 16,
   "id": "f1a7fe06",
   "metadata": {},
   "outputs": [],
   "source": [
    "a = threading.Thread(target = print_1, name = 'Thread 1', daemon= True)\n",
    "b = threading.Thread(target = print_2, name = 'Thread2')"
   ]
  },
  {
   "cell_type": "code",
   "execution_count": 17,
   "id": "97e5abb9",
   "metadata": {},
   "outputs": [
    {
     "name": "stdout",
     "output_type": "stream",
     "text": [
      "Start Thread 1\n",
      "Start Thread2\n",
      "Finish Thread2\n",
      "Finish Thread 1\n"
     ]
    }
   ],
   "source": [
    "a.start()\n",
    "b.start()"
   ]
  },
  {
   "cell_type": "code",
   "execution_count": 18,
   "id": "1bebca1f",
   "metadata": {},
   "outputs": [
    {
     "name": "stdout",
     "output_type": "stream",
     "text": [
      "Thread 0 going to sleepCurrent Thread Count: 7\n",
      "\n",
      "Thread 1 going to sleepCurrent Thread Count: 8\n",
      "\n",
      "Thread 2 going to sleepCurrent Thread Count: 9\n",
      "\n",
      "Thread 3 going to sleepCurrent Thread Count: a\n",
      "\n",
      "Thread 4 going to sleep\n",
      "Current Thread Count: b\n",
      "Thread 5 going to sleep\n",
      "Current Thread Count: c\n",
      "Thread 6 going to sleep\n",
      "Current Thread Count: d\n",
      "Thread 7 going to sleep\n",
      "Current Thread Count: e\n",
      "Thread 8 going to sleep\n",
      "Current Thread Count: f\n",
      "Thread 9 going to sleepCurrent Thread Count: 10\n",
      "\n",
      "Thread 0 now activeThread 1 now active\n",
      "\n",
      "Thread 2 now active\n",
      "Thread 3 now activeThread 5 now activeThread 6 now active\n",
      "Thread 7 now active\n",
      "\n",
      "Thread 4 now active\n",
      "Thread 8 now active\n",
      "\n",
      "Thread 9 now active\n"
     ]
    }
   ],
   "source": [
    "def SleepMe(x):\n",
    "    print('Thread %x going to sleep' %x)\n",
    "    time.sleep(3)\n",
    "    print('Thread %x now active' %x)\n",
    "    \n",
    "for x in range(10):\n",
    "    th = Thread(target = SleepMe, args = (x,))\n",
    "    th.start()\n",
    "    print('Current Thread Count: %x' % threading.active_count())"
   ]
  },
  {
   "cell_type": "code",
   "execution_count": 19,
   "id": "7de2eaf0",
   "metadata": {},
   "outputs": [
    {
     "name": "stdout",
     "output_type": "stream",
     "text": [
      "Print after 3 seconds\n"
     ]
    }
   ],
   "source": [
    "def delayed():\n",
    "    print(\"Print after 3 seconds\")\n",
    "    \n",
    "thread = threading.Timer(3, delayed)\n",
    "thread.start()"
   ]
  },
  {
   "cell_type": "code",
   "execution_count": 30,
   "id": "5807a73d",
   "metadata": {},
   "outputs": [
    {
     "name": "stdout",
     "output_type": "stream",
     "text": [
      "50\n"
     ]
    }
   ],
   "source": [
    "# Lock for Synchronization\n",
    "\n",
    "lock = threading.Lock()\n",
    "deposit = 50\n",
    "\n",
    "def add_profit():\n",
    "    global deposit\n",
    "    for i in range(100000):\n",
    "        lock.acquire()\n",
    "        deposit = deposit + 10\n",
    "        lock.release()\n",
    "        \n",
    "def pay_bill():\n",
    "    global deposit\n",
    "    for i in range(100000):\n",
    "        lock.acquire()\n",
    "        deposit = deposit - 10\n",
    "        lock.release()\n",
    "        \n",
    "# Creating Threads\n",
    "thread1 = threading.Thread(target = add_profit, args = ())\n",
    "thread2 = threading.Thread(target = pay_bill, args = ())\n",
    " \n",
    "thread1.start()\n",
    "thread2.start()\n",
    "\n",
    "thread1.join()\n",
    "thread2.join()\n",
    "\n",
    "print(deposit)"
   ]
  },
  {
   "cell_type": "code",
   "execution_count": null,
   "id": "4af59274",
   "metadata": {},
   "outputs": [],
   "source": []
  },
  {
   "cell_type": "code",
   "execution_count": null,
   "id": "7ddd0ca9",
   "metadata": {},
   "outputs": [],
   "source": []
  }
 ],
 "metadata": {
  "kernelspec": {
   "display_name": "Python 3 (ipykernel)",
   "language": "python",
   "name": "python3"
  },
  "language_info": {
   "codemirror_mode": {
    "name": "ipython",
    "version": 3
   },
   "file_extension": ".py",
   "mimetype": "text/x-python",
   "name": "python",
   "nbconvert_exporter": "python",
   "pygments_lexer": "ipython3",
   "version": "3.9.12"
  }
 },
 "nbformat": 4,
 "nbformat_minor": 5
}
