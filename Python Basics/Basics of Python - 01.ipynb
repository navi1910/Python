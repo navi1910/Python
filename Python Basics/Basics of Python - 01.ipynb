{
 "cells": [
  {
   "cell_type": "code",
   "execution_count": 1,
   "id": "84cb991f",
   "metadata": {},
   "outputs": [
    {
     "data": {
      "text/plain": [
       "'String'"
      ]
     },
     "execution_count": 1,
     "metadata": {},
     "output_type": "execute_result"
    }
   ],
   "source": [
    "# Data Types\n",
    "\n",
    "1 # Numeric\n",
    "'String' # String/Character"
   ]
  },
  {
   "cell_type": "code",
   "execution_count": 78,
   "id": "8e2949d5",
   "metadata": {},
   "outputs": [],
   "source": [
    "# This is a comment"
   ]
  },
  {
   "cell_type": "code",
   "execution_count": 2,
   "id": "f096a8de",
   "metadata": {
    "scrolled": true
   },
   "outputs": [
    {
     "data": {
      "text/plain": [
       "2"
      ]
     },
     "execution_count": 2,
     "metadata": {},
     "output_type": "execute_result"
    }
   ],
   "source": [
    "# Mathematical Operations\n",
    "\n",
    "1+1 # Addition"
   ]
  },
  {
   "cell_type": "code",
   "execution_count": 3,
   "id": "5c0445a6",
   "metadata": {},
   "outputs": [
    {
     "data": {
      "text/plain": [
       "2"
      ]
     },
     "execution_count": 3,
     "metadata": {},
     "output_type": "execute_result"
    }
   ],
   "source": [
    "4-2 # Subtract"
   ]
  },
  {
   "cell_type": "code",
   "execution_count": 4,
   "id": "91b1f435",
   "metadata": {},
   "outputs": [
    {
     "data": {
      "text/plain": [
       "15"
      ]
     },
     "execution_count": 4,
     "metadata": {},
     "output_type": "execute_result"
    }
   ],
   "source": [
    "5*3 # Multiply"
   ]
  },
  {
   "cell_type": "code",
   "execution_count": 5,
   "id": "3cb8fd62",
   "metadata": {
    "scrolled": true
   },
   "outputs": [
    {
     "data": {
      "text/plain": [
       "28.0"
      ]
     },
     "execution_count": 5,
     "metadata": {},
     "output_type": "execute_result"
    }
   ],
   "source": [
    "56/2 # Divide"
   ]
  },
  {
   "cell_type": "code",
   "execution_count": 6,
   "id": "f6f03d6e",
   "metadata": {},
   "outputs": [
    {
     "data": {
      "text/plain": [
       "9"
      ]
     },
     "execution_count": 6,
     "metadata": {},
     "output_type": "execute_result"
    }
   ],
   "source": [
    "3**2 # Raised to the Power"
   ]
  },
  {
   "cell_type": "code",
   "execution_count": 7,
   "id": "0b1076e2",
   "metadata": {},
   "outputs": [
    {
     "data": {
      "text/plain": [
       "0"
      ]
     },
     "execution_count": 7,
     "metadata": {},
     "output_type": "execute_result"
    }
   ],
   "source": [
    "9%3 # Modulus -> Gives the remainder of Division as the output"
   ]
  },
  {
   "cell_type": "code",
   "execution_count": 8,
   "id": "2933b54d",
   "metadata": {},
   "outputs": [],
   "source": [
    "# Variable Assignment\n",
    "\n",
    "a = 10"
   ]
  },
  {
   "cell_type": "code",
   "execution_count": 9,
   "id": "686b9464",
   "metadata": {},
   "outputs": [
    {
     "name": "stdout",
     "output_type": "stream",
     "text": [
      "10\n"
     ]
    }
   ],
   "source": [
    "print(a)"
   ]
  },
  {
   "cell_type": "code",
   "execution_count": 10,
   "id": "854b6d58",
   "metadata": {},
   "outputs": [
    {
     "name": "stdout",
     "output_type": "stream",
     "text": [
      "My_name\n"
     ]
    }
   ],
   "source": [
    "name = 'My_name'\n",
    "print(name)"
   ]
  },
  {
   "cell_type": "code",
   "execution_count": 11,
   "id": "981b651d",
   "metadata": {},
   "outputs": [
    {
     "data": {
      "text/plain": [
       "'namenamename'"
      ]
     },
     "execution_count": 11,
     "metadata": {},
     "output_type": "execute_result"
    }
   ],
   "source": [
    "'name'*3"
   ]
  },
  {
   "cell_type": "code",
   "execution_count": 12,
   "id": "74403fe4",
   "metadata": {},
   "outputs": [
    {
     "data": {
      "text/plain": [
       "[1, 3, 4, 5, 6, 7]"
      ]
     },
     "execution_count": 12,
     "metadata": {},
     "output_type": "execute_result"
    }
   ],
   "source": [
    "# List\n",
    "\n",
    "[1,3,4,5,6,7]"
   ]
  },
  {
   "cell_type": "code",
   "execution_count": 13,
   "id": "04e70bd7",
   "metadata": {},
   "outputs": [],
   "source": [
    "list1 = [1,3,4,5,6,7]"
   ]
  },
  {
   "cell_type": "code",
   "execution_count": 14,
   "id": "e209f545",
   "metadata": {},
   "outputs": [
    {
     "name": "stdout",
     "output_type": "stream",
     "text": [
      "[1, 3, 4, 5, 6, 7]\n"
     ]
    }
   ],
   "source": [
    "print(list1)"
   ]
  },
  {
   "cell_type": "code",
   "execution_count": 15,
   "id": "84a7e064",
   "metadata": {},
   "outputs": [
    {
     "data": {
      "text/plain": [
       "5"
      ]
     },
     "execution_count": 15,
     "metadata": {},
     "output_type": "execute_result"
    }
   ],
   "source": [
    "list1[3]"
   ]
  },
  {
   "cell_type": "code",
   "execution_count": 16,
   "id": "ef150696",
   "metadata": {},
   "outputs": [
    {
     "data": {
      "text/plain": [
       "7"
      ]
     },
     "execution_count": 16,
     "metadata": {},
     "output_type": "execute_result"
    }
   ],
   "source": [
    "list1[5]"
   ]
  },
  {
   "cell_type": "code",
   "execution_count": 17,
   "id": "a0a47ae6",
   "metadata": {},
   "outputs": [],
   "source": [
    "list2 = [23,56,78,34,98,100,45,76,88]"
   ]
  },
  {
   "cell_type": "code",
   "execution_count": 18,
   "id": "47e9d482",
   "metadata": {},
   "outputs": [
    {
     "data": {
      "text/plain": [
       "34"
      ]
     },
     "execution_count": 18,
     "metadata": {},
     "output_type": "execute_result"
    }
   ],
   "source": [
    "list2[3]"
   ]
  },
  {
   "cell_type": "code",
   "execution_count": 19,
   "id": "3ff66d33",
   "metadata": {},
   "outputs": [],
   "source": [
    "name = 'Naveen'"
   ]
  },
  {
   "cell_type": "code",
   "execution_count": 20,
   "id": "3f95d944",
   "metadata": {},
   "outputs": [
    {
     "name": "stdout",
     "output_type": "stream",
     "text": [
      "v\n"
     ]
    }
   ],
   "source": [
    "print(name[2])"
   ]
  },
  {
   "cell_type": "code",
   "execution_count": 21,
   "id": "433af555",
   "metadata": {},
   "outputs": [],
   "source": [
    "list3 = [1,2,3,4,'Five',6]"
   ]
  },
  {
   "cell_type": "code",
   "execution_count": 22,
   "id": "867adf33",
   "metadata": {
    "scrolled": true
   },
   "outputs": [
    {
     "data": {
      "text/plain": [
       "'v'"
      ]
     },
     "execution_count": 22,
     "metadata": {},
     "output_type": "execute_result"
    }
   ],
   "source": [
    "list3[4][2]"
   ]
  },
  {
   "cell_type": "code",
   "execution_count": 23,
   "id": "8b01566e",
   "metadata": {},
   "outputs": [],
   "source": [
    "lst = ['string', 1, 3.0]"
   ]
  },
  {
   "cell_type": "code",
   "execution_count": 24,
   "id": "ec8ea58c",
   "metadata": {},
   "outputs": [],
   "source": [
    "lst[2] = 4"
   ]
  },
  {
   "cell_type": "code",
   "execution_count": 25,
   "id": "dec43c7c",
   "metadata": {},
   "outputs": [
    {
     "data": {
      "text/plain": [
       "['string', 1, 4]"
      ]
     },
     "execution_count": 25,
     "metadata": {},
     "output_type": "execute_result"
    }
   ],
   "source": [
    "lst"
   ]
  },
  {
   "cell_type": "code",
   "execution_count": 26,
   "id": "8d1ba501",
   "metadata": {},
   "outputs": [],
   "source": [
    "tup = (1,2,3,'string')"
   ]
  },
  {
   "cell_type": "code",
   "execution_count": 27,
   "id": "c9420bf3",
   "metadata": {},
   "outputs": [
    {
     "data": {
      "text/plain": [
       "(1, 2, 3, 'string')"
      ]
     },
     "execution_count": 27,
     "metadata": {},
     "output_type": "execute_result"
    }
   ],
   "source": [
    "tup"
   ]
  },
  {
   "cell_type": "code",
   "execution_count": 28,
   "id": "4cd76435",
   "metadata": {},
   "outputs": [],
   "source": [
    "set1 = {1,2,3,4}"
   ]
  },
  {
   "cell_type": "code",
   "execution_count": 29,
   "id": "cce7cb4f",
   "metadata": {},
   "outputs": [
    {
     "data": {
      "text/plain": [
       "{1, 2, 3}"
      ]
     },
     "execution_count": 29,
     "metadata": {},
     "output_type": "execute_result"
    }
   ],
   "source": [
    "{1,2,2,3}"
   ]
  },
  {
   "cell_type": "code",
   "execution_count": 30,
   "id": "938a3794",
   "metadata": {},
   "outputs": [
    {
     "data": {
      "text/plain": [
       "'Hello'"
      ]
     },
     "execution_count": 30,
     "metadata": {},
     "output_type": "execute_result"
    }
   ],
   "source": [
    "'Hello'"
   ]
  },
  {
   "cell_type": "code",
   "execution_count": 31,
   "id": "e90ba83c",
   "metadata": {},
   "outputs": [
    {
     "data": {
      "text/plain": [
       "'Hiiii'"
      ]
     },
     "execution_count": 31,
     "metadata": {},
     "output_type": "execute_result"
    }
   ],
   "source": [
    "\"Hiiii\""
   ]
  },
  {
   "cell_type": "code",
   "execution_count": 32,
   "id": "66c908ce",
   "metadata": {},
   "outputs": [
    {
     "data": {
      "text/plain": [
       "'Heyyy'"
      ]
     },
     "execution_count": 32,
     "metadata": {},
     "output_type": "execute_result"
    }
   ],
   "source": [
    "\"\"\"Heyyy\"\"\""
   ]
  },
  {
   "cell_type": "code",
   "execution_count": 33,
   "id": "56099443",
   "metadata": {},
   "outputs": [],
   "source": [
    "x = \"Hello my name is 'Naveen'\""
   ]
  },
  {
   "cell_type": "code",
   "execution_count": 34,
   "id": "807d3a9e",
   "metadata": {},
   "outputs": [
    {
     "name": "stdout",
     "output_type": "stream",
     "text": [
      "Hello my name is 'Naveen'\n"
     ]
    }
   ],
   "source": [
    "print(x)"
   ]
  },
  {
   "cell_type": "code",
   "execution_count": 35,
   "id": "cbe069c7",
   "metadata": {},
   "outputs": [
    {
     "data": {
      "text/plain": [
       "'Hello\\nmy \\nname\\nnaveen\\n'"
      ]
     },
     "execution_count": 35,
     "metadata": {},
     "output_type": "execute_result"
    }
   ],
   "source": [
    "\"\"\"Hello\n",
    "my \n",
    "name\n",
    "naveen\n",
    "\"\"\""
   ]
  },
  {
   "cell_type": "code",
   "execution_count": 36,
   "id": "9db326dc",
   "metadata": {},
   "outputs": [
    {
     "name": "stdout",
     "output_type": "stream",
     "text": [
      "Hello \n",
      "Naveen\n"
     ]
    }
   ],
   "source": [
    "print('Hello \\nNaveen')"
   ]
  },
  {
   "cell_type": "code",
   "execution_count": 37,
   "id": "c48f0655",
   "metadata": {},
   "outputs": [],
   "source": [
    "x = 'Hello'"
   ]
  },
  {
   "cell_type": "code",
   "execution_count": 38,
   "id": "0aa6eb90",
   "metadata": {},
   "outputs": [
    {
     "ename": "TypeError",
     "evalue": "'str' object does not support item assignment",
     "output_type": "error",
     "traceback": [
      "\u001b[1;31m---------------------------------------------------------------------------\u001b[0m",
      "\u001b[1;31mTypeError\u001b[0m                                 Traceback (most recent call last)",
      "Input \u001b[1;32mIn [38]\u001b[0m, in \u001b[0;36m<cell line: 1>\u001b[1;34m()\u001b[0m\n\u001b[1;32m----> 1\u001b[0m x[\u001b[38;5;241m4\u001b[39m] \u001b[38;5;241m=\u001b[39m \u001b[38;5;124m'\u001b[39m\u001b[38;5;124mh\u001b[39m\u001b[38;5;124m'\u001b[39m\n",
      "\u001b[1;31mTypeError\u001b[0m: 'str' object does not support item assignment"
     ]
    }
   ],
   "source": [
    "x[4] = 'h'"
   ]
  },
  {
   "cell_type": "code",
   "execution_count": null,
   "id": "f58f8e3f",
   "metadata": {},
   "outputs": [],
   "source": [
    "78//2"
   ]
  },
  {
   "cell_type": "code",
   "execution_count": null,
   "id": "02903cd8",
   "metadata": {},
   "outputs": [],
   "source": [
    "78/2"
   ]
  },
  {
   "cell_type": "code",
   "execution_count": null,
   "id": "92258bd8",
   "metadata": {},
   "outputs": [],
   "source": [
    "39.0"
   ]
  },
  {
   "cell_type": "code",
   "execution_count": null,
   "id": "2eade6e7",
   "metadata": {},
   "outputs": [],
   "source": [
    "int(39.0)"
   ]
  },
  {
   "cell_type": "code",
   "execution_count": null,
   "id": "b0d85bde",
   "metadata": {},
   "outputs": [],
   "source": [
    "float(39)"
   ]
  },
  {
   "cell_type": "code",
   "execution_count": null,
   "id": "73626dea",
   "metadata": {},
   "outputs": [],
   "source": [
    "x = 39"
   ]
  },
  {
   "cell_type": "code",
   "execution_count": null,
   "id": "8195c969",
   "metadata": {},
   "outputs": [],
   "source": [
    "float(x)"
   ]
  },
  {
   "cell_type": "code",
   "execution_count": null,
   "id": "0fb03442",
   "metadata": {},
   "outputs": [],
   "source": [
    "str(x)"
   ]
  },
  {
   "cell_type": "code",
   "execution_count": null,
   "id": "7e9c7a35",
   "metadata": {},
   "outputs": [],
   "source": [
    "y = int(39.8)"
   ]
  },
  {
   "cell_type": "code",
   "execution_count": null,
   "id": "02146f5c",
   "metadata": {},
   "outputs": [],
   "source": [
    "type(y)"
   ]
  },
  {
   "cell_type": "code",
   "execution_count": null,
   "id": "211a1474",
   "metadata": {},
   "outputs": [],
   "source": [
    "x = 1j"
   ]
  },
  {
   "cell_type": "code",
   "execution_count": null,
   "id": "30f0cd40",
   "metadata": {},
   "outputs": [],
   "source": [
    "type(x)"
   ]
  },
  {
   "cell_type": "code",
   "execution_count": null,
   "id": "9442d8de",
   "metadata": {},
   "outputs": [],
   "source": [
    "lst"
   ]
  },
  {
   "cell_type": "code",
   "execution_count": null,
   "id": "a7477113",
   "metadata": {},
   "outputs": [],
   "source": [
    "type(lst)"
   ]
  },
  {
   "cell_type": "code",
   "execution_count": null,
   "id": "2d1be10e",
   "metadata": {},
   "outputs": [],
   "source": [
    "True"
   ]
  },
  {
   "cell_type": "code",
   "execution_count": null,
   "id": "b3e3117f",
   "metadata": {},
   "outputs": [],
   "source": [
    "x = 7>6"
   ]
  },
  {
   "cell_type": "code",
   "execution_count": null,
   "id": "bb27083e",
   "metadata": {},
   "outputs": [],
   "source": [
    "type(x)"
   ]
  },
  {
   "cell_type": "code",
   "execution_count": null,
   "id": "0366bf18",
   "metadata": {},
   "outputs": [],
   "source": [
    "6>7"
   ]
  },
  {
   "cell_type": "code",
   "execution_count": null,
   "id": "8d8ed3c7",
   "metadata": {},
   "outputs": [],
   "source": [
    "type(None)"
   ]
  },
  {
   "cell_type": "code",
   "execution_count": null,
   "id": "415a7c50",
   "metadata": {},
   "outputs": [],
   "source": [
    "list1 = [1,2,3,4,5,6]"
   ]
  },
  {
   "cell_type": "code",
   "execution_count": null,
   "id": "5c2f1562",
   "metadata": {},
   "outputs": [],
   "source": [
    "list1[1] = 7"
   ]
  },
  {
   "cell_type": "code",
   "execution_count": null,
   "id": "743a361b",
   "metadata": {},
   "outputs": [],
   "source": [
    "list1"
   ]
  },
  {
   "cell_type": "code",
   "execution_count": null,
   "id": "538f99c7",
   "metadata": {},
   "outputs": [],
   "source": [
    "tup1 = (1,2,3,4,5,6)"
   ]
  },
  {
   "cell_type": "code",
   "execution_count": null,
   "id": "b7b29dac",
   "metadata": {},
   "outputs": [],
   "source": [
    "tup1[1] = 7 "
   ]
  },
  {
   "cell_type": "code",
   "execution_count": null,
   "id": "f11f245d",
   "metadata": {},
   "outputs": [],
   "source": [
    "set1 = {1,2,3,4}"
   ]
  },
  {
   "cell_type": "code",
   "execution_count": null,
   "id": "70b7fe40",
   "metadata": {},
   "outputs": [],
   "source": [
    "set2 = {1,2,2,3,4}"
   ]
  },
  {
   "cell_type": "code",
   "execution_count": null,
   "id": "3e3daaea",
   "metadata": {},
   "outputs": [],
   "source": [
    "set2[1]"
   ]
  },
  {
   "cell_type": "code",
   "execution_count": null,
   "id": "e1614f83",
   "metadata": {},
   "outputs": [],
   "source": [
    "x = '4'"
   ]
  },
  {
   "cell_type": "code",
   "execution_count": null,
   "id": "66f27ff8",
   "metadata": {},
   "outputs": [],
   "source": [
    "type(x)"
   ]
  },
  {
   "cell_type": "code",
   "execution_count": null,
   "id": "8c526d9d",
   "metadata": {},
   "outputs": [],
   "source": [
    "type()"
   ]
  },
  {
   "cell_type": "markdown",
   "id": "91400cb6",
   "metadata": {},
   "source": [
    "### Comparison Operators"
   ]
  },
  {
   "cell_type": "code",
   "execution_count": null,
   "id": "afede96b",
   "metadata": {},
   "outputs": [],
   "source": [
    "> < == != <= >="
   ]
  },
  {
   "cell_type": "code",
   "execution_count": null,
   "id": "9a7890d5",
   "metadata": {},
   "outputs": [],
   "source": [
    "4>3"
   ]
  },
  {
   "cell_type": "code",
   "execution_count": null,
   "id": "fbbae2f8",
   "metadata": {},
   "outputs": [],
   "source": [
    "x = 3"
   ]
  },
  {
   "cell_type": "code",
   "execution_count": null,
   "id": "d65d7f6d",
   "metadata": {},
   "outputs": [],
   "source": [
    "4 == 3"
   ]
  },
  {
   "cell_type": "code",
   "execution_count": null,
   "id": "52198153",
   "metadata": {},
   "outputs": [],
   "source": [
    "4 != 3.0"
   ]
  },
  {
   "cell_type": "code",
   "execution_count": null,
   "id": "c4342cb4",
   "metadata": {},
   "outputs": [],
   "source": [
    "'hi' > 'hello'"
   ]
  },
  {
   "cell_type": "code",
   "execution_count": null,
   "id": "fdddf762",
   "metadata": {},
   "outputs": [],
   "source": [
    "'hello' > 'hi'"
   ]
  },
  {
   "cell_type": "code",
   "execution_count": null,
   "id": "61187091",
   "metadata": {},
   "outputs": [],
   "source": [
    "4 >= 4"
   ]
  },
  {
   "cell_type": "code",
   "execution_count": null,
   "id": "5c827863",
   "metadata": {},
   "outputs": [],
   "source": [
    "5 >= 4"
   ]
  },
  {
   "cell_type": "code",
   "execution_count": null,
   "id": "09d2ddbd",
   "metadata": {},
   "outputs": [],
   "source": [
    "4 <= 4"
   ]
  },
  {
   "cell_type": "code",
   "execution_count": null,
   "id": "3b03661d",
   "metadata": {},
   "outputs": [],
   "source": [
    "3<4"
   ]
  },
  {
   "cell_type": "markdown",
   "id": "95aa8991",
   "metadata": {},
   "source": [
    "### Logical Operators"
   ]
  },
  {
   "cell_type": "code",
   "execution_count": null,
   "id": "cb6c59aa",
   "metadata": {},
   "outputs": [],
   "source": [
    "and or "
   ]
  },
  {
   "cell_type": "code",
   "execution_count": null,
   "id": "724326e4",
   "metadata": {},
   "outputs": [],
   "source": [
    "True and True"
   ]
  },
  {
   "cell_type": "code",
   "execution_count": null,
   "id": "9b3bddab",
   "metadata": {},
   "outputs": [],
   "source": [
    "True and False"
   ]
  },
  {
   "cell_type": "code",
   "execution_count": null,
   "id": "b16528ea",
   "metadata": {},
   "outputs": [],
   "source": [
    "(6>7) and (8<9)"
   ]
  },
  {
   "cell_type": "code",
   "execution_count": null,
   "id": "c50d64da",
   "metadata": {},
   "outputs": [],
   "source": [
    "(6<7) and (8<9)"
   ]
  },
  {
   "cell_type": "code",
   "execution_count": null,
   "id": "54eb39b2",
   "metadata": {},
   "outputs": [],
   "source": [
    "type((6>7) or (8<9))"
   ]
  },
  {
   "cell_type": "markdown",
   "id": "0549cb9b",
   "metadata": {},
   "source": [
    "### Dictionaries"
   ]
  },
  {
   "cell_type": "code",
   "execution_count": null,
   "id": "b61bb1fc",
   "metadata": {},
   "outputs": [],
   "source": [
    "dict1 = {'Name':'Naveen','Languages':['English','Kannada', 'Tamil', 'Telugu'],\n",
    "         'Marks':[1,2,3,4,5]}"
   ]
  },
  {
   "cell_type": "code",
   "execution_count": null,
   "id": "bd7305ec",
   "metadata": {},
   "outputs": [],
   "source": [
    "dict1"
   ]
  },
  {
   "cell_type": "code",
   "execution_count": null,
   "id": "64d5de0b",
   "metadata": {},
   "outputs": [],
   "source": [
    "dict1['Name']"
   ]
  },
  {
   "cell_type": "code",
   "execution_count": null,
   "id": "5de7b04b",
   "metadata": {},
   "outputs": [],
   "source": [
    "dict1['Languages']"
   ]
  },
  {
   "cell_type": "code",
   "execution_count": null,
   "id": "8f3f9b47",
   "metadata": {},
   "outputs": [],
   "source": [
    "dict1['Languages'][1]"
   ]
  },
  {
   "cell_type": "code",
   "execution_count": null,
   "id": "c1aa9c9e",
   "metadata": {},
   "outputs": [],
   "source": [
    "x = (23,45,64, 25)"
   ]
  },
  {
   "cell_type": "code",
   "execution_count": null,
   "id": "f1ed5930",
   "metadata": {},
   "outputs": [],
   "source": [
    "x[2]"
   ]
  },
  {
   "cell_type": "code",
   "execution_count": null,
   "id": "a1768623",
   "metadata": {},
   "outputs": [],
   "source": [
    "class_04 = {'Students':[['a','b','c','d'],['ahgd']], \n",
    "            'Subjects':['Science', 'Social', 'Math'], \n",
    "            'games':['Cricket'],\n",
    "            'marks':[95,67,78,89]\n",
    "           }"
   ]
  },
  {
   "cell_type": "code",
   "execution_count": null,
   "id": "fe02c2e7",
   "metadata": {},
   "outputs": [],
   "source": [
    "print(class_04['Students'][0][3])"
   ]
  },
  {
   "cell_type": "code",
   "execution_count": null,
   "id": "792c6490",
   "metadata": {},
   "outputs": [],
   "source": [
    "class_04"
   ]
  },
  {
   "cell_type": "code",
   "execution_count": 6,
   "id": "5e018f45",
   "metadata": {},
   "outputs": [],
   "source": [
    "dict1 = {'Key1':[1,2,3,4,5], 'Name': ['a','b','c','d','e']}"
   ]
  },
  {
   "cell_type": "code",
   "execution_count": 7,
   "id": "558981ec",
   "metadata": {},
   "outputs": [
    {
     "data": {
      "text/plain": [
       "{'Key1': [1, 2, 3, 4, 5], 'Name': ['a', 'b', 'c', 'd', 'e']}"
      ]
     },
     "execution_count": 7,
     "metadata": {},
     "output_type": "execute_result"
    }
   ],
   "source": [
    "dict1"
   ]
  },
  {
   "cell_type": "code",
   "execution_count": 8,
   "id": "8bc39c0d",
   "metadata": {},
   "outputs": [
    {
     "data": {
      "text/plain": [
       "'d'"
      ]
     },
     "execution_count": 8,
     "metadata": {},
     "output_type": "execute_result"
    }
   ],
   "source": [
    "dict1['Name'][3]"
   ]
  },
  {
   "cell_type": "code",
   "execution_count": 9,
   "id": "9d4b9d72",
   "metadata": {},
   "outputs": [],
   "source": [
    "a = int('12')"
   ]
  },
  {
   "cell_type": "code",
   "execution_count": 10,
   "id": "c9c24a79",
   "metadata": {},
   "outputs": [
    {
     "data": {
      "text/plain": [
       "12"
      ]
     },
     "execution_count": 10,
     "metadata": {},
     "output_type": "execute_result"
    }
   ],
   "source": [
    "a"
   ]
  },
  {
   "cell_type": "code",
   "execution_count": 11,
   "id": "344ec837",
   "metadata": {},
   "outputs": [
    {
     "data": {
      "text/plain": [
       "12.0"
      ]
     },
     "execution_count": 11,
     "metadata": {},
     "output_type": "execute_result"
    }
   ],
   "source": [
    "float('12')"
   ]
  },
  {
   "cell_type": "code",
   "execution_count": 12,
   "id": "4267f908",
   "metadata": {},
   "outputs": [],
   "source": [
    "dict2 = dict(name = 'Naveen', age = 22, country = 'India')"
   ]
  },
  {
   "cell_type": "code",
   "execution_count": 13,
   "id": "a2a0188d",
   "metadata": {},
   "outputs": [
    {
     "data": {
      "text/plain": [
       "{'name': 'Naveen', 'age': 22, 'country': 'India'}"
      ]
     },
     "execution_count": 13,
     "metadata": {},
     "output_type": "execute_result"
    }
   ],
   "source": [
    "dict2"
   ]
  },
  {
   "cell_type": "code",
   "execution_count": 14,
   "id": "a4fa65b1",
   "metadata": {},
   "outputs": [
    {
     "data": {
      "text/plain": [
       "22"
      ]
     },
     "execution_count": 14,
     "metadata": {},
     "output_type": "execute_result"
    }
   ],
   "source": [
    "dict2['age']"
   ]
  },
  {
   "cell_type": "code",
   "execution_count": 15,
   "id": "f80cf878",
   "metadata": {},
   "outputs": [
    {
     "name": "stdout",
     "output_type": "stream",
     "text": [
      "{'Key1': [1, 2, 3, 4, 5], 'Name': ['a', 'b', 'c', 'd', 'e']}\n"
     ]
    }
   ],
   "source": [
    "print(dict1)"
   ]
  },
  {
   "cell_type": "code",
   "execution_count": 16,
   "id": "966f23a9",
   "metadata": {},
   "outputs": [
    {
     "data": {
      "text/plain": [
       "'name'"
      ]
     },
     "execution_count": 16,
     "metadata": {},
     "output_type": "execute_result"
    }
   ],
   "source": [
    "'name'.upper().lower()"
   ]
  },
  {
   "cell_type": "code",
   "execution_count": 17,
   "id": "58a9e509",
   "metadata": {},
   "outputs": [
    {
     "data": {
      "text/plain": [
       "[1, 2, 3, 4, 5]"
      ]
     },
     "execution_count": 17,
     "metadata": {},
     "output_type": "execute_result"
    }
   ],
   "source": [
    "dict1.get('Key1')"
   ]
  },
  {
   "cell_type": "code",
   "execution_count": 18,
   "id": "56ba92d7",
   "metadata": {},
   "outputs": [
    {
     "data": {
      "text/plain": [
       "[1, 2, 3, 4, 5]"
      ]
     },
     "execution_count": 18,
     "metadata": {},
     "output_type": "execute_result"
    }
   ],
   "source": [
    "dict1['Key1']"
   ]
  },
  {
   "cell_type": "code",
   "execution_count": 19,
   "id": "29a8bc3d",
   "metadata": {},
   "outputs": [
    {
     "data": {
      "text/plain": [
       "{'Key1': [1, 2, 3, 4, 5], 'Name': ['a', 'b', 'c', 'd', 'e']}"
      ]
     },
     "execution_count": 19,
     "metadata": {},
     "output_type": "execute_result"
    }
   ],
   "source": [
    "dict1"
   ]
  },
  {
   "cell_type": "code",
   "execution_count": 20,
   "id": "a0cdb1f9",
   "metadata": {},
   "outputs": [
    {
     "data": {
      "text/plain": [
       "dict_keys(['Key1', 'Name'])"
      ]
     },
     "execution_count": 20,
     "metadata": {},
     "output_type": "execute_result"
    }
   ],
   "source": [
    "dict1.keys()"
   ]
  },
  {
   "cell_type": "code",
   "execution_count": 21,
   "id": "d934eb99",
   "metadata": {},
   "outputs": [
    {
     "data": {
      "text/plain": [
       "dict_values([[1, 2, 3, 4, 5], ['a', 'b', 'c', 'd', 'e']])"
      ]
     },
     "execution_count": 21,
     "metadata": {},
     "output_type": "execute_result"
    }
   ],
   "source": [
    "dict1.values()"
   ]
  },
  {
   "cell_type": "code",
   "execution_count": 22,
   "id": "ddba67e3",
   "metadata": {},
   "outputs": [
    {
     "data": {
      "text/plain": [
       "dict_items([('Key1', [1, 2, 3, 4, 5]), ('Name', ['a', 'b', 'c', 'd', 'e'])])"
      ]
     },
     "execution_count": 22,
     "metadata": {},
     "output_type": "execute_result"
    }
   ],
   "source": [
    "dict1.items()"
   ]
  },
  {
   "cell_type": "code",
   "execution_count": 23,
   "id": "bd1329cd",
   "metadata": {},
   "outputs": [
    {
     "data": {
      "text/plain": [
       "{'Key1': [1, 2, 3, 4, 5], 'Name': ['a', 'b', 'c', 'd', 'e']}"
      ]
     },
     "execution_count": 23,
     "metadata": {},
     "output_type": "execute_result"
    }
   ],
   "source": [
    "dict1"
   ]
  },
  {
   "cell_type": "code",
   "execution_count": 24,
   "id": "ddf4b43a",
   "metadata": {},
   "outputs": [],
   "source": [
    "dict1['subject'] = ['Eng', 'Tam', 'Kan', 'Hin', 'Tel']"
   ]
  },
  {
   "cell_type": "code",
   "execution_count": 25,
   "id": "ffb2ed09",
   "metadata": {},
   "outputs": [
    {
     "data": {
      "text/plain": [
       "{'Key1': [1, 2, 3, 4, 5],\n",
       " 'Name': ['a', 'b', 'c', 'd', 'e'],\n",
       " 'subject': ['Eng', 'Tam', 'Kan', 'Hin', 'Tel']}"
      ]
     },
     "execution_count": 25,
     "metadata": {},
     "output_type": "execute_result"
    }
   ],
   "source": [
    "dict1"
   ]
  },
  {
   "cell_type": "code",
   "execution_count": 26,
   "id": "a21bd0bc",
   "metadata": {},
   "outputs": [
    {
     "data": {
      "text/plain": [
       "{'Key1': [1, 2, 3, 4, 5],\n",
       " 'Name': ['a', 'b', 'c', 'd', 'e'],\n",
       " 'subject': ['Eng', 'Tam', 'Kan', 'Hin', 'Tel']}"
      ]
     },
     "execution_count": 26,
     "metadata": {},
     "output_type": "execute_result"
    }
   ],
   "source": [
    "dict1"
   ]
  },
  {
   "cell_type": "code",
   "execution_count": 27,
   "id": "f5b92b9b",
   "metadata": {},
   "outputs": [],
   "source": [
    "dict1['Languages'] = dict1['subject']"
   ]
  },
  {
   "cell_type": "code",
   "execution_count": 28,
   "id": "15b13da0",
   "metadata": {},
   "outputs": [
    {
     "data": {
      "text/plain": [
       "{'Key1': [1, 2, 3, 4, 5],\n",
       " 'Name': ['a', 'b', 'c', 'd', 'e'],\n",
       " 'subject': ['Eng', 'Tam', 'Kan', 'Hin', 'Tel'],\n",
       " 'Languages': ['Eng', 'Tam', 'Kan', 'Hin', 'Tel']}"
      ]
     },
     "execution_count": 28,
     "metadata": {},
     "output_type": "execute_result"
    }
   ],
   "source": [
    "dict1"
   ]
  },
  {
   "cell_type": "code",
   "execution_count": 29,
   "id": "daed05d6",
   "metadata": {},
   "outputs": [
    {
     "data": {
      "text/plain": [
       "['Eng', 'Tam', 'Kan', 'Hin', 'Tel']"
      ]
     },
     "execution_count": 29,
     "metadata": {},
     "output_type": "execute_result"
    }
   ],
   "source": [
    "dict1.pop('subject')"
   ]
  },
  {
   "cell_type": "code",
   "execution_count": 30,
   "id": "dde10f7d",
   "metadata": {},
   "outputs": [
    {
     "data": {
      "text/plain": [
       "dict_keys(['Key1', 'Name', 'Languages'])"
      ]
     },
     "execution_count": 30,
     "metadata": {},
     "output_type": "execute_result"
    }
   ],
   "source": [
    "dict1.keys()"
   ]
  },
  {
   "cell_type": "code",
   "execution_count": 31,
   "id": "d07f37f9",
   "metadata": {},
   "outputs": [],
   "source": [
    "dict1['key2'] = [1,2,3,4,5,6,7,8,9,0]"
   ]
  },
  {
   "cell_type": "code",
   "execution_count": 32,
   "id": "afb90409",
   "metadata": {},
   "outputs": [
    {
     "data": {
      "text/plain": [
       "[1, 2, 3, 4, 5]"
      ]
     },
     "execution_count": 32,
     "metadata": {},
     "output_type": "execute_result"
    }
   ],
   "source": [
    "dict1['Key1']"
   ]
  },
  {
   "cell_type": "code",
   "execution_count": 33,
   "id": "4030b831",
   "metadata": {},
   "outputs": [],
   "source": [
    "dict1['key2'] = dict1['Key1']"
   ]
  },
  {
   "cell_type": "code",
   "execution_count": 34,
   "id": "e2a2c19d",
   "metadata": {},
   "outputs": [
    {
     "data": {
      "text/plain": [
       "{'Key1': [1, 2, 3, 4, 5],\n",
       " 'Name': ['a', 'b', 'c', 'd', 'e'],\n",
       " 'Languages': ['Eng', 'Tam', 'Kan', 'Hin', 'Tel'],\n",
       " 'key2': [1, 2, 3, 4, 5]}"
      ]
     },
     "execution_count": 34,
     "metadata": {},
     "output_type": "execute_result"
    }
   ],
   "source": [
    "dict1"
   ]
  },
  {
   "cell_type": "code",
   "execution_count": 35,
   "id": "826f32b6",
   "metadata": {},
   "outputs": [
    {
     "data": {
      "text/plain": [
       "[1, 2, 3, 4, 5]"
      ]
     },
     "execution_count": 35,
     "metadata": {},
     "output_type": "execute_result"
    }
   ],
   "source": [
    "dict1.pop('key2')"
   ]
  },
  {
   "cell_type": "code",
   "execution_count": 36,
   "id": "96d01331",
   "metadata": {},
   "outputs": [
    {
     "data": {
      "text/plain": [
       "{'Key1': [1, 2, 3, 4, 5],\n",
       " 'Name': ['a', 'b', 'c', 'd', 'e'],\n",
       " 'Languages': ['Eng', 'Tam', 'Kan', 'Hin', 'Tel']}"
      ]
     },
     "execution_count": 36,
     "metadata": {},
     "output_type": "execute_result"
    }
   ],
   "source": [
    "dict1"
   ]
  },
  {
   "cell_type": "code",
   "execution_count": 37,
   "id": "93658bd2",
   "metadata": {},
   "outputs": [
    {
     "data": {
      "text/plain": [
       "['a', 'b', 'c', 'd', 'e']"
      ]
     },
     "execution_count": 37,
     "metadata": {},
     "output_type": "execute_result"
    }
   ],
   "source": [
    "dict1['Name']"
   ]
  },
  {
   "cell_type": "code",
   "execution_count": 38,
   "id": "4e88781d",
   "metadata": {},
   "outputs": [],
   "source": [
    "dict1.update({'Name':['John', 'reeta', 'Manoj', 'Naveen', 'Grace']})"
   ]
  },
  {
   "cell_type": "code",
   "execution_count": 39,
   "id": "6a146050",
   "metadata": {},
   "outputs": [
    {
     "data": {
      "text/plain": [
       "{'Key1': [1, 2, 3, 4, 5],\n",
       " 'Name': ['John', 'reeta', 'Manoj', 'Naveen', 'Grace'],\n",
       " 'Languages': ['Eng', 'Tam', 'Kan', 'Hin', 'Tel']}"
      ]
     },
     "execution_count": 39,
     "metadata": {},
     "output_type": "execute_result"
    }
   ],
   "source": [
    "dict1"
   ]
  },
  {
   "cell_type": "code",
   "execution_count": 40,
   "id": "a6fbeecf",
   "metadata": {},
   "outputs": [
    {
     "data": {
      "text/plain": [
       "{'Key1': [1, 2, 3, 4, 5],\n",
       " 'Name': ['John', 'reeta', 'Manoj', 'Naveen', 'Grace'],\n",
       " 'Languages': ['Eng', 'Tam', 'Kan', 'Hin', 'Tel']}"
      ]
     },
     "execution_count": 40,
     "metadata": {},
     "output_type": "execute_result"
    }
   ],
   "source": [
    "dict1"
   ]
  },
  {
   "cell_type": "code",
   "execution_count": 59,
   "id": "d8d8feb0",
   "metadata": {},
   "outputs": [],
   "source": [
    "dict1 = {'Key1': [1, 2, 3, 4, 5], \n",
    "         'Name': ['John', 'reeta', 'Manoj', 'Naveen', 'Grace'],\n",
    "         'Languages': ['Eng', 'Tam', 'Kan', 'Hin', 'Tel']}"
   ]
  },
  {
   "cell_type": "code",
   "execution_count": 53,
   "id": "f492badc",
   "metadata": {},
   "outputs": [
    {
     "data": {
      "text/plain": [
       "[1, 2, 3, 4, 5]"
      ]
     },
     "execution_count": 53,
     "metadata": {},
     "output_type": "execute_result"
    }
   ],
   "source": [
    "dict1.pop('Key1')"
   ]
  },
  {
   "cell_type": "code",
   "execution_count": 56,
   "id": "43879b3f",
   "metadata": {},
   "outputs": [],
   "source": [
    "del dict1['Key1']"
   ]
  },
  {
   "cell_type": "code",
   "execution_count": 57,
   "id": "e326702b",
   "metadata": {},
   "outputs": [],
   "source": [
    "del dict1"
   ]
  },
  {
   "cell_type": "code",
   "execution_count": 60,
   "id": "5dfc776c",
   "metadata": {},
   "outputs": [
    {
     "data": {
      "text/plain": [
       "{'Key1': [1, 2, 3, 4, 5],\n",
       " 'Name': ['John', 'reeta', 'Manoj', 'Naveen', 'Grace'],\n",
       " 'Languages': ['Eng', 'Tam', 'Kan', 'Hin', 'Tel']}"
      ]
     },
     "execution_count": 60,
     "metadata": {},
     "output_type": "execute_result"
    }
   ],
   "source": [
    "dict1"
   ]
  },
  {
   "cell_type": "code",
   "execution_count": 68,
   "id": "1d4275c6",
   "metadata": {},
   "outputs": [
    {
     "data": {
      "text/plain": [
       "True"
      ]
     },
     "execution_count": 68,
     "metadata": {},
     "output_type": "execute_result"
    }
   ],
   "source": [
    "30>20 or 20>40"
   ]
  },
  {
   "cell_type": "code",
   "execution_count": null,
   "id": "474745b4",
   "metadata": {},
   "outputs": [],
   "source": [
    "myfamily = {\n",
    "  \"child1\" : {\n",
    "    \"name\" : \"Emil\",\n",
    "    \"year\" : 2004\n",
    "  },\n",
    "  \"child2\" : {\n",
    "    \"name\" : \"Tobias\",\n",
    "    \"year\" : 2007\n",
    "  },\n",
    "  \"child3\" : {\n",
    "    \"name\" : \"Linus\",\n",
    "    \"year\" : 2011\n",
    "  }\n",
    "}\n",
    "\n",
    "\n",
    "child1 = {\n",
    "  \"name\" : \"Emil\",\n",
    "  \"year\" : 2004\n",
    "}\n",
    "child2 = {\n",
    "  \"name\" : \"Tobias\",\n",
    "  \"year\" : 2007\n",
    "}\n",
    "child3 = {\n",
    "  \"name\" : \"Linus\",\n",
    "  \"year\" : 2011\n",
    "}\n",
    "\n",
    "myfamily = {\n",
    "  \"child1\" : child1,\n",
    "  \"child2\" : child2,\n",
    "  \"child3\" : child3\n",
    "}\n",
    "\n",
    "print(myfamily[\"child2\"][\"name\"])"
   ]
  },
  {
   "cell_type": "code",
   "execution_count": 69,
   "id": "8891ea4e",
   "metadata": {},
   "outputs": [],
   "source": [
    "my_family = {\n",
    "  \"child1\" : {\n",
    "    \"name\" : \"Emil\",\n",
    "    \"year\" : 2004\n",
    "  },\n",
    "  \"child2\" : {\n",
    "    \"name\" : \"Tobias\",\n",
    "    \"year\" : 2007\n",
    "  },\n",
    "  \"child3\" : {\n",
    "    \"name\" : \"Linus\",\n",
    "    \"year\" : 2011\n",
    "  }\n",
    "}"
   ]
  },
  {
   "cell_type": "code",
   "execution_count": 73,
   "id": "472899b1",
   "metadata": {},
   "outputs": [
    {
     "name": "stdout",
     "output_type": "stream",
     "text": [
      "Emil\n"
     ]
    }
   ],
   "source": [
    "print(my_family['child1']['name'])"
   ]
  },
  {
   "cell_type": "code",
   "execution_count": 74,
   "id": "79eadeb3",
   "metadata": {},
   "outputs": [],
   "source": [
    "list1 = [1,2,3,4,5]"
   ]
  },
  {
   "cell_type": "code",
   "execution_count": 75,
   "id": "9648e669",
   "metadata": {},
   "outputs": [
    {
     "data": {
      "text/plain": [
       "2"
      ]
     },
     "execution_count": 75,
     "metadata": {},
     "output_type": "execute_result"
    }
   ],
   "source": [
    "list1[1]"
   ]
  },
  {
   "cell_type": "code",
   "execution_count": 77,
   "id": "a785d7a6",
   "metadata": {},
   "outputs": [
    {
     "data": {
      "text/plain": [
       "[2, 3, 4]"
      ]
     },
     "execution_count": 77,
     "metadata": {},
     "output_type": "execute_result"
    }
   ],
   "source": [
    "list1[1:4]"
   ]
  },
  {
   "cell_type": "markdown",
   "id": "eac545e1",
   "metadata": {},
   "source": [
    "# Program Flow"
   ]
  },
  {
   "cell_type": "markdown",
   "id": "9c764707",
   "metadata": {},
   "source": [
    "## Conditional Statements"
   ]
  },
  {
   "cell_type": "code",
   "execution_count": 1,
   "id": "53003474",
   "metadata": {},
   "outputs": [
    {
     "name": "stdout",
     "output_type": "stream",
     "text": [
      "Yes\n"
     ]
    }
   ],
   "source": [
    "# IF, elif and else\n",
    "\n",
    "if 1>2:\n",
    "    print('Yes')"
   ]
  },
  {
   "cell_type": "code",
   "execution_count": 3,
   "id": "cde54b72",
   "metadata": {},
   "outputs": [
    {
     "name": "stdout",
     "output_type": "stream",
     "text": [
      "No\n"
     ]
    }
   ],
   "source": [
    "if 1>2:\n",
    "    print('Yes')\n",
    "else:\n",
    "    print('No')"
   ]
  },
  {
   "cell_type": "code",
   "execution_count": 5,
   "id": "39d14184",
   "metadata": {},
   "outputs": [
    {
     "name": "stdout",
     "output_type": "stream",
     "text": [
      "Yes2\n"
     ]
    }
   ],
   "source": [
    "if 1>2:\n",
    "    print('Yes1')\n",
    "elif 3>2:\n",
    "    print('Yes2')"
   ]
  },
  {
   "cell_type": "code",
   "execution_count": 6,
   "id": "9fb4aab1",
   "metadata": {},
   "outputs": [
    {
     "name": "stdout",
     "output_type": "stream",
     "text": [
      "Yes1\n"
     ]
    }
   ],
   "source": [
    "if 3>2:\n",
    "    print('Yes1')\n",
    "elif 4>2:\n",
    "    print('Yes2')"
   ]
  },
  {
   "cell_type": "code",
   "execution_count": 8,
   "id": "65db30e7",
   "metadata": {},
   "outputs": [
    {
     "name": "stdout",
     "output_type": "stream",
     "text": [
      "Yes2\n"
     ]
    }
   ],
   "source": [
    "if 12<10:\n",
    "    print('Yes1')\n",
    "elif 6<12:\n",
    "    print('Yes2')\n",
    "elif 10>5:\n",
    "    print('Yes3')"
   ]
  },
  {
   "cell_type": "code",
   "execution_count": 9,
   "id": "46642d8b",
   "metadata": {},
   "outputs": [
    {
     "name": "stdout",
     "output_type": "stream",
     "text": [
      "No\n"
     ]
    }
   ],
   "source": [
    "if 12<10:\n",
    "    print('Yes1')\n",
    "elif 20<12:\n",
    "    print('Yes2')\n",
    "elif 10<5:\n",
    "    print('Yes3')\n",
    "else:\n",
    "    print('No')"
   ]
  },
  {
   "cell_type": "code",
   "execution_count": 10,
   "id": "e5a2aafa",
   "metadata": {},
   "outputs": [],
   "source": [
    "list1 = [1,2,3,4,5]"
   ]
  },
  {
   "cell_type": "code",
   "execution_count": 14,
   "id": "386ace95",
   "metadata": {},
   "outputs": [
    {
     "data": {
      "text/plain": [
       "True"
      ]
     },
     "execution_count": 14,
     "metadata": {},
     "output_type": "execute_result"
    }
   ],
   "source": [
    "5 in list1"
   ]
  },
  {
   "cell_type": "code",
   "execution_count": 13,
   "id": "a2d2e32f",
   "metadata": {
    "scrolled": true
   },
   "outputs": [
    {
     "data": {
      "text/plain": [
       "False"
      ]
     },
     "execution_count": 13,
     "metadata": {},
     "output_type": "execute_result"
    }
   ],
   "source": [
    "6 in list1"
   ]
  },
  {
   "cell_type": "code",
   "execution_count": 15,
   "id": "dbd24d11",
   "metadata": {},
   "outputs": [
    {
     "data": {
      "text/plain": [
       "[1, 2, 3, 4, 5]"
      ]
     },
     "execution_count": 15,
     "metadata": {},
     "output_type": "execute_result"
    }
   ],
   "source": [
    "list1"
   ]
  },
  {
   "cell_type": "code",
   "execution_count": 16,
   "id": "f251efac",
   "metadata": {},
   "outputs": [
    {
     "name": "stdout",
     "output_type": "stream",
     "text": [
      "1\n",
      "2\n",
      "3\n",
      "4\n",
      "5\n"
     ]
    }
   ],
   "source": [
    "for element in list1:\n",
    "    print(element)"
   ]
  },
  {
   "cell_type": "code",
   "execution_count": 26,
   "id": "4f2df46b",
   "metadata": {},
   "outputs": [
    {
     "data": {
      "text/plain": [
       "[1, 4, 7, 10]"
      ]
     },
     "execution_count": 26,
     "metadata": {},
     "output_type": "execute_result"
    }
   ],
   "source": [
    "list(range(1,11,3))"
   ]
  },
  {
   "cell_type": "code",
   "execution_count": 28,
   "id": "0dd15cc0",
   "metadata": {},
   "outputs": [
    {
     "data": {
      "text/plain": [
       "[0, 1, 2, 3, 4, 5, 6, 7, 8, 9]"
      ]
     },
     "execution_count": 28,
     "metadata": {},
     "output_type": "execute_result"
    }
   ],
   "source": [
    "list(range(10))"
   ]
  },
  {
   "cell_type": "code",
   "execution_count": 31,
   "id": "d78f5a57",
   "metadata": {},
   "outputs": [
    {
     "data": {
      "text/plain": [
       "[5, 6, 7, 8, 9, 10]"
      ]
     },
     "execution_count": 31,
     "metadata": {},
     "output_type": "execute_result"
    }
   ],
   "source": [
    "list(range(5,11))"
   ]
  },
  {
   "cell_type": "code",
   "execution_count": 32,
   "id": "436d021d",
   "metadata": {
    "scrolled": true
   },
   "outputs": [
    {
     "data": {
      "text/plain": [
       "[6, 7, 8]"
      ]
     },
     "execution_count": 32,
     "metadata": {},
     "output_type": "execute_result"
    }
   ],
   "source": [
    "list(range(5,11))[1:4]"
   ]
  },
  {
   "cell_type": "code",
   "execution_count": 33,
   "id": "2d6a1571",
   "metadata": {},
   "outputs": [
    {
     "name": "stdout",
     "output_type": "stream",
     "text": [
      "0\n",
      "1\n",
      "2\n",
      "3\n",
      "4\n",
      "5\n",
      "6\n",
      "7\n",
      "8\n",
      "9\n",
      "10\n"
     ]
    }
   ],
   "source": [
    "for num in range(0,11):\n",
    "    print(num)"
   ]
  },
  {
   "cell_type": "code",
   "execution_count": 34,
   "id": "45dc0f16",
   "metadata": {},
   "outputs": [
    {
     "name": "stdout",
     "output_type": "stream",
     "text": [
      "The number is: 0\n",
      "The number is: 1\n",
      "The number is: 2\n",
      "The number is: 3\n",
      "The number is: 4\n",
      "The number is: 5\n",
      "The number is: 6\n",
      "The number is: 7\n",
      "The number is: 8\n",
      "The number is: 9\n",
      "The number is: 10\n"
     ]
    }
   ],
   "source": [
    "for num in range(0,11):\n",
    "    print('The number is:',num)"
   ]
  },
  {
   "cell_type": "code",
   "execution_count": 1,
   "id": "2993189a",
   "metadata": {},
   "outputs": [],
   "source": [
    "i = 0"
   ]
  },
  {
   "cell_type": "code",
   "execution_count": 2,
   "id": "718d3a7d",
   "metadata": {},
   "outputs": [
    {
     "name": "stdout",
     "output_type": "stream",
     "text": [
      "0\n",
      "1\n",
      "2\n",
      "3\n",
      "4\n",
      "5\n",
      "6\n",
      "7\n",
      "8\n",
      "9\n"
     ]
    }
   ],
   "source": [
    "while i < 10:\n",
    "    print(i)\n",
    "    i += 1"
   ]
  },
  {
   "cell_type": "code",
   "execution_count": 3,
   "id": "11208aac",
   "metadata": {},
   "outputs": [
    {
     "name": "stdout",
     "output_type": "stream",
     "text": [
      "Hello\n"
     ]
    }
   ],
   "source": [
    "print('Hello')"
   ]
  },
  {
   "cell_type": "code",
   "execution_count": 5,
   "id": "e868a54f",
   "metadata": {},
   "outputs": [
    {
     "data": {
      "text/plain": [
       "[0, 1, 2, 3, 4, 5, 6, 7, 8, 9, 10]"
      ]
     },
     "execution_count": 5,
     "metadata": {},
     "output_type": "execute_result"
    }
   ],
   "source": [
    "range(0,11)"
   ]
  },
  {
   "cell_type": "code",
   "execution_count": 7,
   "id": "4b47e80d",
   "metadata": {},
   "outputs": [],
   "source": [
    "def function_name(x,y,z):\n",
    "    print(x+y+z)"
   ]
  },
  {
   "cell_type": "code",
   "execution_count": 8,
   "id": "54abb1b0",
   "metadata": {},
   "outputs": [
    {
     "name": "stdout",
     "output_type": "stream",
     "text": [
      "6\n"
     ]
    }
   ],
   "source": [
    "function_name(1,2,3)"
   ]
  },
  {
   "cell_type": "code",
   "execution_count": 22,
   "id": "f87978d6",
   "metadata": {},
   "outputs": [],
   "source": [
    "def add(x,y,z):\n",
    "    return (x+y+z)"
   ]
  },
  {
   "cell_type": "code",
   "execution_count": 23,
   "id": "5056eef4",
   "metadata": {},
   "outputs": [
    {
     "data": {
      "text/plain": [
       "977700"
      ]
     },
     "execution_count": 23,
     "metadata": {},
     "output_type": "execute_result"
    }
   ],
   "source": [
    "add(124356,56575,796769)"
   ]
  },
  {
   "cell_type": "code",
   "execution_count": 24,
   "id": "c1f77a35",
   "metadata": {},
   "outputs": [
    {
     "name": "stdout",
     "output_type": "stream",
     "text": [
      "977700\n"
     ]
    }
   ],
   "source": [
    "print(a)"
   ]
  },
  {
   "cell_type": "code",
   "execution_count": 18,
   "id": "c4199c71",
   "metadata": {},
   "outputs": [],
   "source": [
    "list1 = [1,2,3,4]"
   ]
  },
  {
   "cell_type": "code",
   "execution_count": 20,
   "id": "32f1cceb",
   "metadata": {},
   "outputs": [
    {
     "name": "stdout",
     "output_type": "stream",
     "text": [
      "1\n",
      "1\n"
     ]
    },
    {
     "ename": "TypeError",
     "evalue": "unsupported operand type(s) for +: 'NoneType' and 'NoneType'",
     "output_type": "error",
     "traceback": [
      "\u001b[1;31m---------------------------------------------------------------------------\u001b[0m",
      "\u001b[1;31mTypeError\u001b[0m                                 Traceback (most recent call last)",
      "Input \u001b[1;32mIn [20]\u001b[0m, in \u001b[0;36m<cell line: 1>\u001b[1;34m()\u001b[0m\n\u001b[1;32m----> 1\u001b[0m \u001b[38;5;28;43mprint\u001b[39;49m\u001b[43m(\u001b[49m\u001b[43mlist1\u001b[49m\u001b[43m[\u001b[49m\u001b[38;5;241;43m0\u001b[39;49m\u001b[43m]\u001b[49m\u001b[43m)\u001b[49m\u001b[43m \u001b[49m\u001b[38;5;241;43m+\u001b[39;49m\u001b[43m \u001b[49m\u001b[38;5;28;43mprint\u001b[39;49m\u001b[43m(\u001b[49m\u001b[43mlist1\u001b[49m\u001b[43m[\u001b[49m\u001b[38;5;241;43m0\u001b[39;49m\u001b[43m]\u001b[49m\u001b[43m)\u001b[49m\n",
      "\u001b[1;31mTypeError\u001b[0m: unsupported operand type(s) for +: 'NoneType' and 'NoneType'"
     ]
    }
   ],
   "source": [
    "print(list1[0]) + print(list1[0])"
   ]
  },
  {
   "cell_type": "code",
   "execution_count": 21,
   "id": "0c8ee0a4",
   "metadata": {},
   "outputs": [
    {
     "data": {
      "text/plain": [
       "2"
      ]
     },
     "execution_count": 21,
     "metadata": {},
     "output_type": "execute_result"
    }
   ],
   "source": [
    "list1[0] + list1[0]"
   ]
  },
  {
   "cell_type": "code",
   "execution_count": 25,
   "id": "a99c302f",
   "metadata": {},
   "outputs": [],
   "source": [
    "def multiply(x):\n",
    "    return x*2"
   ]
  },
  {
   "cell_type": "code",
   "execution_count": 28,
   "id": "767d901c",
   "metadata": {},
   "outputs": [
    {
     "data": {
      "text/plain": [
       "14"
      ]
     },
     "execution_count": 28,
     "metadata": {},
     "output_type": "execute_result"
    }
   ],
   "source": [
    "multiply(7)"
   ]
  },
  {
   "cell_type": "code",
   "execution_count": 27,
   "id": "b1eee103",
   "metadata": {
    "scrolled": true
   },
   "outputs": [
    {
     "data": {
      "text/plain": [
       "28"
      ]
     },
     "execution_count": 27,
     "metadata": {},
     "output_type": "execute_result"
    }
   ],
   "source": [
    "multiply(multiply(7))"
   ]
  },
  {
   "cell_type": "code",
   "execution_count": 29,
   "id": "fb9acec9",
   "metadata": {},
   "outputs": [],
   "source": [
    "def op(a, b, c = 10):\n",
    "    z = (a + b) - c\n",
    "    return z"
   ]
  },
  {
   "cell_type": "code",
   "execution_count": 30,
   "id": "2affca21",
   "metadata": {},
   "outputs": [
    {
     "data": {
      "text/plain": [
       "25"
      ]
     },
     "execution_count": 30,
     "metadata": {},
     "output_type": "execute_result"
    }
   ],
   "source": [
    "op(20,10,5)"
   ]
  },
  {
   "cell_type": "code",
   "execution_count": 32,
   "id": "bbb90b6d",
   "metadata": {},
   "outputs": [
    {
     "data": {
      "text/plain": [
       "60"
      ]
     },
     "execution_count": 32,
     "metadata": {},
     "output_type": "execute_result"
    }
   ],
   "source": [
    "op(30,40)"
   ]
  },
  {
   "cell_type": "code",
   "execution_count": 33,
   "id": "7e7b76e3",
   "metadata": {},
   "outputs": [],
   "source": [
    "def op1(a, b, c = 10):\n",
    "    z = (a + b) - c\n",
    "    return z**2"
   ]
  },
  {
   "cell_type": "code",
   "execution_count": 34,
   "id": "132620bd",
   "metadata": {},
   "outputs": [
    {
     "data": {
      "text/plain": [
       "1600"
      ]
     },
     "execution_count": 34,
     "metadata": {},
     "output_type": "execute_result"
    }
   ],
   "source": [
    "op1(20,30)"
   ]
  },
  {
   "cell_type": "code",
   "execution_count": 35,
   "id": "3647f8f6",
   "metadata": {},
   "outputs": [],
   "source": [
    "def func(one, two, three, four):\n",
    "    answer = ((one/four)+(two*three)) - one\n",
    "    return answer"
   ]
  },
  {
   "cell_type": "code",
   "execution_count": 38,
   "id": "46481ccf",
   "metadata": {},
   "outputs": [
    {
     "data": {
      "text/plain": [
       "4.0"
      ]
     },
     "execution_count": 38,
     "metadata": {},
     "output_type": "execute_result"
    }
   ],
   "source": [
    "func(16, 2, 8, 4)"
   ]
  },
  {
   "cell_type": "code",
   "execution_count": 39,
   "id": "1d61b407",
   "metadata": {},
   "outputs": [
    {
     "data": {
      "text/plain": [
       "30.125"
      ]
     },
     "execution_count": 39,
     "metadata": {},
     "output_type": "execute_result"
    }
   ],
   "source": [
    "func(2,4,8,16)"
   ]
  },
  {
   "cell_type": "code",
   "execution_count": 40,
   "id": "dd7dbf6d",
   "metadata": {},
   "outputs": [
    {
     "data": {
      "text/plain": [
       "4.0"
      ]
     },
     "execution_count": 40,
     "metadata": {},
     "output_type": "execute_result"
    }
   ],
   "source": [
    "func(one = 16, two = 2, three = 8, four = 4)"
   ]
  },
  {
   "cell_type": "code",
   "execution_count": 41,
   "id": "3595a31b",
   "metadata": {},
   "outputs": [
    {
     "data": {
      "text/plain": [
       "4.0"
      ]
     },
     "execution_count": 41,
     "metadata": {},
     "output_type": "execute_result"
    }
   ],
   "source": [
    "func(two = 2, three = 8, one = 16, four = 4)"
   ]
  },
  {
   "cell_type": "code",
   "execution_count": 45,
   "id": "2a54c315",
   "metadata": {},
   "outputs": [],
   "source": [
    "def func(one, two, three, four):\n",
    "    a = (one/four)\n",
    "    b = (two*three)\n",
    "    c = one\n",
    "    answer = (a+b)-c\n",
    "    return answer"
   ]
  },
  {
   "cell_type": "code",
   "execution_count": 46,
   "id": "2597938d",
   "metadata": {},
   "outputs": [
    {
     "data": {
      "text/plain": [
       "4.0"
      ]
     },
     "execution_count": 46,
     "metadata": {},
     "output_type": "execute_result"
    }
   ],
   "source": [
    "func(two = 2, three = 8, one = 16, four = 4)"
   ]
  },
  {
   "cell_type": "code",
   "execution_count": 51,
   "id": "7e59ab7b",
   "metadata": {},
   "outputs": [],
   "source": [
    "def name(x):\n",
    "    if x == 'John':\n",
    "        print('Yes, its John')\n",
    "    else:\n",
    "        print('Not John')"
   ]
  },
  {
   "cell_type": "code",
   "execution_count": 52,
   "id": "5a217e20",
   "metadata": {},
   "outputs": [
    {
     "name": "stdout",
     "output_type": "stream",
     "text": [
      "Not John\n"
     ]
    }
   ],
   "source": [
    "name('Sam')"
   ]
  },
  {
   "cell_type": "code",
   "execution_count": 53,
   "id": "e9a1ba69",
   "metadata": {},
   "outputs": [
    {
     "name": "stdout",
     "output_type": "stream",
     "text": [
      "Yes, its John\n"
     ]
    }
   ],
   "source": [
    "name('John')"
   ]
  },
  {
   "cell_type": "code",
   "execution_count": 59,
   "id": "a695c11f",
   "metadata": {},
   "outputs": [],
   "source": [
    "def add_one(a,b):\n",
    "    x = []\n",
    "    for i in range(a,b):\n",
    "        x.append(i)\n",
    "    return x"
   ]
  },
  {
   "cell_type": "code",
   "execution_count": 60,
   "id": "244f6179",
   "metadata": {},
   "outputs": [
    {
     "data": {
      "text/plain": [
       "[1, 2, 3, 4, 5, 6, 7, 8, 9, 10]"
      ]
     },
     "execution_count": 60,
     "metadata": {},
     "output_type": "execute_result"
    }
   ],
   "source": [
    "add_one(1,11)"
   ]
  },
  {
   "cell_type": "code",
   "execution_count": 61,
   "id": "c8d39ff9",
   "metadata": {},
   "outputs": [],
   "source": [
    "def add_one(start,stop):\n",
    "    x = []\n",
    "    for i in range(start,stop):\n",
    "        x.append(i)\n",
    "    return x"
   ]
  },
  {
   "cell_type": "code",
   "execution_count": 62,
   "id": "6289901d",
   "metadata": {},
   "outputs": [
    {
     "data": {
      "text/plain": [
       "[5, 6, 7, 8, 9, 10, 11, 12, 13, 14]"
      ]
     },
     "execution_count": 62,
     "metadata": {},
     "output_type": "execute_result"
    }
   ],
   "source": [
    "add_one(stop=15, start = 5)"
   ]
  },
  {
   "cell_type": "code",
   "execution_count": null,
   "id": "44cfc6b9",
   "metadata": {},
   "outputs": [],
   "source": []
  },
  {
   "cell_type": "code",
   "execution_count": 57,
   "id": "a089d55d",
   "metadata": {},
   "outputs": [],
   "source": [
    "list1.append(8)"
   ]
  },
  {
   "cell_type": "code",
   "execution_count": 58,
   "id": "8ff15cfa",
   "metadata": {},
   "outputs": [
    {
     "data": {
      "text/plain": [
       "[1, 2, 3, 4, 5, 6, 7, 8]"
      ]
     },
     "execution_count": 58,
     "metadata": {},
     "output_type": "execute_result"
    }
   ],
   "source": [
    "list1"
   ]
  },
  {
   "cell_type": "code",
   "execution_count": null,
   "id": "5d3b5a62",
   "metadata": {},
   "outputs": [],
   "source": []
  }
 ],
 "metadata": {
  "kernelspec": {
   "display_name": "Python 3 (ipykernel)",
   "language": "python",
   "name": "python3"
  },
  "language_info": {
   "codemirror_mode": {
    "name": "ipython",
    "version": 3
   },
   "file_extension": ".py",
   "mimetype": "text/x-python",
   "name": "python",
   "nbconvert_exporter": "python",
   "pygments_lexer": "ipython3",
   "version": "3.9.12"
  }
 },
 "nbformat": 4,
 "nbformat_minor": 5
}
