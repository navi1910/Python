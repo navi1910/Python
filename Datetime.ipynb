{
 "cells": [
  {
   "cell_type": "code",
   "execution_count": 1,
   "id": "1bfbbc17",
   "metadata": {},
   "outputs": [],
   "source": [
    "from datetime import datetime"
   ]
  },
  {
   "cell_type": "code",
   "execution_count": 2,
   "id": "d50c2faa",
   "metadata": {},
   "outputs": [
    {
     "data": {
      "text/plain": [
       "datetime.datetime(2023, 7, 21, 8, 26, 18, 353036)"
      ]
     },
     "execution_count": 2,
     "metadata": {},
     "output_type": "execute_result"
    }
   ],
   "source": [
    "datetime.now()"
   ]
  },
  {
   "cell_type": "code",
   "execution_count": 5,
   "id": "a18370c1",
   "metadata": {},
   "outputs": [
    {
     "data": {
      "text/plain": [
       "21"
      ]
     },
     "execution_count": 5,
     "metadata": {},
     "output_type": "execute_result"
    }
   ],
   "source": [
    "datetime.now().day"
   ]
  },
  {
   "cell_type": "code",
   "execution_count": 6,
   "id": "6d4666fa",
   "metadata": {},
   "outputs": [
    {
     "data": {
      "text/plain": [
       "7"
      ]
     },
     "execution_count": 6,
     "metadata": {},
     "output_type": "execute_result"
    }
   ],
   "source": [
    "datetime.now().month"
   ]
  },
  {
   "cell_type": "code",
   "execution_count": 19,
   "id": "7f82f522",
   "metadata": {},
   "outputs": [],
   "source": [
    "now = datetime.now()"
   ]
  },
  {
   "cell_type": "code",
   "execution_count": 20,
   "id": "885a2b0e",
   "metadata": {},
   "outputs": [
    {
     "data": {
      "text/plain": [
       "53"
      ]
     },
     "execution_count": 20,
     "metadata": {},
     "output_type": "execute_result"
    }
   ],
   "source": [
    "now.second"
   ]
  },
  {
   "cell_type": "code",
   "execution_count": 21,
   "id": "d4af737b",
   "metadata": {},
   "outputs": [
    {
     "data": {
      "text/plain": [
       "1689908573.041271"
      ]
     },
     "execution_count": 21,
     "metadata": {},
     "output_type": "execute_result"
    }
   ],
   "source": [
    "now.timestamp()"
   ]
  },
  {
   "cell_type": "code",
   "execution_count": 23,
   "id": "90eb467b",
   "metadata": {},
   "outputs": [],
   "source": [
    "new_year = datetime(2023, 1, 1) # year, month, day"
   ]
  },
  {
   "cell_type": "code",
   "execution_count": 24,
   "id": "517f2db1",
   "metadata": {},
   "outputs": [
    {
     "data": {
      "text/plain": [
       "1"
      ]
     },
     "execution_count": 24,
     "metadata": {},
     "output_type": "execute_result"
    }
   ],
   "source": [
    "new_year.day"
   ]
  },
  {
   "cell_type": "code",
   "execution_count": 25,
   "id": "2380dee8",
   "metadata": {},
   "outputs": [
    {
     "data": {
      "text/plain": [
       "0"
      ]
     },
     "execution_count": 25,
     "metadata": {},
     "output_type": "execute_result"
    }
   ],
   "source": [
    "new_year.second"
   ]
  },
  {
   "cell_type": "code",
   "execution_count": 30,
   "id": "8d04b59b",
   "metadata": {},
   "outputs": [],
   "source": [
    "now = datetime.now()\n",
    "t = now.strftime(\"%H:%M:%S:%f\")"
   ]
  },
  {
   "cell_type": "code",
   "execution_count": 33,
   "id": "18cd99aa",
   "metadata": {},
   "outputs": [],
   "source": [
    "x = now.strftime('%x')"
   ]
  },
  {
   "cell_type": "code",
   "execution_count": 32,
   "id": "c65e65f9",
   "metadata": {},
   "outputs": [
    {
     "data": {
      "text/plain": [
       "'07/21/23'"
      ]
     },
     "execution_count": 32,
     "metadata": {},
     "output_type": "execute_result"
    }
   ],
   "source": [
    "x"
   ]
  },
  {
   "cell_type": "code",
   "execution_count": 34,
   "id": "20ffaa9f",
   "metadata": {},
   "outputs": [
    {
     "data": {
      "text/plain": [
       "'08:38:38'"
      ]
     },
     "execution_count": 34,
     "metadata": {},
     "output_type": "execute_result"
    }
   ],
   "source": [
    "x = now.strftime('%X')\n",
    "x"
   ]
  },
  {
   "cell_type": "code",
   "execution_count": 35,
   "id": "062a9166",
   "metadata": {},
   "outputs": [
    {
     "data": {
      "text/plain": [
       "datetime.datetime(2023, 7, 21, 8, 40, 22, 451827)"
      ]
     },
     "execution_count": 35,
     "metadata": {},
     "output_type": "execute_result"
    }
   ],
   "source": [
    "datetime.today()"
   ]
  },
  {
   "cell_type": "code",
   "execution_count": 37,
   "id": "b5795640",
   "metadata": {},
   "outputs": [
    {
     "data": {
      "text/plain": [
       "datetime.time(0, 0)"
      ]
     },
     "execution_count": 37,
     "metadata": {},
     "output_type": "execute_result"
    }
   ],
   "source": [
    "from datetime import time\n",
    "\n",
    "a = time()\n",
    "a"
   ]
  },
  {
   "cell_type": "code",
   "execution_count": 38,
   "id": "525dbf41",
   "metadata": {},
   "outputs": [
    {
     "name": "stdout",
     "output_type": "stream",
     "text": [
      "10:30:50\n"
     ]
    }
   ],
   "source": [
    "print(time(10, 30, 50))"
   ]
  },
  {
   "cell_type": "code",
   "execution_count": 42,
   "id": "307c108a",
   "metadata": {},
   "outputs": [
    {
     "name": "stdout",
     "output_type": "stream",
     "text": [
      "Time till new year:  163 days, 15:15:50.698061\n"
     ]
    }
   ],
   "source": [
    "today = datetime.today()\n",
    "\n",
    "new_year = datetime(2024, 1,1)\n",
    "time_till_new_year = new_year - today\n",
    "\n",
    "print('Time till new year: ', time_till_new_year)"
   ]
  },
  {
   "cell_type": "code",
   "execution_count": 46,
   "id": "95f903e7",
   "metadata": {},
   "outputs": [
    {
     "data": {
      "text/plain": [
       "datetime.timedelta(days=163, seconds=54950, microseconds=698061)"
      ]
     },
     "execution_count": 46,
     "metadata": {},
     "output_type": "execute_result"
    }
   ],
   "source": [
    "time_till_new_year"
   ]
  },
  {
   "cell_type": "code",
   "execution_count": 47,
   "id": "ae9937de",
   "metadata": {},
   "outputs": [
    {
     "data": {
      "text/plain": [
       "datetime.datetime(2023, 1, 17, 0, 0)"
      ]
     },
     "execution_count": 47,
     "metadata": {},
     "output_type": "execute_result"
    }
   ],
   "source": [
    "datetime(month = 1, year = 2023, day = 17)"
   ]
  },
  {
   "cell_type": "code",
   "execution_count": 49,
   "id": "07879f5b",
   "metadata": {},
   "outputs": [],
   "source": [
    "from time import sleep"
   ]
  },
  {
   "cell_type": "code",
   "execution_count": 50,
   "id": "f87f460e",
   "metadata": {},
   "outputs": [
    {
     "name": "stdout",
     "output_type": "stream",
     "text": [
      "Time till new year:  163 days, 15:12:50.819684\n",
      "Time till new year:  163 days, 15:12:47.809813\n",
      "Time till new year:  163 days, 15:12:44.807637\n",
      "Time till new year:  163 days, 15:12:41.807595\n",
      "Time till new year:  163 days, 15:12:38.800382\n",
      "Time till new year:  163 days, 15:12:35.785582\n",
      "Time till new year:  163 days, 15:12:32.782392\n",
      "Time till new year:  163 days, 15:12:29.780818\n",
      "Time till new year:  163 days, 15:12:26.774122\n",
      "Time till new year:  163 days, 15:12:23.764287\n"
     ]
    }
   ],
   "source": [
    "for i in range(10):\n",
    "    sleep(3)\n",
    "    today = datetime.today()\n",
    "    new_year = datetime(2024, 1,1)\n",
    "    time_till_new_year = new_year - today\n",
    "\n",
    "    print('Time till new year: ', time_till_new_year)"
   ]
  },
  {
   "cell_type": "code",
   "execution_count": 54,
   "id": "cfcdad89",
   "metadata": {},
   "outputs": [],
   "source": [
    "time = []\n",
    "\n",
    "for i in range(10):\n",
    "    sleep(2)\n",
    "    time_now = datetime.now()\n",
    "    time.append(time_now)"
   ]
  },
  {
   "cell_type": "code",
   "execution_count": 56,
   "id": "b28f1912",
   "metadata": {},
   "outputs": [],
   "source": [
    "import pandas as pd\n",
    "\n",
    "df = pd.DataFrame({\"Time\":time})"
   ]
  },
  {
   "cell_type": "code",
   "execution_count": 68,
   "id": "6728eacf",
   "metadata": {},
   "outputs": [
    {
     "data": {
      "text/plain": [
       "'52:36'"
      ]
     },
     "execution_count": 68,
     "metadata": {},
     "output_type": "execute_result"
    }
   ],
   "source": [
    "df['Time'][0].strftime('%M:%S')"
   ]
  },
  {
   "cell_type": "code",
   "execution_count": 71,
   "id": "132f8ec3",
   "metadata": {},
   "outputs": [],
   "source": [
    "df['H:M'] = df['Time'].apply(lambda x: x.strftime('%M:%S'))"
   ]
  },
  {
   "cell_type": "code",
   "execution_count": 73,
   "id": "d6aab6d2",
   "metadata": {},
   "outputs": [
    {
     "data": {
      "text/plain": [
       "7"
      ]
     },
     "execution_count": 73,
     "metadata": {},
     "output_type": "execute_result"
    }
   ],
   "source": [
    "df['Time'][0].month"
   ]
  },
  {
   "cell_type": "code",
   "execution_count": 74,
   "id": "b7c15cbc",
   "metadata": {},
   "outputs": [],
   "source": [
    "df['Month'] = df['Time'].apply(lambda x: x.strftime('%m'))"
   ]
  },
  {
   "cell_type": "code",
   "execution_count": 75,
   "id": "4a902be0",
   "metadata": {},
   "outputs": [
    {
     "data": {
      "text/html": [
       "<div>\n",
       "<style scoped>\n",
       "    .dataframe tbody tr th:only-of-type {\n",
       "        vertical-align: middle;\n",
       "    }\n",
       "\n",
       "    .dataframe tbody tr th {\n",
       "        vertical-align: top;\n",
       "    }\n",
       "\n",
       "    .dataframe thead th {\n",
       "        text-align: right;\n",
       "    }\n",
       "</style>\n",
       "<table border=\"1\" class=\"dataframe\">\n",
       "  <thead>\n",
       "    <tr style=\"text-align: right;\">\n",
       "      <th></th>\n",
       "      <th>Time</th>\n",
       "      <th>H:M</th>\n",
       "      <th>Month</th>\n",
       "    </tr>\n",
       "  </thead>\n",
       "  <tbody>\n",
       "    <tr>\n",
       "      <th>0</th>\n",
       "      <td>2023-07-21 08:52:36.374553</td>\n",
       "      <td>52:36</td>\n",
       "      <td>07</td>\n",
       "    </tr>\n",
       "    <tr>\n",
       "      <th>1</th>\n",
       "      <td>2023-07-21 08:52:38.390799</td>\n",
       "      <td>52:38</td>\n",
       "      <td>07</td>\n",
       "    </tr>\n",
       "    <tr>\n",
       "      <th>2</th>\n",
       "      <td>2023-07-21 08:52:40.405879</td>\n",
       "      <td>52:40</td>\n",
       "      <td>07</td>\n",
       "    </tr>\n",
       "    <tr>\n",
       "      <th>3</th>\n",
       "      <td>2023-07-21 08:52:42.413020</td>\n",
       "      <td>52:42</td>\n",
       "      <td>07</td>\n",
       "    </tr>\n",
       "    <tr>\n",
       "      <th>4</th>\n",
       "      <td>2023-07-21 08:52:44.420681</td>\n",
       "      <td>52:44</td>\n",
       "      <td>07</td>\n",
       "    </tr>\n",
       "    <tr>\n",
       "      <th>5</th>\n",
       "      <td>2023-07-21 08:52:46.424724</td>\n",
       "      <td>52:46</td>\n",
       "      <td>07</td>\n",
       "    </tr>\n",
       "    <tr>\n",
       "      <th>6</th>\n",
       "      <td>2023-07-21 08:52:48.436297</td>\n",
       "      <td>52:48</td>\n",
       "      <td>07</td>\n",
       "    </tr>\n",
       "    <tr>\n",
       "      <th>7</th>\n",
       "      <td>2023-07-21 08:52:50.441312</td>\n",
       "      <td>52:50</td>\n",
       "      <td>07</td>\n",
       "    </tr>\n",
       "    <tr>\n",
       "      <th>8</th>\n",
       "      <td>2023-07-21 08:52:52.454973</td>\n",
       "      <td>52:52</td>\n",
       "      <td>07</td>\n",
       "    </tr>\n",
       "    <tr>\n",
       "      <th>9</th>\n",
       "      <td>2023-07-21 08:52:54.456310</td>\n",
       "      <td>52:54</td>\n",
       "      <td>07</td>\n",
       "    </tr>\n",
       "  </tbody>\n",
       "</table>\n",
       "</div>"
      ],
      "text/plain": [
       "                        Time    H:M Month\n",
       "0 2023-07-21 08:52:36.374553  52:36    07\n",
       "1 2023-07-21 08:52:38.390799  52:38    07\n",
       "2 2023-07-21 08:52:40.405879  52:40    07\n",
       "3 2023-07-21 08:52:42.413020  52:42    07\n",
       "4 2023-07-21 08:52:44.420681  52:44    07\n",
       "5 2023-07-21 08:52:46.424724  52:46    07\n",
       "6 2023-07-21 08:52:48.436297  52:48    07\n",
       "7 2023-07-21 08:52:50.441312  52:50    07\n",
       "8 2023-07-21 08:52:52.454973  52:52    07\n",
       "9 2023-07-21 08:52:54.456310  52:54    07"
      ]
     },
     "execution_count": 75,
     "metadata": {},
     "output_type": "execute_result"
    }
   ],
   "source": [
    "df"
   ]
  },
  {
   "cell_type": "code",
   "execution_count": null,
   "id": "b7251309",
   "metadata": {},
   "outputs": [],
   "source": [
    "pd.read_csv('path', parse_dates=['date_column'])"
   ]
  },
  {
   "cell_type": "code",
   "execution_count": 76,
   "id": "b73e782c",
   "metadata": {},
   "outputs": [
    {
     "data": {
      "text/plain": [
       "Timestamp('2023-07-21 08:52:36.374553')"
      ]
     },
     "execution_count": 76,
     "metadata": {},
     "output_type": "execute_result"
    }
   ],
   "source": [
    "df['Time'][0]"
   ]
  },
  {
   "cell_type": "code",
   "execution_count": null,
   "id": "4dd6b997",
   "metadata": {},
   "outputs": [],
   "source": []
  }
 ],
 "metadata": {
  "kernelspec": {
   "display_name": "Python 3 (ipykernel)",
   "language": "python",
   "name": "python3"
  },
  "language_info": {
   "codemirror_mode": {
    "name": "ipython",
    "version": 3
   },
   "file_extension": ".py",
   "mimetype": "text/x-python",
   "name": "python",
   "nbconvert_exporter": "python",
   "pygments_lexer": "ipython3",
   "version": "3.9.12"
  }
 },
 "nbformat": 4,
 "nbformat_minor": 5
}
