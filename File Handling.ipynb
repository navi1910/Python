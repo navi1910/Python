{
 "cells": [
  {
   "cell_type": "markdown",
   "id": "3a853e1c",
   "metadata": {},
   "source": [
    "## File Handling\n",
    "\n",
    "So far we have seen different Python data types. We usually store our data in different file formats. In addition to handling files, we will also see different file formats(.txt, .json, .xml, .csv, .tsv, .excel) in this section. First, let us get familiar with handling files with common file format(.txt).\n",
    "\n",
    "File handling is an import part of programming which allows us to create, read, update and delete files. In Python to handle data we use _open()_ built-in function.\n",
    "\n",
    "```py\n",
    "# Syntax\n",
    "open('filename', mode) # mode(r, a, w, x, t,b)  could be to read, write, update\n",
    "```\n",
    "\n",
    "- \"r\" - Read - Default value. Opens a file for reading, it returns an error if the file does not exist\n",
    "- \"a\" - Append - Opens a file for appending, creates the file if it does not exist\n",
    "- \"w\" - Write - Opens a file for writing, creates the file if it does not exist\n",
    "- \"x\" - Create - Creates the specified file, returns an error if the file exists\n",
    "- \"t\" - Text - Default value. Text mode\n",
    "- \"b\" - Binary - Binary mode (e.g. images)\n",
    "\n",
    "### Opening Files for Reading\n",
    "\n",
    "The default mode of _open_ is reading, so we do not have to specify 'r' or 'rt'. I have created and saved a file named reading_file_example.txt in the files directory. Let us see how it is done:\n",
    "\n",
    "```py\n",
    "f = open('./files/reading_file_example.txt')\n",
    "print(f) # <_io.TextIOWrapper name='./files/reading_file_example.txt' mode='r' encoding='UTF-8'>\n",
    "```\n",
    "\n",
    "As you can see in the example above, I printed the opened file and it gave  some information about it. Opened file has different reading methods: _read()_, _readline_, _readlines_. An opened file has to be closed with _close()_ method.\n",
    "\n",
    "- _read()_: read the whole text as string. If we want to limit the number of characters we want to read, we can limit it by passing int value to the *read(number)* method.\n",
    "\n",
    "```py\n",
    "f = open('./files/reading_file_example.txt')\n",
    "txt = f.read()\n",
    "print(type(txt))\n",
    "print(txt)\n",
    "f.close()\n",
    "```\n",
    "\n",
    "```sh\n",
    "# output\n",
    "<class 'str'>\n",
    "This is an example to show how to open a file and read.\n",
    "This is the second line of the text.\n",
    "```\n",
    "\n",
    "Instead of printing all the text, let us print the first 10 characters of the text file.\n",
    "\n",
    "```py\n",
    "f = open('./files/reading_file_example.txt')\n",
    "txt = f.read(10)\n",
    "print(type(txt))\n",
    "print(txt)\n",
    "f.close()\n",
    "```\n",
    "\n",
    "```sh\n",
    "# output\n",
    "<class 'str'>\n",
    "This is an\n",
    "```\n",
    "\n",
    "- _readline()_: read only the first line\n",
    "\n",
    "```py\n",
    "f = open('./files/reading_file_example.txt')\n",
    "line = f.readline()\n",
    "print(type(line))\n",
    "print(line)\n",
    "f.close()\n",
    "```\n",
    "\n",
    "```sh\n",
    "# output\n",
    "<class 'str'>\n",
    "This is an example to show how to open a file and read.\n",
    "```\n",
    "\n",
    "- _readlines()_: read all the text line by line and returns a list of lines\n",
    "\n",
    "```py\n",
    "f = open('./files/reading_file_example.txt')\n",
    "lines = f.readlines()\n",
    "print(type(lines))\n",
    "print(lines)\n",
    "f.close()\n",
    "```\n",
    "\n",
    "```sh\n",
    "# output\n",
    "<class 'list'>\n",
    "['This is an example to show how to open a file and read.\\n', 'This is the second line of the text.']\n",
    "```\n",
    "\n",
    "Another way to get all the lines as a list is using _splitlines()_:\n",
    "\n",
    "```py\n",
    "f = open('./files/reading_file_example.txt')\n",
    "lines = f.read().splitlines()\n",
    "print(type(lines))\n",
    "print(lines)\n",
    "f.close()\n",
    "```\n",
    "\n",
    "```sh\n",
    "# output\n",
    "<class 'list'>\n",
    "['This is an example to show how to open a file and read.', 'This is the second line of the text.']\n",
    "```\n",
    "\n",
    "After we open a file, we should close it. There is a high tendency of forgetting to close them. There is a new way of opening files using _with_ - closes the files by itself. Let us rewrite the the previous example with the _with_ method:\n",
    "\n",
    "```py\n",
    "with open('./files/reading_file_example.txt') as f:\n",
    "    lines = f.read().splitlines()\n",
    "    print(type(lines))\n",
    "    print(lines)\n",
    "```\n",
    "\n",
    "```sh\n",
    "# output\n",
    "<class 'list'>\n",
    "['This is an example to show how to open a file and read.', 'This is the second line of the text.']\n",
    "```\n",
    "\n",
    "### Opening Files for Writing and Updating\n",
    "\n",
    "To write to an existing file, we must add a mode as parameter to the _open()_ function:\n",
    "\n",
    "- \"a\" - append - will append to the end of the file, if the file does not it creates a new file.\n",
    "- \"w\" - write - will overwrite any existing content, if the file does not exist it creates.\n",
    "\n",
    "Let us append some text to the file we have been reading:\n",
    "\n",
    "```py\n",
    "with open('./files/reading_file_example.txt','a') as f:\n",
    "    f.write('This text has to be appended at the end')\n",
    "```\n",
    "\n",
    "The method below creates a new file, if the file does not exist:\n",
    "\n",
    "```py\n",
    "with open('./files/writing_file_example.txt','w') as f:\n",
    "    f.write('This text will be written in a newly created file')\n",
    "```\n",
    "\n",
    "### Deleting Files\n",
    "\n",
    "We have seen in previous section, how to make and remove a directory using _os_ module. Again now, if we want to remove a file we use _os_ module.\n",
    "\n",
    "```py\n",
    "import os\n",
    "os.remove('./files/example.txt')\n",
    "\n",
    "```\n",
    "\n",
    "If the file does not exist, the remove method will raise an error, so it is good to use a condition like this:\n",
    "\n",
    "```py\n",
    "import os\n",
    "if os.path.exists('./files/example.txt'):\n",
    "    os.remove('./files/example.txt')\n",
    "else:\n",
    "    print('The file does not exist')\n",
    "```\n",
    "\n",
    "## File Types\n",
    "\n",
    "### File with txt Extension\n",
    "\n",
    "File with _txt_ extension is a very common form of data and we have covered it in the previous section. Let us move to the JSON file\n",
    "\n",
    "### File with json Extension\n",
    "\n",
    "JSON stands for JavaScript Object Notation. Actually, it is a stringified JavaScript object or Python dictionary.\n",
    "\n",
    "_Example:_\n",
    "\n",
    "```py\n",
    "# dictionary\n",
    "person_dct= {\n",
    "    \"name\":\"Asabeneh\",\n",
    "    \"country\":\"Finland\",\n",
    "    \"city\":\"Helsinki\",\n",
    "    \"skills\":[\"JavaScrip\", \"React\",\"Python\"]\n",
    "}\n",
    "# JSON: A string form a dictionary\n",
    "person_json = \"{'name': 'Asabeneh', 'country': 'Finland', 'city': 'Helsinki', 'skills': ['JavaScrip', 'React', 'Python']}\"\n",
    "\n",
    "# we use three quotes and make it multiple line to make it more readable\n",
    "person_json = '''{\n",
    "    \"name\":\"Asabeneh\",\n",
    "    \"country\":\"Finland\",\n",
    "    \"city\":\"Helsinki\",\n",
    "    \"skills\":[\"JavaScrip\", \"React\",\"Python\"]\n",
    "}'''\n",
    "```\n",
    "\n",
    "### Changing JSON to Dictionary\n",
    "\n",
    "To change a JSON to a dictionary, first we import the json module and then we use _loads_ method.\n",
    "\n",
    "```py\n",
    "import json\n",
    "# JSON\n",
    "person_json = '''{\n",
    "    \"name\": \"Asabeneh\",\n",
    "    \"country\": \"Finland\",\n",
    "    \"city\": \"Helsinki\",\n",
    "    \"skills\": [\"JavaScrip\", \"React\", \"Python\"]\n",
    "}'''\n",
    "# let's change JSON to dictionary\n",
    "person_dct = json.loads(person_json)\n",
    "print(type(person_dct))\n",
    "print(person_dct)\n",
    "print(person_dct['name'])\n",
    "```\n",
    "\n",
    "```sh\n",
    "# output\n",
    "<class 'dict'>\n",
    "{'name': 'Asabeneh', 'country': 'Finland', 'city': 'Helsinki', 'skills': ['JavaScrip', 'React', 'Python']}\n",
    "Asabeneh\n",
    "```\n",
    "\n",
    "### Changing Dictionary to JSON\n",
    "\n",
    "To change a dictionary to a JSON we use _dumps_ method from the json module.\n",
    "\n",
    "```py\n",
    "import json\n",
    "# python dictionary\n",
    "person = {\n",
    "    \"name\": \"Asabeneh\",\n",
    "    \"country\": \"Finland\",\n",
    "    \"city\": \"Helsinki\",\n",
    "    \"skills\": [\"JavaScrip\", \"React\", \"Python\"]\n",
    "}\n",
    "# let's convert it to  json\n",
    "person_json = json.dumps(person, indent=4) # indent could be 2, 4, 8. It beautifies the json\n",
    "print(type(person_json))\n",
    "print(person_json)\n",
    "```\n",
    "\n",
    "```sh\n",
    "# output\n",
    "# when you print it, it does not have the quote, but actually it is a string\n",
    "# JSON does not have type, it is a string type.\n",
    "<class 'str'>\n",
    "{\n",
    "    \"name\": \"Asabeneh\",\n",
    "    \"country\": \"Finland\",\n",
    "    \"city\": \"Helsinki\",\n",
    "    \"skills\": [\n",
    "        \"JavaScrip\",\n",
    "        \"React\",\n",
    "        \"Python\"\n",
    "    ]\n",
    "}\n",
    "```\n",
    "\n",
    "### Saving as JSON File\n",
    "\n",
    "We can also save our data as a json file. Let us save it as a json file using the following steps. For writing a json file, we use the json.dump() method, it can take dictionary, output file, ensure_ascii and indent.\n",
    "\n",
    "```py\n",
    "import json\n",
    "# python dictionary\n",
    "person = {\n",
    "    \"name\": \"Asabeneh\",\n",
    "    \"country\": \"Finland\",\n",
    "    \"city\": \"Helsinki\",\n",
    "    \"skills\": [\"JavaScrip\", \"React\", \"Python\"]\n",
    "}\n",
    "with open('./files/json_example.json', 'w', encoding='utf-8') as f:\n",
    "    json.dump(person, f, ensure_ascii=False, indent=4)\n",
    "```\n",
    "\n",
    "In the code above, we use encoding and indentation. Indentation makes the json file easy to read.\n",
    "\n",
    "### File with csv Extension\n",
    "\n",
    "CSV stands for comma separated values. CSV is a simple file format used to store tabular data, such as a spreadsheet or database. CSV is a very common data format in data science.\n",
    "\n",
    "**Example:**\n",
    "\n",
    "```csv\n",
    "\"name\",\"country\",\"city\",\"skills\"\n",
    "\"Asabeneh\",\"Finland\",\"Helsinki\",\"JavaScript\"\n",
    "```\n",
    "\n",
    "**Example:**\n",
    "\n",
    "```py\n",
    "import csv\n",
    "with open('./files/csv_example.csv') as f:\n",
    "    csv_reader = csv.reader(f, delimiter=',') # w use, reader method to read csv\n",
    "    line_count = 0\n",
    "    for row in csv_reader:\n",
    "        if line_count == 0:\n",
    "            print(f'Column names are :{\", \".join(row)}')\n",
    "            line_count += 1\n",
    "        else:\n",
    "            print(\n",
    "                f'\\t{row[0]} is a teachers. He lives in {row[1]}, {row[2]}.')\n",
    "            line_count += 1\n",
    "    print(f'Number of lines:  {line_count}')\n",
    "```\n",
    "\n",
    "```sh\n",
    "# output:\n",
    "Column names are :name, country, city, skills\n",
    "        Asabeneh is a teacher. He lives in Finland, Helsinki.\n",
    "Number of lines:  2\n",
    "```\n",
    "\n",
    "### File with xlsx Extension\n",
    "\n",
    "To read excel files we need to install _xlrd_ package. We will cover this after we cover package installing using pip.\n",
    "\n",
    "```py\n",
    "import xlrd\n",
    "excel_book = xlrd.open_workbook('sample.xls)\n",
    "print(excel_book.nsheets)\n",
    "print(excel_book.sheet_names)\n",
    "```\n",
    "\n",
    "### File with xml Extension\n",
    "\n",
    "XML is another structured data format which looks like HTML. In XML the tags are not predefined. The first line is an XML declaration. The person tag is the root of the XML. The person has a gender attribute.\n",
    "**Example:XML**\n",
    "\n",
    "```xml\n",
    "<?xml version=\"1.0\"?>\n",
    "<person gender=\"female\">\n",
    "  <name>Asabeneh</name>\n",
    "  <country>Finland</country>\n",
    "  <city>Helsinki</city>\n",
    "  <skills>\n",
    "    <skill>JavaScrip</skill>\n",
    "    <skill>React</skill>\n",
    "    <skill>Python</skill>\n",
    "  </skills>\n",
    "</person>\n",
    "```\n",
    "\n",
    "For more information on how to read an XML file check the [documentation](https://docs.python.org/2/library/xml.etree.elementtree.html)\n",
    "\n",
    "```py\n",
    "import xml.etree.ElementTree as ET\n",
    "tree = ET.parse('./files/xml_example.xml')\n",
    "root = tree.getroot()\n",
    "print('Root tag:', root.tag)\n",
    "print('Attribute:', root.attrib)\n",
    "for child in root:\n",
    "    print('field: ', child.tag)\n",
    "```\n",
    "\n",
    "```sh\n",
    "# output\n",
    "Root tag: person\n",
    "Attribute: {'gender': 'male'}\n",
    "field: name\n",
    "field: country\n",
    "field: city\n",
    "field: skills\n",
    "```\n"
   ]
  },
  {
   "cell_type": "code",
   "execution_count": 1,
   "id": "1217efa8",
   "metadata": {
    "scrolled": true
   },
   "outputs": [
    {
     "data": {
      "text/plain": [
       "<_io.TextIOWrapper name='E:\\\\Besant Python\\\\my_text.txt.txt' mode='r' encoding='cp1252'>"
      ]
     },
     "execution_count": 1,
     "metadata": {},
     "output_type": "execute_result"
    }
   ],
   "source": [
    "open(r\"E:\\Besant Python\\my_text.txt.txt\", 'r')"
   ]
  },
  {
   "cell_type": "code",
   "execution_count": 2,
   "id": "88b15d0e",
   "metadata": {},
   "outputs": [
    {
     "data": {
      "text/plain": [
       "<_io.TextIOWrapper name='E:\\\\Besant Python\\\\my_text.txt.txt' mode='a' encoding='cp1252'>"
      ]
     },
     "execution_count": 2,
     "metadata": {},
     "output_type": "execute_result"
    }
   ],
   "source": [
    "open(r\"E:\\Besant Python\\my_text.txt.txt\", 'a')"
   ]
  },
  {
   "cell_type": "code",
   "execution_count": 3,
   "id": "9fc65afa",
   "metadata": {},
   "outputs": [
    {
     "data": {
      "text/plain": [
       "<_io.TextIOWrapper name='E:\\\\Besant Python\\\\new_text.txt' mode='a' encoding='cp1252'>"
      ]
     },
     "execution_count": 3,
     "metadata": {},
     "output_type": "execute_result"
    }
   ],
   "source": [
    "open(r\"E:\\Besant Python\\new_text.txt\", 'a')"
   ]
  },
  {
   "cell_type": "code",
   "execution_count": 4,
   "id": "6108e907",
   "metadata": {},
   "outputs": [],
   "source": [
    "a = open(\"E:\\Besant Python\\my_text.txt.txt\", 'r')"
   ]
  },
  {
   "cell_type": "code",
   "execution_count": 5,
   "id": "0ef18c6c",
   "metadata": {},
   "outputs": [
    {
     "name": "stdout",
     "output_type": "stream",
     "text": [
      "<_io.TextIOWrapper name='E:\\\\Besant Python\\\\my_text.txt.txt' mode='r' encoding='cp1252'>\n"
     ]
    }
   ],
   "source": [
    "print(a)"
   ]
  },
  {
   "cell_type": "code",
   "execution_count": 6,
   "id": "420de2af",
   "metadata": {},
   "outputs": [],
   "source": [
    "a.close()"
   ]
  },
  {
   "cell_type": "code",
   "execution_count": 7,
   "id": "31d7da61",
   "metadata": {},
   "outputs": [
    {
     "name": "stdout",
     "output_type": "stream",
     "text": [
      "<class 'str'>\n",
      "Hello, this is a dem\n"
     ]
    }
   ],
   "source": [
    "f = open('read_open.txt')\n",
    "txt = f.read(20)\n",
    "print(type(txt))\n",
    "print(txt)\n",
    "f.close()"
   ]
  },
  {
   "cell_type": "code",
   "execution_count": 8,
   "id": "4163ac77",
   "metadata": {},
   "outputs": [
    {
     "name": "stdout",
     "output_type": "stream",
     "text": [
      "Hello, this is a demo file for file handling in Python.\n"
     ]
    }
   ],
   "source": [
    "f = open('read_open.txt')\n",
    "text = f.readline()\n",
    "print(text)\n",
    "f.close()"
   ]
  },
  {
   "cell_type": "code",
   "execution_count": 14,
   "id": "11f4fc31",
   "metadata": {},
   "outputs": [
    {
     "name": "stdout",
     "output_type": "stream",
     "text": [
      "Hello, thi\n"
     ]
    }
   ],
   "source": [
    "a = open('read_open.txt')\n",
    "text = a.read(10)\n",
    "print(text)\n",
    "a.close()"
   ]
  },
  {
   "cell_type": "code",
   "execution_count": 13,
   "id": "2fe7af22",
   "metadata": {
    "scrolled": true
   },
   "outputs": [
    {
     "name": "stdout",
     "output_type": "stream",
     "text": [
      "Hello, this is a demo file for file handling in Python.\n"
     ]
    }
   ],
   "source": [
    "print(open('read_open.txt').readline()) # Don't use this, was not able to close."
   ]
  },
  {
   "cell_type": "code",
   "execution_count": 16,
   "id": "3c9eb145",
   "metadata": {},
   "outputs": [
    {
     "name": "stdout",
     "output_type": "stream",
     "text": [
      "['Hello, this is a demo file for file handling in Python.\\n', 'This is the 2nd line.\\n', 'This is the third line.']\n"
     ]
    }
   ],
   "source": [
    "print(open('read_open.txt').readlines()) # For multiple lines."
   ]
  },
  {
   "cell_type": "code",
   "execution_count": 18,
   "id": "3048c25d",
   "metadata": {},
   "outputs": [
    {
     "name": "stdout",
     "output_type": "stream",
     "text": [
      "Hello, this is a demo file for file handling in Python.\n"
     ]
    }
   ],
   "source": [
    "# Print using single line of code\n",
    "print(open('read_open.txt').read().splitlines()[0])"
   ]
  },
  {
   "cell_type": "code",
   "execution_count": 23,
   "id": "115a582c",
   "metadata": {},
   "outputs": [
    {
     "name": "stdout",
     "output_type": "stream",
     "text": [
      "[\"The Category consists of more than 200 images, thus divided to two pages. But not only the image list: the category list is also divided into two parts. The second part can be seen on the second page, including Astronomical object's category. With the custom sorting also make it more chaotic, it's impossible to find it for people who don't know the system and its logic well enough.\"]\n"
     ]
    }
   ],
   "source": [
    "# Read wikipedia file\n",
    "f = open(r\"E:\\Besant Python\\Wikipedia.txt\", 'r')\n",
    "text = f.readlines()\n",
    "print(text)\n",
    "f.close()"
   ]
  },
  {
   "cell_type": "code",
   "execution_count": 25,
   "id": "0e02c28a",
   "metadata": {},
   "outputs": [
    {
     "name": "stdout",
     "output_type": "stream",
     "text": [
      "The Category consists of more than 200 images, thus divided to two pages. But not only the image list: the category list is also divided into two parts. The second part can be seen on the second page, including Astronomical object's category. With the custom sorting also make it more chaotic, it's impossible to find it for people who don't know the system and its logic well enough.\n"
     ]
    }
   ],
   "source": [
    "# Popular syntax for reading\n",
    "with open(r\"E:\\Besant Python\\Wikipedia.txt\", 'r') as f:\n",
    "    text = f.readlines()\n",
    "    print(text[0])"
   ]
  },
  {
   "cell_type": "code",
   "execution_count": 26,
   "id": "b2739630",
   "metadata": {},
   "outputs": [],
   "source": [
    "# Appendind\n",
    "with open('append.txt','a') as f:\n",
    "    f.write('This is my sentence.')"
   ]
  },
  {
   "cell_type": "code",
   "execution_count": 27,
   "id": "0378d75a",
   "metadata": {},
   "outputs": [
    {
     "data": {
      "text/plain": [
       "'E:\\\\Besant Python'"
      ]
     },
     "execution_count": 27,
     "metadata": {},
     "output_type": "execute_result"
    }
   ],
   "source": [
    "import os # To get current working directory.\n",
    "\n",
    "os.getcwd() # append.txt will be saved in this path."
   ]
  },
  {
   "cell_type": "code",
   "execution_count": 29,
   "id": "cbd7e3d5",
   "metadata": {},
   "outputs": [],
   "source": [
    "# Appending - Adds line to existing lines.\n",
    "with open(r\"E:\\Besant Python\\Wikipedia.txt\", 'a') as f:\n",
    "    f.write('My name is Naveen.')"
   ]
  },
  {
   "cell_type": "code",
   "execution_count": 30,
   "id": "d6906c5b",
   "metadata": {},
   "outputs": [
    {
     "name": "stdout",
     "output_type": "stream",
     "text": [
      "[\"The Category consists of more than 200 images, thus divided to two pages. But not only the image list: the category list is also divided into two parts. The second part can be seen on the second page, including Astronomical object's category. With the custom sorting also make it more chaotic, it's impossible to find it for people who don't know the system and its logic well enough.My name is Naveen.My name is Naveen.\"]\n"
     ]
    }
   ],
   "source": [
    "# Reading\n",
    "with open(r\"E:\\Besant Python\\Wikipedia.txt\", 'r') as f:\n",
    "    text = f.read().splitlines()\n",
    "    print(text)"
   ]
  },
  {
   "cell_type": "code",
   "execution_count": 32,
   "id": "c2eceb5a",
   "metadata": {},
   "outputs": [],
   "source": [
    "# Writing - Overwrites everything\n",
    "with open(r\"E:\\Besant Python\\Wikipedia.txt\", 'w') as f:\n",
    "    f.write('My name is Naveen.')"
   ]
  },
  {
   "cell_type": "code",
   "execution_count": 33,
   "id": "8270fb2f",
   "metadata": {},
   "outputs": [
    {
     "name": "stdout",
     "output_type": "stream",
     "text": [
      "['My name is Naveen.']\n"
     ]
    }
   ],
   "source": [
    "# Reading\n",
    "with open(r\"E:\\Besant Python\\Wikipedia.txt\", 'r') as f:\n",
    "    text = f.read().splitlines()\n",
    "    print(text)"
   ]
  },
  {
   "cell_type": "code",
   "execution_count": 34,
   "id": "95831a71",
   "metadata": {},
   "outputs": [],
   "source": [
    "# Creating\n",
    "a = open('create.txt', 'x')\n",
    "a.close()"
   ]
  },
  {
   "cell_type": "code",
   "execution_count": 35,
   "id": "a6b16808",
   "metadata": {},
   "outputs": [
    {
     "data": {
      "text/plain": [
       "'E:\\\\Besant Python'"
      ]
     },
     "execution_count": 35,
     "metadata": {},
     "output_type": "execute_result"
    }
   ],
   "source": [
    "import os\n",
    "os.getcwd()"
   ]
  },
  {
   "cell_type": "code",
   "execution_count": 36,
   "id": "c1a6c238",
   "metadata": {},
   "outputs": [],
   "source": [
    "# Deleting\n",
    "import os\n",
    "os.remove('create.txt')"
   ]
  },
  {
   "cell_type": "code",
   "execution_count": 1,
   "id": "e9ce7aad",
   "metadata": {},
   "outputs": [],
   "source": [
    "import pandas as pd"
   ]
  },
  {
   "cell_type": "code",
   "execution_count": 2,
   "id": "60f59950",
   "metadata": {},
   "outputs": [
    {
     "data": {
      "text/html": [
       "<div>\n",
       "<style scoped>\n",
       "    .dataframe tbody tr th:only-of-type {\n",
       "        vertical-align: middle;\n",
       "    }\n",
       "\n",
       "    .dataframe tbody tr th {\n",
       "        vertical-align: top;\n",
       "    }\n",
       "\n",
       "    .dataframe thead th {\n",
       "        text-align: right;\n",
       "    }\n",
       "</style>\n",
       "<table border=\"1\" class=\"dataframe\">\n",
       "  <thead>\n",
       "    <tr style=\"text-align: right;\">\n",
       "      <th></th>\n",
       "      <th>OrderDate</th>\n",
       "      <th>Region</th>\n",
       "      <th>Rep</th>\n",
       "      <th>Item</th>\n",
       "      <th>Units</th>\n",
       "      <th>Unit Cost</th>\n",
       "      <th>Total</th>\n",
       "    </tr>\n",
       "  </thead>\n",
       "  <tbody>\n",
       "    <tr>\n",
       "      <th>0</th>\n",
       "      <td>1/6/21</td>\n",
       "      <td>East</td>\n",
       "      <td>Jones</td>\n",
       "      <td>Pencil</td>\n",
       "      <td>95</td>\n",
       "      <td>1.99</td>\n",
       "      <td>189.05</td>\n",
       "    </tr>\n",
       "    <tr>\n",
       "      <th>1</th>\n",
       "      <td>1/23/21</td>\n",
       "      <td>Central</td>\n",
       "      <td>Kivell</td>\n",
       "      <td>Binder</td>\n",
       "      <td>50</td>\n",
       "      <td>19.99</td>\n",
       "      <td>999.50</td>\n",
       "    </tr>\n",
       "    <tr>\n",
       "      <th>2</th>\n",
       "      <td>2/9/21</td>\n",
       "      <td>Central</td>\n",
       "      <td>Jardine</td>\n",
       "      <td>Pencil</td>\n",
       "      <td>36</td>\n",
       "      <td>4.99</td>\n",
       "      <td>179.64</td>\n",
       "    </tr>\n",
       "    <tr>\n",
       "      <th>3</th>\n",
       "      <td>2/26/21</td>\n",
       "      <td>Central</td>\n",
       "      <td>Gill</td>\n",
       "      <td>Pen</td>\n",
       "      <td>27</td>\n",
       "      <td>19.99</td>\n",
       "      <td>539.73</td>\n",
       "    </tr>\n",
       "    <tr>\n",
       "      <th>4</th>\n",
       "      <td>3/15/21</td>\n",
       "      <td>West</td>\n",
       "      <td>Sorvino</td>\n",
       "      <td>Pencil</td>\n",
       "      <td>56</td>\n",
       "      <td>2.99</td>\n",
       "      <td>167.44</td>\n",
       "    </tr>\n",
       "    <tr>\n",
       "      <th>5</th>\n",
       "      <td>4/1/21</td>\n",
       "      <td>East</td>\n",
       "      <td>Jones</td>\n",
       "      <td>Binder</td>\n",
       "      <td>60</td>\n",
       "      <td>4.99</td>\n",
       "      <td>299.40</td>\n",
       "    </tr>\n",
       "    <tr>\n",
       "      <th>6</th>\n",
       "      <td>4/18/21</td>\n",
       "      <td>Central</td>\n",
       "      <td>Andrews</td>\n",
       "      <td>Pencil</td>\n",
       "      <td>75</td>\n",
       "      <td>1.99</td>\n",
       "      <td>149.25</td>\n",
       "    </tr>\n",
       "    <tr>\n",
       "      <th>7</th>\n",
       "      <td>5/5/21</td>\n",
       "      <td>Central</td>\n",
       "      <td>Jardine</td>\n",
       "      <td>Pencil</td>\n",
       "      <td>90</td>\n",
       "      <td>4.99</td>\n",
       "      <td>449.10</td>\n",
       "    </tr>\n",
       "    <tr>\n",
       "      <th>8</th>\n",
       "      <td>5/22/21</td>\n",
       "      <td>West</td>\n",
       "      <td>Thompson</td>\n",
       "      <td>Pencil</td>\n",
       "      <td>32</td>\n",
       "      <td>1.99</td>\n",
       "      <td>63.68</td>\n",
       "    </tr>\n",
       "    <tr>\n",
       "      <th>9</th>\n",
       "      <td>6/8/21</td>\n",
       "      <td>East</td>\n",
       "      <td>Jones</td>\n",
       "      <td>Binder</td>\n",
       "      <td>60</td>\n",
       "      <td>8.99</td>\n",
       "      <td>539.40</td>\n",
       "    </tr>\n",
       "    <tr>\n",
       "      <th>10</th>\n",
       "      <td>6/25/21</td>\n",
       "      <td>Central</td>\n",
       "      <td>Morgan</td>\n",
       "      <td>Pencil</td>\n",
       "      <td>90</td>\n",
       "      <td>4.99</td>\n",
       "      <td>449.10</td>\n",
       "    </tr>\n",
       "    <tr>\n",
       "      <th>11</th>\n",
       "      <td>7/12/21</td>\n",
       "      <td>East</td>\n",
       "      <td>Howard</td>\n",
       "      <td>Binder</td>\n",
       "      <td>29</td>\n",
       "      <td>1.99</td>\n",
       "      <td>57.71</td>\n",
       "    </tr>\n",
       "    <tr>\n",
       "      <th>12</th>\n",
       "      <td>7/29/21</td>\n",
       "      <td>East</td>\n",
       "      <td>Parent</td>\n",
       "      <td>Binder</td>\n",
       "      <td>81</td>\n",
       "      <td>19.99</td>\n",
       "      <td>1,619.19</td>\n",
       "    </tr>\n",
       "    <tr>\n",
       "      <th>13</th>\n",
       "      <td>8/15/21</td>\n",
       "      <td>East</td>\n",
       "      <td>Jones</td>\n",
       "      <td>Pencil</td>\n",
       "      <td>35</td>\n",
       "      <td>4.99</td>\n",
       "      <td>174.65</td>\n",
       "    </tr>\n",
       "    <tr>\n",
       "      <th>14</th>\n",
       "      <td>9/1/21</td>\n",
       "      <td>Central</td>\n",
       "      <td>Smith</td>\n",
       "      <td>Desk</td>\n",
       "      <td>2</td>\n",
       "      <td>125.00</td>\n",
       "      <td>250.00</td>\n",
       "    </tr>\n",
       "    <tr>\n",
       "      <th>15</th>\n",
       "      <td>9/18/21</td>\n",
       "      <td>East</td>\n",
       "      <td>Jones</td>\n",
       "      <td>Pen Set</td>\n",
       "      <td>16</td>\n",
       "      <td>15.99</td>\n",
       "      <td>255.84</td>\n",
       "    </tr>\n",
       "    <tr>\n",
       "      <th>16</th>\n",
       "      <td>10/5/21</td>\n",
       "      <td>Central</td>\n",
       "      <td>Morgan</td>\n",
       "      <td>Binder</td>\n",
       "      <td>28</td>\n",
       "      <td>8.99</td>\n",
       "      <td>251.72</td>\n",
       "    </tr>\n",
       "    <tr>\n",
       "      <th>17</th>\n",
       "      <td>10/22/21</td>\n",
       "      <td>East</td>\n",
       "      <td>Jones</td>\n",
       "      <td>Pen</td>\n",
       "      <td>64</td>\n",
       "      <td>8.99</td>\n",
       "      <td>575.36</td>\n",
       "    </tr>\n",
       "    <tr>\n",
       "      <th>18</th>\n",
       "      <td>11/8/21</td>\n",
       "      <td>East</td>\n",
       "      <td>Parent</td>\n",
       "      <td>Pen</td>\n",
       "      <td>15</td>\n",
       "      <td>19.99</td>\n",
       "      <td>299.85</td>\n",
       "    </tr>\n",
       "    <tr>\n",
       "      <th>19</th>\n",
       "      <td>11/25/21</td>\n",
       "      <td>Central</td>\n",
       "      <td>Kivell</td>\n",
       "      <td>Pen Set</td>\n",
       "      <td>96</td>\n",
       "      <td>4.99</td>\n",
       "      <td>479.04</td>\n",
       "    </tr>\n",
       "    <tr>\n",
       "      <th>20</th>\n",
       "      <td>12/12/21</td>\n",
       "      <td>Central</td>\n",
       "      <td>Smith</td>\n",
       "      <td>Pencil</td>\n",
       "      <td>67</td>\n",
       "      <td>1.29</td>\n",
       "      <td>86.43</td>\n",
       "    </tr>\n",
       "    <tr>\n",
       "      <th>21</th>\n",
       "      <td>12/29/21</td>\n",
       "      <td>East</td>\n",
       "      <td>Parent</td>\n",
       "      <td>Pen Set</td>\n",
       "      <td>74</td>\n",
       "      <td>15.99</td>\n",
       "      <td>1,183.26</td>\n",
       "    </tr>\n",
       "    <tr>\n",
       "      <th>22</th>\n",
       "      <td>1/15/22</td>\n",
       "      <td>Central</td>\n",
       "      <td>Gill</td>\n",
       "      <td>Binder</td>\n",
       "      <td>46</td>\n",
       "      <td>8.99</td>\n",
       "      <td>413.54</td>\n",
       "    </tr>\n",
       "    <tr>\n",
       "      <th>23</th>\n",
       "      <td>2/1/22</td>\n",
       "      <td>Central</td>\n",
       "      <td>Smith</td>\n",
       "      <td>Binder</td>\n",
       "      <td>87</td>\n",
       "      <td>15.00</td>\n",
       "      <td>1,305.00</td>\n",
       "    </tr>\n",
       "    <tr>\n",
       "      <th>24</th>\n",
       "      <td>2/18/22</td>\n",
       "      <td>East</td>\n",
       "      <td>Jones</td>\n",
       "      <td>Binder</td>\n",
       "      <td>4</td>\n",
       "      <td>4.99</td>\n",
       "      <td>19.96</td>\n",
       "    </tr>\n",
       "    <tr>\n",
       "      <th>25</th>\n",
       "      <td>3/7/22</td>\n",
       "      <td>West</td>\n",
       "      <td>Sorvino</td>\n",
       "      <td>Binder</td>\n",
       "      <td>7</td>\n",
       "      <td>19.99</td>\n",
       "      <td>139.93</td>\n",
       "    </tr>\n",
       "    <tr>\n",
       "      <th>26</th>\n",
       "      <td>3/24/22</td>\n",
       "      <td>Central</td>\n",
       "      <td>Jardine</td>\n",
       "      <td>Pen Set</td>\n",
       "      <td>50</td>\n",
       "      <td>4.99</td>\n",
       "      <td>249.50</td>\n",
       "    </tr>\n",
       "    <tr>\n",
       "      <th>27</th>\n",
       "      <td>4/10/22</td>\n",
       "      <td>Central</td>\n",
       "      <td>Andrews</td>\n",
       "      <td>Pencil</td>\n",
       "      <td>66</td>\n",
       "      <td>1.99</td>\n",
       "      <td>131.34</td>\n",
       "    </tr>\n",
       "    <tr>\n",
       "      <th>28</th>\n",
       "      <td>4/27/22</td>\n",
       "      <td>East</td>\n",
       "      <td>Howard</td>\n",
       "      <td>Pen</td>\n",
       "      <td>96</td>\n",
       "      <td>4.99</td>\n",
       "      <td>479.04</td>\n",
       "    </tr>\n",
       "    <tr>\n",
       "      <th>29</th>\n",
       "      <td>5/14/22</td>\n",
       "      <td>Central</td>\n",
       "      <td>Gill</td>\n",
       "      <td>Pencil</td>\n",
       "      <td>53</td>\n",
       "      <td>1.29</td>\n",
       "      <td>68.37</td>\n",
       "    </tr>\n",
       "    <tr>\n",
       "      <th>30</th>\n",
       "      <td>5/31/22</td>\n",
       "      <td>Central</td>\n",
       "      <td>Gill</td>\n",
       "      <td>Binder</td>\n",
       "      <td>80</td>\n",
       "      <td>8.99</td>\n",
       "      <td>719.20</td>\n",
       "    </tr>\n",
       "    <tr>\n",
       "      <th>31</th>\n",
       "      <td>6/17/22</td>\n",
       "      <td>Central</td>\n",
       "      <td>Kivell</td>\n",
       "      <td>Desk</td>\n",
       "      <td>5</td>\n",
       "      <td>125.00</td>\n",
       "      <td>625.00</td>\n",
       "    </tr>\n",
       "    <tr>\n",
       "      <th>32</th>\n",
       "      <td>7/4/22</td>\n",
       "      <td>East</td>\n",
       "      <td>Jones</td>\n",
       "      <td>Pen Set</td>\n",
       "      <td>62</td>\n",
       "      <td>4.99</td>\n",
       "      <td>309.38</td>\n",
       "    </tr>\n",
       "    <tr>\n",
       "      <th>33</th>\n",
       "      <td>7/21/22</td>\n",
       "      <td>Central</td>\n",
       "      <td>Morgan</td>\n",
       "      <td>Pen Set</td>\n",
       "      <td>55</td>\n",
       "      <td>12.49</td>\n",
       "      <td>686.95</td>\n",
       "    </tr>\n",
       "    <tr>\n",
       "      <th>34</th>\n",
       "      <td>8/7/22</td>\n",
       "      <td>Central</td>\n",
       "      <td>Kivell</td>\n",
       "      <td>Pen Set</td>\n",
       "      <td>42</td>\n",
       "      <td>23.95</td>\n",
       "      <td>1,005.90</td>\n",
       "    </tr>\n",
       "    <tr>\n",
       "      <th>35</th>\n",
       "      <td>8/24/22</td>\n",
       "      <td>West</td>\n",
       "      <td>Sorvino</td>\n",
       "      <td>Desk</td>\n",
       "      <td>3</td>\n",
       "      <td>275.00</td>\n",
       "      <td>825.00</td>\n",
       "    </tr>\n",
       "    <tr>\n",
       "      <th>36</th>\n",
       "      <td>9/10/22</td>\n",
       "      <td>Central</td>\n",
       "      <td>Gill</td>\n",
       "      <td>Pencil</td>\n",
       "      <td>7</td>\n",
       "      <td>1.29</td>\n",
       "      <td>9.03</td>\n",
       "    </tr>\n",
       "    <tr>\n",
       "      <th>37</th>\n",
       "      <td>9/27/22</td>\n",
       "      <td>West</td>\n",
       "      <td>Sorvino</td>\n",
       "      <td>Pen</td>\n",
       "      <td>76</td>\n",
       "      <td>1.99</td>\n",
       "      <td>151.24</td>\n",
       "    </tr>\n",
       "    <tr>\n",
       "      <th>38</th>\n",
       "      <td>10/14/22</td>\n",
       "      <td>West</td>\n",
       "      <td>Thompson</td>\n",
       "      <td>Binder</td>\n",
       "      <td>57</td>\n",
       "      <td>19.99</td>\n",
       "      <td>1,139.43</td>\n",
       "    </tr>\n",
       "    <tr>\n",
       "      <th>39</th>\n",
       "      <td>10/31/22</td>\n",
       "      <td>Central</td>\n",
       "      <td>Andrews</td>\n",
       "      <td>Pencil</td>\n",
       "      <td>14</td>\n",
       "      <td>1.29</td>\n",
       "      <td>18.06</td>\n",
       "    </tr>\n",
       "    <tr>\n",
       "      <th>40</th>\n",
       "      <td>11/17/22</td>\n",
       "      <td>Central</td>\n",
       "      <td>Jardine</td>\n",
       "      <td>Binder</td>\n",
       "      <td>11</td>\n",
       "      <td>4.99</td>\n",
       "      <td>54.89</td>\n",
       "    </tr>\n",
       "    <tr>\n",
       "      <th>41</th>\n",
       "      <td>12/4/22</td>\n",
       "      <td>Central</td>\n",
       "      <td>Jardine</td>\n",
       "      <td>Binder</td>\n",
       "      <td>94</td>\n",
       "      <td>19.99</td>\n",
       "      <td>1,879.06</td>\n",
       "    </tr>\n",
       "    <tr>\n",
       "      <th>42</th>\n",
       "      <td>12/21/22</td>\n",
       "      <td>Central</td>\n",
       "      <td>Andrews</td>\n",
       "      <td>Binder</td>\n",
       "      <td>28</td>\n",
       "      <td>4.99</td>\n",
       "      <td>139.72</td>\n",
       "    </tr>\n",
       "  </tbody>\n",
       "</table>\n",
       "</div>"
      ],
      "text/plain": [
       "   OrderDate   Region       Rep     Item  Units  Unit Cost       Total\n",
       "0     1/6/21     East     Jones   Pencil     95       1.99     189.05 \n",
       "1    1/23/21  Central    Kivell   Binder     50      19.99     999.50 \n",
       "2     2/9/21  Central   Jardine   Pencil     36       4.99     179.64 \n",
       "3    2/26/21  Central      Gill      Pen     27      19.99     539.73 \n",
       "4    3/15/21     West   Sorvino   Pencil     56       2.99     167.44 \n",
       "5     4/1/21     East     Jones   Binder     60       4.99     299.40 \n",
       "6    4/18/21  Central   Andrews   Pencil     75       1.99     149.25 \n",
       "7     5/5/21  Central   Jardine   Pencil     90       4.99     449.10 \n",
       "8    5/22/21     West  Thompson   Pencil     32       1.99      63.68 \n",
       "9     6/8/21     East     Jones   Binder     60       8.99     539.40 \n",
       "10   6/25/21  Central    Morgan   Pencil     90       4.99     449.10 \n",
       "11   7/12/21     East    Howard   Binder     29       1.99      57.71 \n",
       "12   7/29/21     East    Parent   Binder     81      19.99   1,619.19 \n",
       "13   8/15/21     East     Jones   Pencil     35       4.99     174.65 \n",
       "14    9/1/21  Central     Smith     Desk      2     125.00     250.00 \n",
       "15   9/18/21     East     Jones  Pen Set     16      15.99     255.84 \n",
       "16   10/5/21  Central    Morgan   Binder     28       8.99     251.72 \n",
       "17  10/22/21     East     Jones      Pen     64       8.99     575.36 \n",
       "18   11/8/21     East    Parent      Pen     15      19.99     299.85 \n",
       "19  11/25/21  Central    Kivell  Pen Set     96       4.99     479.04 \n",
       "20  12/12/21  Central     Smith   Pencil     67       1.29      86.43 \n",
       "21  12/29/21     East    Parent  Pen Set     74      15.99   1,183.26 \n",
       "22   1/15/22  Central      Gill   Binder     46       8.99     413.54 \n",
       "23    2/1/22  Central     Smith   Binder     87      15.00   1,305.00 \n",
       "24   2/18/22     East     Jones   Binder      4       4.99      19.96 \n",
       "25    3/7/22     West   Sorvino   Binder      7      19.99     139.93 \n",
       "26   3/24/22  Central   Jardine  Pen Set     50       4.99     249.50 \n",
       "27   4/10/22  Central   Andrews   Pencil     66       1.99     131.34 \n",
       "28   4/27/22     East    Howard      Pen     96       4.99     479.04 \n",
       "29   5/14/22  Central      Gill   Pencil     53       1.29      68.37 \n",
       "30   5/31/22  Central      Gill   Binder     80       8.99     719.20 \n",
       "31   6/17/22  Central    Kivell     Desk      5     125.00     625.00 \n",
       "32    7/4/22     East     Jones  Pen Set     62       4.99     309.38 \n",
       "33   7/21/22  Central    Morgan  Pen Set     55      12.49     686.95 \n",
       "34    8/7/22  Central    Kivell  Pen Set     42      23.95   1,005.90 \n",
       "35   8/24/22     West   Sorvino     Desk      3     275.00     825.00 \n",
       "36   9/10/22  Central      Gill   Pencil      7       1.29       9.03 \n",
       "37   9/27/22     West   Sorvino      Pen     76       1.99     151.24 \n",
       "38  10/14/22     West  Thompson   Binder     57      19.99   1,139.43 \n",
       "39  10/31/22  Central   Andrews   Pencil     14       1.29      18.06 \n",
       "40  11/17/22  Central   Jardine   Binder     11       4.99      54.89 \n",
       "41   12/4/22  Central   Jardine   Binder     94      19.99   1,879.06 \n",
       "42  12/21/22  Central   Andrews   Binder     28       4.99     139.72 "
      ]
     },
     "execution_count": 2,
     "metadata": {},
     "output_type": "execute_result"
    }
   ],
   "source": [
    "pd.read_csv(r\"C:\\Users\\navi\\Downloads\\SampleData.csv\")"
   ]
  },
  {
   "cell_type": "code",
   "execution_count": 25,
   "id": "1c8cc3e8",
   "metadata": {},
   "outputs": [],
   "source": [
    "js = '{\"Name\": \"Naveen\", \"subject\": \"Python\"}'"
   ]
  },
  {
   "cell_type": "code",
   "execution_count": 26,
   "id": "38238cdd",
   "metadata": {},
   "outputs": [
    {
     "data": {
      "text/plain": [
       "'{\"Name\": \"Naveen\", \"subject\": \"Python\"}'"
      ]
     },
     "execution_count": 26,
     "metadata": {},
     "output_type": "execute_result"
    }
   ],
   "source": [
    "js"
   ]
  },
  {
   "cell_type": "code",
   "execution_count": 27,
   "id": "e010ccc5",
   "metadata": {},
   "outputs": [],
   "source": [
    "import json"
   ]
  },
  {
   "cell_type": "code",
   "execution_count": 28,
   "id": "e847fc9b",
   "metadata": {},
   "outputs": [],
   "source": [
    "dict1 = json.loads(js)"
   ]
  },
  {
   "cell_type": "code",
   "execution_count": 30,
   "id": "63f8655c",
   "metadata": {},
   "outputs": [
    {
     "data": {
      "text/plain": [
       "'Naveen'"
      ]
     },
     "execution_count": 30,
     "metadata": {},
     "output_type": "execute_result"
    }
   ],
   "source": [
    "dict1['Name']"
   ]
  },
  {
   "cell_type": "code",
   "execution_count": 31,
   "id": "c8aab6d1",
   "metadata": {},
   "outputs": [
    {
     "data": {
      "text/plain": [
       "dict"
      ]
     },
     "execution_count": 31,
     "metadata": {},
     "output_type": "execute_result"
    }
   ],
   "source": [
    "type(dict1)"
   ]
  },
  {
   "cell_type": "code",
   "execution_count": 43,
   "id": "3065ba18",
   "metadata": {},
   "outputs": [],
   "source": [
    "js = json.dumps(dict1)"
   ]
  },
  {
   "cell_type": "code",
   "execution_count": 42,
   "id": "ae01dde6",
   "metadata": {
    "scrolled": true
   },
   "outputs": [
    {
     "name": "stdout",
     "output_type": "stream",
     "text": [
      "{\n",
      "   \"Name\": \"Naveen\",\n",
      "   \"subject\": \"Python\"\n",
      "}\n"
     ]
    }
   ],
   "source": [
    "print(json.dumps(dict1,indent = 3))"
   ]
  },
  {
   "cell_type": "code",
   "execution_count": 44,
   "id": "093a03a5",
   "metadata": {},
   "outputs": [
    {
     "data": {
      "text/plain": [
       "str"
      ]
     },
     "execution_count": 44,
     "metadata": {},
     "output_type": "execute_result"
    }
   ],
   "source": [
    "type(js)"
   ]
  },
  {
   "cell_type": "code",
   "execution_count": 46,
   "id": "4894c56c",
   "metadata": {},
   "outputs": [
    {
     "data": {
      "text/plain": [
       "{'Name': 'Naveen', 'subject': 'Python'}"
      ]
     },
     "execution_count": 46,
     "metadata": {},
     "output_type": "execute_result"
    }
   ],
   "source": [
    "dict1"
   ]
  },
  {
   "cell_type": "code",
   "execution_count": 49,
   "id": "e0b94474",
   "metadata": {},
   "outputs": [],
   "source": [
    "with open('My_json.json', 'w') as f:\n",
    "    json.dump(dict1, f)"
   ]
  },
  {
   "cell_type": "code",
   "execution_count": null,
   "id": "13fd89a1",
   "metadata": {},
   "outputs": [],
   "source": []
  }
 ],
 "metadata": {
  "kernelspec": {
   "display_name": "Python 3 (ipykernel)",
   "language": "python",
   "name": "python3"
  },
  "language_info": {
   "codemirror_mode": {
    "name": "ipython",
    "version": 3
   },
   "file_extension": ".py",
   "mimetype": "text/x-python",
   "name": "python",
   "nbconvert_exporter": "python",
   "pygments_lexer": "ipython3",
   "version": "3.9.12"
  }
 },
 "nbformat": 4,
 "nbformat_minor": 5
}
